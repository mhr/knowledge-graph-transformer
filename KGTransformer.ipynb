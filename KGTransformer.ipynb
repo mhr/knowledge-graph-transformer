{
 "cells": [
  {
   "cell_type": "markdown",
   "metadata": {},
   "source": [
    "# JAX GPU Test"
   ]
  },
  {
   "cell_type": "code",
   "execution_count": 1,
   "metadata": {},
   "outputs": [
    {
     "name": "stdout",
     "output_type": "stream",
     "text": [
      "Available devices: [CudaDevice(id=0)]\n"
     ]
    }
   ],
   "source": [
    "import os\n",
    "os.environ[\"CUDA_VISIBLE_DEVICES\"] = \"0\"\n",
    "\n",
    "import jax\n",
    "import jax.numpy as jnp\n",
    "\n",
    "jnp.array(1.)\n",
    "print(\"Available devices:\", jax.devices())"
   ]
  },
  {
   "cell_type": "markdown",
   "metadata": {},
   "source": [
    "# Load Dataset"
   ]
  },
  {
   "cell_type": "code",
   "execution_count": 2,
   "metadata": {},
   "outputs": [
    {
     "name": "stdout",
     "output_type": "stream",
     "text": [
      "Sample of generated dataset:\n",
      "Example 1: 1 4 39 5 25 6 94 3 0 0...\n",
      "         (Original: [CLS] Is person65 the term8 of person8 ? | Label: 1)\n",
      "Example 2: 1 4 109 5 20 6 60 3 0 0...\n",
      "         (Original: [CLS] Is person20 the term20 of person21 ? | Label: 1)\n",
      "Example 3: 1 4 69 5 25 6 76 3 0 0...\n",
      "         (Original: [CLS] Is person41 the term8 of person15 ? | Label: 0)\n",
      "Example 4: 1 4 65 5 17 6 41 3 0 0...\n",
      "         (Original: [CLS] Is person24 the term4 of person11 ? | Label: 1)\n",
      "Example 5: 1 4 63 5 100 6 89 3 0 0...\n",
      "         (Original: [CLS] Is person67 the term22 of person27 ? | Label: 0)\n",
      "\n",
      "Dataset statistics:\n",
      "Total examples: 17088\n",
      "Positive examples: 8544 (50.00%)\n",
      "Negative examples: 8544 (50.00%)\n",
      "Vocabulary size: 136\n"
     ]
    },
    {
     "data": {
      "text/plain": [
       "(array([[  1,   4,  39, ...,   0,   0,   0],\n",
       "        [  1,   4, 109, ...,   0,   0,   0],\n",
       "        [  1,   4,  69, ...,   0,   0,   0],\n",
       "        ...,\n",
       "        [  1,   4,  68, ...,   0,   0,   0],\n",
       "        [  1,   4, 110, ...,   0,   0,   0],\n",
       "        [  1,   4,  19, ...,   0,   0,   0]],\n",
       "       shape=(17088, 25), dtype=int32),\n",
       " array([1, 1, 0, ..., 0, 0, 1], shape=(17088,), dtype=int32))"
      ]
     },
     "execution_count": 2,
     "metadata": {},
     "output_type": "execute_result"
    }
   ],
   "source": [
    "import dataset_util\n",
    "\n",
    "tokenized_examples, labels, vocabulary, inverse_vocabulary = dataset_util.main(max_length=25,\n",
    "                                                                  seed=0,\n",
    "                                                                  root_dir=\"KGDatasets/Kinship\",\n",
    "                                                                  split=\"train\")\n",
    "tokenized_examples, labels"
   ]
  },
  {
   "cell_type": "code",
   "execution_count": null,
   "metadata": {},
   "outputs": [
    {
     "name": "stdout",
     "output_type": "stream",
     "text": [
      "train: (11961, 25) (11961,)\n",
      "val:   (1709, 25) (1709,)\n",
      "test:  (3418, 25) (3418,)\n"
     ]
    }
   ],
   "source": [
    "from sklearn.model_selection import train_test_split\n",
    "\n",
    "#   tokenized_examples: ndarray, shape=(17088, 25)\n",
    "#   labels:               ndarray, shape=(17088,)\n",
    "seed = 0\n",
    "\n",
    "# 1) First split off 20% of data for (val+test), keeping class balance\n",
    "X_temp, X_test, y_temp, y_test = train_test_split(\n",
    "    tokenized_examples,      # all examples\n",
    "    labels,                  # all labels\n",
    "    test_size=0.20,          # 20% -> this will be further split to 10% val, 10% test\n",
    "    random_state=seed,       # for reproducibility\n",
    "    stratify=labels          # preserve label ratio\n",
    ")\n",
    "\n",
    "# 2) From the remaining 80% (X_temp, y_temp), split off 12.5% of *that* as validation\n",
    "#    12.5% of 80% = 0.10 of the original full set\n",
    "X_train, X_val, y_train, y_val = train_test_split(\n",
    "    X_temp,\n",
    "    y_temp,\n",
    "    test_size=0.125,         # 12.5% of X_temp -> 10% of original full\n",
    "    random_state=seed,\n",
    "    stratify=y_temp\n",
    ")\n",
    "\n",
    "# Now you have:\n",
    "#   X_train: (0.80 * 17088 ≃ 13670, 25)\n",
    "#   y_train: (13670,)\n",
    "#   X_val:   (0.10 * 17088 ≃ 1709, 25)\n",
    "#   y_val:   (1709,)\n",
    "#   X_test:  (0.10 * 17088 ≃ 1709, 25)\n",
    "#   y_test:  (1709,)\n",
    "\n",
    "print(\"train:\",  X_train.shape, y_train.shape)\n",
    "print(\"val:  \",  X_val.shape,   y_val.shape)\n",
    "print(\"test: \",  X_test.shape,  y_test.shape)"
   ]
  },
  {
   "cell_type": "markdown",
   "metadata": {},
   "source": [
    "# Quaternionic MLP + Riemannian Adam"
   ]
  },
  {
   "cell_type": "code",
   "execution_count": null,
   "metadata": {},
   "outputs": [
    {
     "name": "stdout",
     "output_type": "stream",
     "text": [
      "MLP Euclidean optimization test passed.\n",
      "All quaternionic array tests passed.\n"
     ]
    }
   ],
   "source": [
    "import jax.random as jr\n",
    "import jax\n",
    "import jax.numpy as jnp\n",
    "import equinox as eqx\n",
    "from typing import List, Optional\n",
    "\n",
    "def hamilton_prod(a: jnp.ndarray, b: jnp.ndarray) -> jnp.ndarray:\n",
    "    \"\"\"\n",
    "    Compute the Hamilton product of two quaternions a and b,\n",
    "    each represented as a 1D array of shape (4,).\n",
    "    \"\"\"\n",
    "    ar, ai, aj, ak = a[0], a[1], a[2], a[3]\n",
    "    br, bi, bj, bk = b[0], b[1], b[2], b[3]\n",
    "\n",
    "    r = ar * br - ai * bi - aj * bj - ak * bk\n",
    "    i = ar * bi + ai * br + aj * bk - ak * bj\n",
    "    j = ar * bj - ai * bk + aj * br + ak * bi\n",
    "    k = ar * bk + ai * bj - aj * bi + ak * br\n",
    "\n",
    "    return jnp.array([r, i, j, k])\n",
    "\n",
    "\n",
    "def quaternion_exp(q: jnp.ndarray) -> jnp.ndarray:\n",
    "    \"\"\"\n",
    "    Slice-regular quaternionic exponential on array (..., 4).\n",
    "    \"\"\"\n",
    "    # Split scalar and vector part\n",
    "    r = q[..., 0]              # shape (...,)\n",
    "    v = q[..., 1:]             # shape (..., 3)\n",
    "\n",
    "    # Magnitude of vector part\n",
    "    norm_v = jnp.linalg.norm(v, axis=-1, keepdims=True)  # (..., 1)\n",
    "\n",
    "    # Compute exp(a) * (cos||v||, sin||v|| * v/||v||)\n",
    "    exp_r = jnp.exp(r)[..., None]  # (..., 1)\n",
    "    cos_t = jnp.cos(norm_v)         # (..., 1)\n",
    "    sin_t = jnp.sin(norm_v)         # (..., 1)\n",
    "\n",
    "    # Unit vector of v, safely\n",
    "    v_unit = jnp.where(norm_v > 1e-7, v / norm_v, 0.0)  # (..., 3)\n",
    "\n",
    "    # Combine\n",
    "    real_part   = exp_r * cos_t            # (..., 1)\n",
    "    vector_part = exp_r * sin_t * v_unit   # (..., 3)\n",
    "\n",
    "    return jnp.concatenate([real_part, vector_part], axis=-1)\n",
    "\n",
    "\n",
    "def quaternion_log(q: jnp.ndarray) -> jnp.ndarray:\n",
    "    \"\"\"\n",
    "    Slice-regular quaternionic logarithm on array (..., 4).\n",
    "    \"\"\"\n",
    "    # Norm of quaternion\n",
    "    norm_q = jnp.linalg.norm(q, axis=-1, keepdims=True)  # (..., 1)\n",
    "\n",
    "    # Scalar and vector parts\n",
    "    r = q[..., 0:1]       # (..., 1)\n",
    "    v = q[..., 1:]        # (..., 3)\n",
    "\n",
    "    # Log of norm\n",
    "    ln_norm = jnp.log(norm_q)  # (..., 1)\n",
    "\n",
    "    # Angle for vector direction\n",
    "    ratio = jnp.clip(r / norm_q, -1 + 1e-6, 1 - 1e-6)  # (..., 1)\n",
    "    theta = jnp.arccos(ratio)                         # (..., 1)\n",
    "\n",
    "    # Unit vector of v\n",
    "    norm_v = jnp.linalg.norm(v, axis=-1, keepdims=True)  # (..., 1)\n",
    "    v_unit = jnp.where(norm_v > 1e-7, v / norm_v, 0.0)    # (..., 3)\n",
    "\n",
    "    vector_part = theta * v_unit  # (..., 3)\n",
    "\n",
    "    return jnp.concatenate([ln_norm, vector_part], axis=-1)\n",
    "\n",
    "\n",
    "def quaternion_softplus(q: jnp.ndarray) -> jnp.ndarray:\n",
    "    \"\"\"\n",
    "    Slice-regular softplus: f(q) = log(1 + exp(q)).\n",
    "    \"\"\"\n",
    "    one = jnp.array([1.0, 0.0, 0.0, 0.0])\n",
    "    exp_q = quaternion_exp(q)\n",
    "    return quaternion_log(one + exp_q)\n",
    "\n",
    "\n",
    "class QuaternionLinear(eqx.Module):\n",
    "    weight: jnp.ndarray       # shape (out, in, 4)\n",
    "    bias: Optional[jnp.ndarray]  # shape (out, 4)\n",
    "\n",
    "    def __init__(\n",
    "        self,\n",
    "        in_features: int,\n",
    "        out_features: int,\n",
    "        key: jnp.ndarray,\n",
    "        bias: bool = True\n",
    "    ):\n",
    "        w_key, b_key = jr.split(key)\n",
    "        scale = 1.0 / jnp.sqrt(in_features)\n",
    "\n",
    "        # Weight: independent normals per component\n",
    "        self.weight = (\n",
    "            jr.normal(w_key, (out_features, in_features, 4))\n",
    "            * scale\n",
    "        )\n",
    "\n",
    "        # Bias if enabled\n",
    "        self.bias = (\n",
    "            jr.normal(b_key, (out_features, 4)) * scale\n",
    "        ) if bias else None\n",
    "\n",
    "    def __call__(self, x: jnp.ndarray) -> jnp.ndarray:\n",
    "        \"\"\"\n",
    "        x: shape (in, 4)\n",
    "        returns: shape (out, 4)\n",
    "        \"\"\"\n",
    "        # For each output row, do Hamilton product and sum over inputs\n",
    "        def compute_row(w_row):  # w_row: (in, 4)\n",
    "            prods = jax.vmap(hamilton_prod)(w_row, x)  # (in, 4)\n",
    "            return jnp.sum(prods, axis=0)             # (4,)\n",
    "\n",
    "        out = jax.vmap(compute_row)(self.weight)     # (out, 4)\n",
    "\n",
    "        if self.bias is not None:\n",
    "            out = out + self.bias\n",
    "\n",
    "        return out\n",
    "\n",
    "\n",
    "class QuaternionMLP(eqx.Module):\n",
    "    \"\"\"\n",
    "    Slice-regular MLP with quaternionic weights and softplus activation.\n",
    "    \"\"\"\n",
    "    layers: List[QuaternionLinear]\n",
    "\n",
    "    def __init__(\n",
    "        self,\n",
    "        in_features: int,\n",
    "        hidden_features: int,\n",
    "        out_features: int,\n",
    "        key: jnp.ndarray,\n",
    "        num_layers: int = 2\n",
    "    ):\n",
    "        keys = jr.split(key, num_layers)\n",
    "        layers: List[QuaternionLinear] = []\n",
    "        d_in = in_features\n",
    "\n",
    "        # Hidden layers\n",
    "        for k in keys[:-1]:\n",
    "            layers.append(\n",
    "                QuaternionLinear(d_in, hidden_features, key=k)\n",
    "            )\n",
    "            d_in = hidden_features\n",
    "\n",
    "        # Final layer\n",
    "        layers.append(\n",
    "            QuaternionLinear(d_in, out_features, key=keys[-1])\n",
    "        )\n",
    "\n",
    "        self.layers = layers\n",
    "\n",
    "    def __call__(self, x: jnp.ndarray) -> jnp.ndarray:\n",
    "        \"\"\"\n",
    "        Forward through slice-regular MLP.\n",
    "        x: (in_features, 4)\n",
    "        returns: (out_features, 4)\n",
    "        \"\"\"\n",
    "        for layer in self.layers[:-1]:\n",
    "            x = layer(x)\n",
    "            x = quaternion_softplus(x)\n",
    "\n",
    "        # No activation on last layer\n",
    "        x = self.layers[-1](x)\n",
    "        return x\n",
    "\n",
    "\n",
    "# --- Riemannian SGD for quaternion-array parameters ---\n",
    "\n",
    "def project_tangent(\n",
    "    p: jnp.ndarray,\n",
    "    g: jnp.ndarray\n",
    ") -> jnp.ndarray:\n",
    "    \"\"\"\n",
    "    Project Euclidean gradient g onto the tangent space of unit-sphere constraint.\n",
    "    p, g can be shapes (d, 4) or (out, in, 4).\n",
    "    \"\"\"\n",
    "    flat_p = p.reshape(-1)\n",
    "    flat_g = g.reshape(-1)\n",
    "    inner = jnp.vdot(flat_p, flat_g)\n",
    "    proj_flat = flat_g - inner * flat_p\n",
    "    return proj_flat.reshape(p.shape)\n",
    "\n",
    "\n",
    "def retraction(\n",
    "    p: jnp.ndarray,\n",
    "    g: jnp.ndarray,\n",
    "    lr: float\n",
    ") -> jnp.ndarray:\n",
    "    \"\"\"\n",
    "    Perform retraction: p <- normalize(p - lr * proj_tangent(p, g)).\n",
    "    \"\"\"\n",
    "    pt = project_tangent(p, g)\n",
    "    p2 = p - lr * pt\n",
    "    norm_p2 = jnp.linalg.norm(p2.reshape(-1))\n",
    "    return p2 / norm_p2\n",
    "\n",
    "\n",
    "def riemannian_sgd_update(\n",
    "    params,\n",
    "    grads,\n",
    "    lr: float\n",
    "):\n",
    "    \"\"\"\n",
    "    Apply Riemannian SGD update across parameter pytree.\n",
    "    Quaternion-array params (last dim 4) get manifold steps; others get Euclidean SGD.\n",
    "    \"\"\"\n",
    "    def update_param(p, g):\n",
    "        if p.ndim in (2, 3) and p.shape[-1] == 4:\n",
    "            return retraction(p, g, lr)\n",
    "        else:\n",
    "            return p - lr * g\n",
    "\n",
    "    return jax.tree.map(update_param, params, grads)\n",
    "\n",
    "\n",
    "def _test_hamilton_prod():\n",
    "    \"\"\"\n",
    "    Test Hamilton product on a quaternionic vector of shape (d, 4) via vmap.\n",
    "    \"\"\"\n",
    "    # base quaternions\n",
    "    q1 = jnp.array([1., 0., 0., 0.])\n",
    "    q2 = jnp.array([0., 1., 0., 0.])\n",
    "    # stack into a vector of two quaternions\n",
    "    qs1 = jnp.stack([q1, q1], axis=0)  # (2, 4)\n",
    "    qs2 = jnp.stack([q2, q2], axis=0)  # (2, 4)\n",
    "    # apply Hamilton product elementwise\n",
    "    res = jax.vmap(hamilton_prod)(qs1, qs2)  # (2, 4)\n",
    "    expected = jnp.stack([jnp.array([0., 1., 0., 0.])] * 2, axis=0)\n",
    "    assert res.shape == (2, 4), f\"hamilton_prod vector shape {res.shape}\"\n",
    "    assert jnp.allclose(res, expected), f\"hamilton_prod failed: {res} vs {expected}\"\n",
    "\n",
    "\n",
    "def _test_softplus_log_exp():\n",
    "    \"\"\"\n",
    "    Test slice-regular softplus on a quaternionic vector of shape (d, 4).\n",
    "    \"\"\"\n",
    "    # vector of two zero quaternions\n",
    "    qs = jnp.zeros((2, 4))\n",
    "    # apply softplus via vmap\n",
    "    sp = jax.vmap(quaternion_softplus)(qs)  # (2, 4)\n",
    "    # check real parts equal ln2\n",
    "    real_parts = sp[:, 0]\n",
    "    assert jnp.allclose(real_parts, jnp.log(2.0)), f\"softplus real parts wrong: {real_parts}\"\n",
    "    # check imaginary parts zero\n",
    "    imag_parts = sp[:, 1:]\n",
    "    assert jnp.allclose(imag_parts, 0.0), f\"softplus imag parts nonzero: {imag_parts}\"\n",
    "\n",
    "\n",
    "def _test_softplus_log_exp():\n",
    "    q = jnp.zeros(4)\n",
    "    sp = quaternion_softplus(q)\n",
    "    assert jnp.isclose(sp[0], jnp.log(2.0)), \"softplus real part wrong\"\n",
    "    assert jnp.allclose(sp[1:], 0.0), \"softplus imag parts nonzero\"\n",
    "\n",
    "\n",
    "def _test_linear_and_mlp():\n",
    "    key = jr.PRNGKey(0)\n",
    "\n",
    "    # Linear layer test\n",
    "    layer = QuaternionLinear(3, 2, key)\n",
    "    x = jr.normal(key, (3, 4))\n",
    "    out = layer(x)\n",
    "    assert out.shape == (2, 4), f\"Linear output shape: {out.shape}\"\n",
    "\n",
    "    # MLP test\n",
    "    mlp = QuaternionMLP(3, 5, 2, key)\n",
    "    out2 = mlp(x)\n",
    "    assert out2.shape == (2, 4), f\"MLP output shape: {out2.shape}\"\n",
    "\n",
    "\n",
    "def _test_riemannian_sgd():\n",
    "    lr = 0.1\n",
    "    steps = 50\n",
    "    d = 5\n",
    "    rng = jr.PRNGKey(1)\n",
    "\n",
    "    # Initialize quaternionic vector P\n",
    "    P0 = jr.normal(rng, (d, 4))\n",
    "    P0 = P0 / jnp.linalg.norm(P0.reshape(-1))\n",
    "\n",
    "    # Target: all real unit quaternions\n",
    "    T = jnp.tile(jnp.array([1.0, 0.0, 0.0, 0.0]), (d, 1))\n",
    "\n",
    "    def loss_fn(P):\n",
    "        Pn = P / jnp.linalg.norm(P.reshape(-1))\n",
    "        return jnp.sum((Pn - T) ** 2)\n",
    "\n",
    "    P = P0\n",
    "    init_loss = loss_fn(P)\n",
    "    for _ in range(steps):\n",
    "        grad_P = jax.grad(loss_fn)(P)\n",
    "        P = retraction(P, grad_P, lr)\n",
    "\n",
    "    final_loss = loss_fn(P)\n",
    "    assert final_loss < init_loss, (\n",
    "        f\"Riemannian SGD failed: init {init_loss}, final {final_loss}\"\n",
    "    )\n",
    "\n",
    "\n",
    "def mlp_logits(x: jnp.ndarray, mlp: QuaternionMLP) -> jnp.ndarray:\n",
    "    \"\"\"Compute a single logit via inner product with a hyperplane probe.\"\"\"\n",
    "    probe = jnp.array([1, 0, 0, 0])\n",
    "    out = mlp(x)[0]                            # (4,)\n",
    "    return jnp.dot(out, probe)\n",
    "\n",
    "\n",
    "def mlp_bce_loss(logit: jnp.ndarray, label: float) -> jnp.ndarray:\n",
    "    \"\"\"Binary cross-entropy for scalar logit.\"\"\"\n",
    "    return -(\n",
    "        label * jax.nn.log_sigmoid(logit) +\n",
    "        (1.0 - label) * jax.nn.log_sigmoid(-logit)\n",
    "    )\n",
    "\n",
    "\n",
    "def _test_mlp_classifier():\n",
    "    \"\"\"\n",
    "    Test that the QuaternionMLP can be optimized with standard Euclidean SGD.\n",
    "    \"\"\"\n",
    "    key = jr.PRNGKey(0)\n",
    "    mlp = QuaternionMLP(3, 5, 1, key)\n",
    "    x = jr.normal(key, (3, 4))\n",
    "    label = 1.0\n",
    "\n",
    "    # Define loss and logit functions\n",
    "    def loss_fn(m):\n",
    "        logit = mlp_logits(x, m)\n",
    "        return mlp_bce_loss(logit, label)\n",
    "\n",
    "    # Initial loss\n",
    "    init_loss = loss_fn(mlp)\n",
    "\n",
    "    # Perform several steps of standard SGD\n",
    "    lr = 0.01\n",
    "    params = mlp\n",
    "    for _ in range(10):\n",
    "        grads = jax.grad(loss_fn)(params)\n",
    "        params = jax.tree.map(lambda p, g: p - lr * g, params, grads)\n",
    "\n",
    "    # Check that loss has decreased\n",
    "    final_loss = loss_fn(params)\n",
    "    assert final_loss < init_loss, (\n",
    "        f\"Euclidean SGD failed: init={init_loss:.6f}, final={final_loss:.6f}\"\n",
    "    )\n",
    "    print(\"MLP Euclidean optimization test passed.\")\n",
    "\n",
    "\n",
    "_test_hamilton_prod()\n",
    "_test_softplus_log_exp()\n",
    "_test_linear_and_mlp()\n",
    "_test_riemannian_sgd()\n",
    "_test_mlp_classifier()\n",
    "print(\"All quaternionic array tests passed.\")"
   ]
  },
  {
   "cell_type": "code",
   "execution_count": null,
   "metadata": {},
   "outputs": [],
   "source": [
    "class QuaternionSelfAttention(eqx.Module):\n",
    "    \"\"\"\n",
    "    Multi-head self-attention over sequences of quaternion-vectors.\n",
    "    Input x: shape (T, d, 4), returns same shape.\n",
    "    \"\"\"\n",
    "    num_heads: int = eqx.static_field()\n",
    "    d: int = eqx.static_field()\n",
    "    relations: jnp.ndarray         # shape (H, d, 4)\n",
    "    output_linear: QuaternionLinear\n",
    "\n",
    "    def __init__(self, d: int, num_heads: int, key: jnp.ndarray):\n",
    "        keys = jax.random.split(key, num_heads + 1)\n",
    "        rels = []\n",
    "        for i in range(num_heads):\n",
    "            r = jax.random.normal(keys[i], (d, 4))\n",
    "            # normalize each quaternion slot\n",
    "            r = r / jnp.linalg.norm(r, axis=-1, keepdims=True)\n",
    "            rels.append(r)\n",
    "        self.relations = jnp.stack(rels, axis=0)  # (H, d, 4)\n",
    "        self.num_heads = num_heads\n",
    "        self.d = d\n",
    "        # projection from H*d slots -> d slots\n",
    "        self.output_linear = QuaternionLinear(num_heads * d, d, key=keys[-1])\n",
    "\n",
    "    def __call__(self, x: jnp.ndarray) -> jnp.ndarray:\n",
    "        \"\"\"\n",
    "        x: (T, d, 4)\n",
    "        returns: (T, d, 4)\n",
    "        \"\"\"\n",
    "        H = self.num_heads\n",
    "        d = self.d\n",
    "\n",
    "        def attend_one(x_seq):\n",
    "            # x_seq: (d,4)\n",
    "            # compute queries: shape (H, d, 4)\n",
    "            Q = jax.vmap(lambda r: jax.vmap(hamilton_prod)(x_seq, r))(self.relations)\n",
    "            # keys = values = x_seq, broadcast\n",
    "            K = jnp.broadcast_to(x_seq[None, ...], (H, d, 4))\n",
    "            # compute logits per head: (H, d, d)\n",
    "            def head_logits(Qh, Kh):\n",
    "                return jnp.dot(Qh, Kh.T)\n",
    "            scale = 1.0 / jnp.sqrt(4 * self.d)\n",
    "            logits = jax.vmap(head_logits)(Q, K) * scale\n",
    "            weights = jax.nn.softmax(logits, axis=-1)   # (H, d, d)\n",
    "            # weighted sum per head: (H, d, 4)\n",
    "            def head_context(Wh, Kh):\n",
    "                return jnp.dot(Wh, Kh)\n",
    "            context = jax.vmap(head_context)(weights, K)\n",
    "            # concat heads: (H*d, 4)\n",
    "            concat = context.reshape(H * d, 4)\n",
    "            # project back to (d,4)\n",
    "            return self.output_linear(concat)\n",
    "\n",
    "        # vmap over time dimension T\n",
    "        return jax.vmap(attend_one)(x)\n",
    "\n",
    "\n",
    "def retract_S3_vector(x: jnp.ndarray, eps: float = 1e-8) -> jnp.ndarray:\n",
    "    \"\"\"Retract each quaternion in x (shape (d,4)) to unit norm.\"\"\"\n",
    "    norms = jnp.linalg.norm(x, axis=-1, keepdims=True)\n",
    "    return x / jnp.clip(norms, a_min=eps)\n",
    "\n",
    "\n",
    "def quaternion_rope(max_len: int, d: int) -> jnp.ndarray:\n",
    "    \"\"\"\n",
    "    Build quaternionic Rotary Positional Encodings (RoPE) of shape (max_len, d, 4),\n",
    "    where each (t,j) entry is a unit quaternion [cos(ω_j t), sin(ω_j t) * u_j].\n",
    "    \"\"\"\n",
    "    # 1) frequencies ω_j = 1 / 10000^(j/d)\n",
    "    idx = jnp.arange(d)\n",
    "    inv_freq = 1.0 / (10000 ** (idx / d))            # shape (d,)\n",
    "\n",
    "    # 2) choose a pure‐imag axis for each slot j: cycle through i,j,k\n",
    "    #    encoded as 3d vectors along (x=i, y=j, z=k)\n",
    "    axes = jnp.array([[1,0,0], [0,1,0], [0,0,1]])\n",
    "    u = axes[idx % 3]                                # (d, 3)\n",
    "\n",
    "    # 3) build angles: (max_len, d) = t * ω_j\n",
    "    t = jnp.arange(max_len)[:, None]                 # (max_len, 1)\n",
    "    angles = t * inv_freq[None, :]                   # (max_len, d)\n",
    "\n",
    "    # 4) real part = cos(angle), vector part = sin(angle) * u_j\n",
    "    real = jnp.cos(angles)[..., None]                # (max_len, d, 1)\n",
    "    vec  = (jnp.sin(angles)[..., None] * u[None, ...])  # (max_len, d, 3)\n",
    "\n",
    "    # 5) concatenate to full quaternion\n",
    "    return jnp.concatenate([real, vec], axis=-1)     # (max_len, d, 4)\n",
    "\n",
    "\n",
    "def apply_qrope(x: jnp.ndarray, rope: jnp.ndarray) -> jnp.ndarray:\n",
    "    # x: (d, 4)\n",
    "    # PE: (T, d, 4)\n",
    "    # Hamilton product batched over (T, d):\n",
    "    hprod = jax.vmap(jax.vmap(hamilton_prod, in_axes=(0,0)), in_axes=(0,0))\n",
    "    return hprod(rope, x)  # still shape (T, d, 4)\n",
    "\n",
    "\n",
    "class QuaternionEmbedding(eqx.Module):\n",
    "    embeddings: jnp.ndarray  # shape (num_entities, d, 4)\n",
    "\n",
    "    def __init__(self, num_entities: int, d: int, key: jnp.ndarray):\n",
    "        # random normals -> normalize each quaternion slot to unit length\n",
    "        e = jax.random.normal(key, (num_entities, d, 4))\n",
    "        e = jnp.nan_to_num(e / jnp.linalg.norm(e, axis=-1, keepdims=True))\n",
    "        self.embeddings = e\n",
    "\n",
    "    def __call__(self, idx: int) -> jnp.ndarray:\n",
    "        return self.embeddings[idx]\n",
    "\n",
    "\n",
    "class KGTransformer(eqx.Module):\n",
    "    embed: QuaternionEmbedding\n",
    "    att: QuaternionSelfAttention\n",
    "    mlp: QuaternionMLP\n",
    "    logit_projection: QuaternionLinear\n",
    "    max_len: int = eqx.static_field()\n",
    "    d: int = eqx.static_field()\n",
    "\n",
    "    def __init__(self, d: int, num_entities: int, num_heads: int, max_len: int, key: jnp.ndarray):\n",
    "        key, embed_key, mlp_key, att_key, logit_key = jax.random.split(key, 5)\n",
    "\n",
    "        self.embed             = QuaternionEmbedding(num_entities, d, embed_key)\n",
    "        self.att               = QuaternionSelfAttention(d, num_heads, att_key)\n",
    "        self.mlp               = QuaternionMLP(d, d*2, d, mlp_key)\n",
    "        self.logit_projection  = QuaternionLinear(d, 1, key=logit_key)\n",
    "        self.max_len = max_len\n",
    "        self.d = d\n",
    "\n",
    "    def __call__(self, ids: jnp.ndarray) -> jnp.ndarray:\n",
    "        \"\"\"\n",
    "        x: (T,) inters\n",
    "        returns: scalar logit for the sequence = real-part of the T=0 quaternion\n",
    "        \"\"\"\n",
    "        # 0) embed -> x: (T, d, 4)\n",
    "        x = jax.vmap(self.embed)(ids)\n",
    "\n",
    "        # 0.5) apply quaternionic RoPE\n",
    "        qrope = quaternion_rope(self.max_len, self.d)\n",
    "        x = apply_qrope(x, qrope)                    # (T, d, 4)\n",
    "\n",
    "        # 1) Self‐attention + residual + per‐slot S^3 retraction\n",
    "        #    att(x) returns (T, d, 4), same as x\n",
    "        retract = jax.vmap(lambda xt, ht: retract_S3_vector(xt + ht))\n",
    "        h = self.att(x)\n",
    "        h = retract(x, h)\n",
    "\n",
    "        # 2) MLP + residual + S^3 retraction\n",
    "        m = jax.vmap(self.mlp)(h)\n",
    "        m = retract(h, m)\n",
    "\n",
    "        # 3) Quaternion‐logit projection: per time‐step\n",
    "        #    -> q_seq: (T, 1, 4) -> squeeze to (T,4)\n",
    "        q_seq = jax.vmap(self.logit_projection)(m)[:, 0, :]\n",
    "\n",
    "        # 4) Extract only the first time step's real‐axis logit\n",
    "        probe = jnp.array([1.0, 0.0, 0.0, 0.0])\n",
    "        q0 = q_seq[0]\n",
    "        q0_norm = jnp.linalg.norm(q0)\n",
    "        \n",
    "        # Safely normalize\n",
    "        safe_q0 = jnp.where(\n",
    "            q0_norm > 1e-8,\n",
    "            q0 / q0_norm,\n",
    "            jnp.array([1.0, 0.0, 0.0, 0.0])  # Default to unit quaternion if norm is too small\n",
    "        )\n",
    "        return jnp.dot(probe, safe_q0)        # scalar logit"
   ]
  },
  {
   "cell_type": "code",
   "execution_count": null,
   "metadata": {},
   "outputs": [
    {
     "name": "stdout",
     "output_type": "stream",
     "text": [
      "KGTransformer(\n",
      "  embed=QuaternionEmbedding(embeddings=f32[136,256,4]),\n",
      "  att=QuaternionSelfAttention(\n",
      "    num_heads=2,\n",
      "    d=256,\n",
      "    relations=f32[2,256,4],\n",
      "    output_linear=QuaternionLinear(weight=f32[256,512,4], bias=f32[256,4])\n",
      "  ),\n",
      "  mlp=QuaternionMLP(\n",
      "    layers=[\n",
      "      QuaternionLinear(weight=f32[512,256,4], bias=f32[512,4]),\n",
      "      QuaternionLinear(weight=f32[256,512,4], bias=f32[256,4])\n",
      "    ]\n",
      "  ),\n",
      "  logit_projection=QuaternionLinear(weight=f32[1,256,4], bias=f32[1,4]),\n",
      "  max_len=25,\n",
      "  d=256\n",
      ")\n",
      "✅ All tests passed.\n"
     ]
    }
   ],
   "source": [
    "def _test_quaternion_self_attention():\n",
    "    d = 4\n",
    "    H = 2\n",
    "    T = 25\n",
    "    key = jr.PRNGKey(0)\n",
    "    att = QuaternionSelfAttention(d, H, key)\n",
    "\n",
    "    x = jr.normal(jr.split(key)[1], (T, d, 4))\n",
    "    y = att(x)\n",
    "    assert y.shape == (T, d, 4)\n",
    "\n",
    "    norms = jnp.linalg.norm(att.relations, axis=-1)\n",
    "    assert jnp.allclose(norms, 1.0, atol=1e-6)\n",
    "\n",
    "def _test_kg():\n",
    "    \"\"\"\n",
    "    Test KGTransformer forward pass over sequence and gradient flow:\n",
    "      - Input shape (T,) -> output shape ()\n",
    "      - Gradients exist on final projection weights\n",
    "    \"\"\"\n",
    "    d = 256\n",
    "    num_heads = 2\n",
    "    T = 25\n",
    "    B = 32\n",
    "    num_entities = len(vocabulary)\n",
    "    key = jr.PRNGKey(1)\n",
    "    model = KGTransformer(d, num_entities, num_heads, T, key)\n",
    "\n",
    "    # Sequence input\n",
    "    x = jr.randint(jr.split(key)[1], (B, T), minval=0, maxval=num_entities)\n",
    "    logits = jax.vmap(model)(x)\n",
    "\n",
    "    # Check output shape\n",
    "    assert isinstance(logits, jnp.ndarray), \"Logits must be a JAX array\"\n",
    "    assert logits.shape == (B,), f\"Expected logits shape ({B},), got {logits.shape}\"\n",
    "\n",
    "    # Check gradients\n",
    "    @eqx.filter_jit\n",
    "    def loss_fn(model, x):\n",
    "        return jnp.sum(jax.vmap(model)(x))  # real scalar\n",
    "    grads = eqx.filter_grad(loss_fn)(model, x)\n",
    "    print(grads)\n",
    "\n",
    "def main():\n",
    "    _test_quaternion_self_attention()\n",
    "    _test_kg()\n",
    "    print(\"✅ All tests passed.\")\n",
    "\n",
    "main()"
   ]
  },
  {
   "cell_type": "code",
   "execution_count": null,
   "metadata": {},
   "outputs": [
    {
     "name": "stdout",
     "output_type": "stream",
     "text": [
      "initial=0.892093, updated=0.645791\n",
      "✅ KGTransformer + Riemannian-Adam test passed.\n"
     ]
    }
   ],
   "source": [
    "import jax\n",
    "import jax.numpy as jnp\n",
    "import equinox as eqx\n",
    "import optax\n",
    "from typing import NamedTuple\n",
    "\n",
    "class RAdamState(NamedTuple):\n",
    "    count: jnp.ndarray\n",
    "    m:     jnp.ndarray\n",
    "    v:     jnp.ndarray\n",
    "\n",
    "def init_radam(params: jnp.ndarray,\n",
    "               lr: float = 1e-3,\n",
    "               b1: float = 0.9,\n",
    "               b2: float = 0.999,\n",
    "               eps: float = 1e-8):\n",
    "    \"\"\"\n",
    "    Initialize Riemannian Adam state for a (S^3)^d tensor.\n",
    "    \"\"\"\n",
    "    zero = jnp.zeros_like(params)\n",
    "    return RAdamState(count=jnp.array(0), m=zero, v=zero), (lr, b1, b2, eps)\n",
    "\n",
    "# 4. Completely rewrite the radam_update function for maximum stability\n",
    "def radam_update(p: jnp.ndarray,\n",
    "                 g: jnp.ndarray,\n",
    "                 state: RAdamState,\n",
    "                 hyper: tuple) -> tuple[jnp.ndarray, RAdamState]:\n",
    "    \"\"\"\n",
    "    Ultra-safe Riemannian Adam on quaternionic tensor p of shape (...,4).\n",
    "    \"\"\"\n",
    "    lr, b1, b2, eps = hyper\n",
    "    \n",
    "    # Lower learning rate\n",
    "    actual_lr = lr * 0.1  # Major reduction\n",
    "    \n",
    "    # 1) Safety check inputs\n",
    "    p = jnp.where(jnp.isnan(p), jnp.ones_like(p) * 0.01, p)\n",
    "    g = jnp.where(jnp.isnan(g), jnp.zeros_like(g), g)\n",
    "    g = jnp.clip(g, -1.0, 1.0)  # Aggressive gradient clipping\n",
    "    \n",
    "    # 2) project Euclidean gradient onto tangent space of S³\n",
    "    inner = jnp.sum(p * g, axis=-1, keepdims=True)\n",
    "    g_tan = g - p * inner\n",
    "    g_tan = jnp.clip(g_tan, -0.5, 0.5)  # Even more clipping\n",
    "    \n",
    "    # 3) update biased first/second moments with safety\n",
    "    count = state.count + 1\n",
    "    m = b1 * state.m + (1 - b1) * g_tan\n",
    "    v = b2 * state.v + (1 - b2) * (g_tan ** 2)\n",
    "    \n",
    "    # 4) bias correction with extreme safety\n",
    "    b1_power = jnp.clip(b1**count, 1e-10, 1.0 - 1e-10)\n",
    "    b2_power = jnp.clip(b2**count, 1e-10, 1.0 - 1e-10)\n",
    "    \n",
    "    m_hat = m / (1.0 - b1_power)\n",
    "    v_hat = v / (1.0 - b2_power)\n",
    "    \n",
    "    # 5) Clip moment estimates to prevent explosions\n",
    "    m_hat = jnp.clip(m_hat, -1.0, 1.0)\n",
    "    v_hat = jnp.clip(v_hat, 1e-7, 1.0)\n",
    "    \n",
    "    # 6) compute update direction with extreme caution\n",
    "    u = m_hat / (jnp.sqrt(v_hat) + eps * 10.0)  # Larger epsilon\n",
    "    u = jnp.clip(u, -0.5, 0.5)  # Clip update direction\n",
    "    \n",
    "    # 7) Very cautious retraction step\n",
    "    p_new = p - actual_lr * u\n",
    "    \n",
    "    # 8) Ultra-safe normalization\n",
    "    norms = jnp.linalg.norm(p_new, axis=-1, keepdims=True)\n",
    "    safe_norms = jnp.maximum(norms, 1e-5)  # Higher minimum norm\n",
    "    p_new = p_new / safe_norms\n",
    "    \n",
    "    # 9) Final safety check \n",
    "    p_new = jnp.where(jnp.isnan(p_new), p, p_new)\n",
    "    \n",
    "    return p_new, RAdamState(count=count, m=m, v=v)\n",
    "\n",
    "\n",
    "# --- End-to-end test with Riemannian Adam on embeddings & relations --- #\n",
    "\n",
    "def _test_kg_transformer_with_bce_and_riemannian_adam(\n",
    "    model: KGTransformer,\n",
    "    x: jnp.ndarray,\n",
    "    labels: jnp.ndarray,\n",
    "    vocabulary: dict\n",
    "):\n",
    "    \"\"\"\n",
    "    KGTransformer end-to-end: Optax-Adam + Riemannian-Adam.\n",
    "    \"\"\"\n",
    "    # 1) Setup optimizers/states\n",
    "    euclid_opt = optax.adam(1e-2)\n",
    "    euclid_state = euclid_opt.init(model)\n",
    "\n",
    "    emb_state, emb_hyper = init_radam(model.embed.embeddings)\n",
    "    rel_state, rel_hyper = init_radam(model.att.relations)\n",
    "\n",
    "    # 2) Loss function\n",
    "    @eqx.filter_jit\n",
    "    def loss_fn(m, xb, yb):\n",
    "        logits = jax.vmap(m)(xb)\n",
    "        losses = jax.vmap(mlp_bce_loss)(logits, yb)\n",
    "        return jnp.mean(losses)\n",
    "\n",
    "    # 3) Compute initial loss\n",
    "    initial_loss = loss_fn(model, x, labels)\n",
    "\n",
    "    # 4) Compute grads\n",
    "    loss, grads = eqx.filter_value_and_grad(loss_fn)(model, x, labels)\n",
    "\n",
    "    # 5) Euclidean Adam update on all params\n",
    "    updates, euclid_state = euclid_opt.update(grads, euclid_state, model)\n",
    "    model = optax.apply_updates(model, updates)\n",
    "\n",
    "    # 6) Riemannian Adam on entity embeddings\n",
    "    new_embs, emb_state = radam_update(\n",
    "        model.embed.embeddings,\n",
    "        grads.embed.embeddings,\n",
    "        emb_state,\n",
    "        emb_hyper\n",
    "    )\n",
    "    model = eqx.tree_at(lambda m: m.embed.embeddings, model, new_embs)\n",
    "\n",
    "    # 7) Riemannian Adam on attention relations\n",
    "    new_rels, rel_state = radam_update(\n",
    "        model.att.relations,\n",
    "        grads.att.relations,\n",
    "        rel_state,\n",
    "        rel_hyper\n",
    "    )\n",
    "    model = eqx.tree_at(lambda m: m.att.relations, model, new_rels)\n",
    "\n",
    "    # 8) Check updated loss\n",
    "    updated_loss = loss_fn(model, x, labels)\n",
    "    print(f\"initial={initial_loss:.6f}, updated={updated_loss:.6f}\")\n",
    "    assert updated_loss <= initial_loss + 1e-6\n",
    "\n",
    "    print(\"✅ KGTransformer + Riemannian-Adam test passed.\")\n",
    "\n",
    "\n",
    "\n",
    "num_entities = len(vocabulary)\n",
    "key = jax.random.PRNGKey(0)\n",
    "\n",
    "model = KGTransformer(\n",
    "    num_entities=num_entities,\n",
    "    d=256,\n",
    "    num_heads=25,\n",
    "    max_len=25,\n",
    "    key=key\n",
    ")\n",
    "\n",
    "batch_x = tokenized_examples[:32]  # shape (32, 25)\n",
    "batch_y = labels[:32]              # shape (32,)\n",
    "\n",
    "_test_kg_transformer_with_bce_and_riemannian_adam(\n",
    "    model,\n",
    "    batch_x,\n",
    "    batch_y,\n",
    "    vocabulary\n",
    ")"
   ]
  },
  {
   "cell_type": "code",
   "execution_count": null,
   "metadata": {},
   "outputs": [
    {
     "name": "stderr",
     "output_type": "stream",
     "text": [
      "  1%|          | 1/150 [01:25<3:33:31, 85.98s/it]"
     ]
    },
    {
     "name": "stdout",
     "output_type": "stream",
     "text": [
      "Epoch 0, Train Loss: 0.697526, Val Loss: 0.696957\n"
     ]
    },
    {
     "name": "stderr",
     "output_type": "stream",
     "text": [
      "  1%|▏         | 2/150 [02:28<2:57:39, 72.02s/it]"
     ]
    },
    {
     "name": "stdout",
     "output_type": "stream",
     "text": [
      "Epoch 1, Train Loss: 0.694480, Val Loss: 0.693412\n"
     ]
    },
    {
     "name": "stderr",
     "output_type": "stream",
     "text": [
      "  2%|▏         | 3/150 [03:30<2:45:31, 67.56s/it]"
     ]
    },
    {
     "name": "stdout",
     "output_type": "stream",
     "text": [
      "Epoch 2, Train Loss: 0.694245, Val Loss: 0.693512\n"
     ]
    },
    {
     "name": "stderr",
     "output_type": "stream",
     "text": [
      "  3%|▎         | 4/150 [04:32<2:39:14, 65.44s/it]"
     ]
    },
    {
     "name": "stdout",
     "output_type": "stream",
     "text": [
      "Epoch 3, Train Loss: 0.693912, Val Loss: 0.693520\n"
     ]
    },
    {
     "name": "stderr",
     "output_type": "stream",
     "text": [
      "  3%|▎         | 5/150 [05:34<2:35:17, 64.26s/it]"
     ]
    },
    {
     "name": "stdout",
     "output_type": "stream",
     "text": [
      "Epoch 4, Train Loss: 0.693598, Val Loss: 0.694904\n"
     ]
    },
    {
     "name": "stderr",
     "output_type": "stream",
     "text": [
      "  4%|▍         | 6/150 [06:37<2:32:31, 63.55s/it]"
     ]
    },
    {
     "name": "stdout",
     "output_type": "stream",
     "text": [
      "Epoch 5, Train Loss: 0.693776, Val Loss: 0.693248\n"
     ]
    },
    {
     "name": "stderr",
     "output_type": "stream",
     "text": [
      "  5%|▍         | 7/150 [07:39<2:30:22, 63.09s/it]"
     ]
    },
    {
     "name": "stdout",
     "output_type": "stream",
     "text": [
      "Epoch 6, Train Loss: 0.693590, Val Loss: 0.693537\n"
     ]
    },
    {
     "name": "stderr",
     "output_type": "stream",
     "text": [
      "  5%|▌         | 8/150 [08:41<2:28:35, 62.79s/it]"
     ]
    },
    {
     "name": "stdout",
     "output_type": "stream",
     "text": [
      "Epoch 7, Train Loss: 0.693819, Val Loss: 0.693617\n"
     ]
    },
    {
     "name": "stderr",
     "output_type": "stream",
     "text": [
      "  6%|▌         | 9/150 [09:43<2:27:03, 62.58s/it]"
     ]
    },
    {
     "name": "stdout",
     "output_type": "stream",
     "text": [
      "Epoch 8, Train Loss: 0.693796, Val Loss: 0.693227\n"
     ]
    },
    {
     "name": "stderr",
     "output_type": "stream",
     "text": [
      "  7%|▋         | 10/150 [10:45<2:25:41, 62.44s/it]"
     ]
    },
    {
     "name": "stdout",
     "output_type": "stream",
     "text": [
      "Epoch 9, Train Loss: 0.693942, Val Loss: 0.693171\n"
     ]
    },
    {
     "name": "stderr",
     "output_type": "stream",
     "text": [
      "  7%|▋         | 11/150 [11:47<2:24:24, 62.34s/it]"
     ]
    },
    {
     "name": "stdout",
     "output_type": "stream",
     "text": [
      "Epoch 10, Train Loss: 0.693431, Val Loss: 0.693209\n"
     ]
    },
    {
     "name": "stderr",
     "output_type": "stream",
     "text": [
      "  8%|▊         | 12/150 [12:49<2:23:12, 62.26s/it]"
     ]
    },
    {
     "name": "stdout",
     "output_type": "stream",
     "text": [
      "Epoch 11, Train Loss: 0.693625, Val Loss: 0.693171\n"
     ]
    },
    {
     "name": "stderr",
     "output_type": "stream",
     "text": [
      "  9%|▊         | 13/150 [13:51<2:22:03, 62.21s/it]"
     ]
    },
    {
     "name": "stdout",
     "output_type": "stream",
     "text": [
      "Epoch 12, Train Loss: 0.693507, Val Loss: 0.693173\n"
     ]
    },
    {
     "name": "stderr",
     "output_type": "stream",
     "text": [
      "  9%|▉         | 14/150 [14:53<2:20:56, 62.18s/it]"
     ]
    },
    {
     "name": "stdout",
     "output_type": "stream",
     "text": [
      "Epoch 13, Train Loss: 0.693603, Val Loss: 0.693392\n"
     ]
    },
    {
     "name": "stderr",
     "output_type": "stream",
     "text": [
      " 10%|█         | 15/150 [15:56<2:19:51, 62.16s/it]"
     ]
    },
    {
     "name": "stdout",
     "output_type": "stream",
     "text": [
      "Epoch 14, Train Loss: 0.693387, Val Loss: 0.693376\n"
     ]
    },
    {
     "name": "stderr",
     "output_type": "stream",
     "text": [
      " 11%|█         | 16/150 [16:58<2:18:46, 62.14s/it]"
     ]
    },
    {
     "name": "stdout",
     "output_type": "stream",
     "text": [
      "Epoch 15, Train Loss: 0.693509, Val Loss: 0.693179\n"
     ]
    },
    {
     "name": "stderr",
     "output_type": "stream",
     "text": [
      " 11%|█▏        | 17/150 [18:00<2:17:42, 62.12s/it]"
     ]
    },
    {
     "name": "stdout",
     "output_type": "stream",
     "text": [
      "Epoch 16, Train Loss: 0.693349, Val Loss: 0.694012\n"
     ]
    },
    {
     "name": "stderr",
     "output_type": "stream",
     "text": [
      " 12%|█▏        | 18/150 [19:02<2:16:37, 62.11s/it]"
     ]
    },
    {
     "name": "stdout",
     "output_type": "stream",
     "text": [
      "Epoch 17, Train Loss: 0.693610, Val Loss: 0.693204\n"
     ]
    },
    {
     "name": "stderr",
     "output_type": "stream",
     "text": [
      " 13%|█▎        | 19/150 [20:04<2:15:34, 62.09s/it]"
     ]
    },
    {
     "name": "stdout",
     "output_type": "stream",
     "text": [
      "Epoch 18, Train Loss: 0.699358, Val Loss: 0.813554\n"
     ]
    },
    {
     "name": "stderr",
     "output_type": "stream",
     "text": [
      " 13%|█▎        | 20/150 [21:06<2:14:30, 62.08s/it]"
     ]
    },
    {
     "name": "stdout",
     "output_type": "stream",
     "text": [
      "Epoch 19, Train Loss: 0.813161, Val Loss: 0.813554\n"
     ]
    },
    {
     "name": "stderr",
     "output_type": "stream",
     "text": [
      " 14%|█▍        | 21/150 [22:08<2:13:27, 62.08s/it]"
     ]
    },
    {
     "name": "stdout",
     "output_type": "stream",
     "text": [
      "Epoch 20, Train Loss: 0.813278, Val Loss: 0.813554\n"
     ]
    },
    {
     "name": "stderr",
     "output_type": "stream",
     "text": [
      " 15%|█▍        | 22/150 [23:10<2:12:25, 62.07s/it]"
     ]
    },
    {
     "name": "stdout",
     "output_type": "stream",
     "text": [
      "Epoch 21, Train Loss: 0.813232, Val Loss: 0.813554\n"
     ]
    },
    {
     "name": "stderr",
     "output_type": "stream",
     "text": [
      " 15%|█▌        | 23/150 [24:12<2:11:23, 62.07s/it]"
     ]
    },
    {
     "name": "stdout",
     "output_type": "stream",
     "text": [
      "Epoch 22, Train Loss: 0.813232, Val Loss: 0.813554\n"
     ]
    },
    {
     "name": "stderr",
     "output_type": "stream",
     "text": [
      " 16%|█▌        | 24/150 [25:14<2:10:21, 62.08s/it]"
     ]
    },
    {
     "name": "stdout",
     "output_type": "stream",
     "text": [
      "Epoch 23, Train Loss: 0.813161, Val Loss: 0.813554\n"
     ]
    },
    {
     "name": "stderr",
     "output_type": "stream",
     "text": [
      " 17%|█▋        | 25/150 [26:16<2:09:20, 62.08s/it]"
     ]
    },
    {
     "name": "stdout",
     "output_type": "stream",
     "text": [
      "Epoch 24, Train Loss: 0.813185, Val Loss: 0.813554\n"
     ]
    },
    {
     "name": "stderr",
     "output_type": "stream",
     "text": [
      " 17%|█▋        | 26/150 [27:18<2:08:19, 62.09s/it]"
     ]
    },
    {
     "name": "stdout",
     "output_type": "stream",
     "text": [
      "Epoch 25, Train Loss: 0.813185, Val Loss: 0.813554\n"
     ]
    },
    {
     "name": "stderr",
     "output_type": "stream",
     "text": [
      " 18%|█▊        | 27/150 [28:21<2:07:18, 62.10s/it]"
     ]
    },
    {
     "name": "stdout",
     "output_type": "stream",
     "text": [
      "Epoch 26, Train Loss: 0.813161, Val Loss: 0.813554\n"
     ]
    },
    {
     "name": "stderr",
     "output_type": "stream",
     "text": [
      " 19%|█▊        | 28/150 [29:23<2:06:16, 62.10s/it]"
     ]
    },
    {
     "name": "stdout",
     "output_type": "stream",
     "text": [
      "Epoch 27, Train Loss: 0.813232, Val Loss: 0.813554\n"
     ]
    },
    {
     "name": "stderr",
     "output_type": "stream",
     "text": [
      " 19%|█▉        | 29/150 [30:25<2:05:14, 62.10s/it]"
     ]
    },
    {
     "name": "stdout",
     "output_type": "stream",
     "text": [
      "Epoch 28, Train Loss: 0.813161, Val Loss: 0.813554\n"
     ]
    },
    {
     "name": "stderr",
     "output_type": "stream",
     "text": [
      " 20%|██        | 30/150 [31:27<2:04:12, 62.10s/it]"
     ]
    },
    {
     "name": "stdout",
     "output_type": "stream",
     "text": [
      "Epoch 29, Train Loss: 0.813208, Val Loss: 0.813554\n"
     ]
    },
    {
     "name": "stderr",
     "output_type": "stream",
     "text": [
      " 21%|██        | 31/150 [32:29<2:03:09, 62.10s/it]"
     ]
    },
    {
     "name": "stdout",
     "output_type": "stream",
     "text": [
      "Epoch 30, Train Loss: 0.813278, Val Loss: 0.813554\n"
     ]
    },
    {
     "name": "stderr",
     "output_type": "stream",
     "text": [
      " 21%|██▏       | 32/150 [33:31<2:02:06, 62.09s/it]"
     ]
    },
    {
     "name": "stdout",
     "output_type": "stream",
     "text": [
      "Epoch 31, Train Loss: 0.813138, Val Loss: 0.813554\n"
     ]
    },
    {
     "name": "stderr",
     "output_type": "stream",
     "text": [
      " 22%|██▏       | 33/150 [34:33<2:01:04, 62.09s/it]"
     ]
    },
    {
     "name": "stdout",
     "output_type": "stream",
     "text": [
      "Epoch 32, Train Loss: 0.813208, Val Loss: 0.813554\n"
     ]
    },
    {
     "name": "stderr",
     "output_type": "stream",
     "text": [
      " 23%|██▎       | 34/150 [35:35<2:00:01, 62.08s/it]"
     ]
    },
    {
     "name": "stdout",
     "output_type": "stream",
     "text": [
      "Epoch 33, Train Loss: 0.813232, Val Loss: 0.813554\n"
     ]
    },
    {
     "name": "stderr",
     "output_type": "stream",
     "text": [
      " 23%|██▎       | 35/150 [36:37<1:58:59, 62.08s/it]"
     ]
    },
    {
     "name": "stdout",
     "output_type": "stream",
     "text": [
      "Epoch 34, Train Loss: 0.813185, Val Loss: 0.813554\n"
     ]
    },
    {
     "name": "stderr",
     "output_type": "stream",
     "text": [
      " 24%|██▍       | 36/150 [37:39<1:57:56, 62.08s/it]"
     ]
    },
    {
     "name": "stdout",
     "output_type": "stream",
     "text": [
      "Epoch 35, Train Loss: 0.813208, Val Loss: 0.813554\n"
     ]
    },
    {
     "name": "stderr",
     "output_type": "stream",
     "text": [
      " 25%|██▍       | 37/150 [38:41<1:56:54, 62.07s/it]"
     ]
    },
    {
     "name": "stdout",
     "output_type": "stream",
     "text": [
      "Epoch 36, Train Loss: 0.813138, Val Loss: 0.813554\n"
     ]
    },
    {
     "name": "stderr",
     "output_type": "stream",
     "text": [
      " 25%|██▌       | 38/150 [39:43<1:55:52, 62.08s/it]"
     ]
    },
    {
     "name": "stdout",
     "output_type": "stream",
     "text": [
      "Epoch 37, Train Loss: 0.813255, Val Loss: 0.813554\n"
     ]
    },
    {
     "name": "stderr",
     "output_type": "stream",
     "text": [
      " 26%|██▌       | 39/150 [40:46<1:54:50, 62.08s/it]"
     ]
    },
    {
     "name": "stdout",
     "output_type": "stream",
     "text": [
      "Epoch 38, Train Loss: 0.813185, Val Loss: 0.813554\n"
     ]
    },
    {
     "name": "stderr",
     "output_type": "stream",
     "text": [
      " 27%|██▋       | 40/150 [41:48<1:53:48, 62.08s/it]"
     ]
    },
    {
     "name": "stdout",
     "output_type": "stream",
     "text": [
      "Epoch 39, Train Loss: 0.813138, Val Loss: 0.813554\n"
     ]
    },
    {
     "name": "stderr",
     "output_type": "stream",
     "text": [
      " 27%|██▋       | 41/150 [42:50<1:52:46, 62.08s/it]"
     ]
    },
    {
     "name": "stdout",
     "output_type": "stream",
     "text": [
      "Epoch 40, Train Loss: 0.813208, Val Loss: 0.813554\n"
     ]
    },
    {
     "name": "stderr",
     "output_type": "stream",
     "text": [
      " 28%|██▊       | 42/150 [43:52<1:51:44, 62.08s/it]"
     ]
    },
    {
     "name": "stdout",
     "output_type": "stream",
     "text": [
      "Epoch 41, Train Loss: 0.813255, Val Loss: 0.813554\n"
     ]
    },
    {
     "name": "stderr",
     "output_type": "stream",
     "text": [
      " 29%|██▊       | 43/150 [44:54<1:50:42, 62.08s/it]"
     ]
    },
    {
     "name": "stdout",
     "output_type": "stream",
     "text": [
      "Epoch 42, Train Loss: 0.813161, Val Loss: 0.813554\n"
     ]
    },
    {
     "name": "stderr",
     "output_type": "stream",
     "text": [
      " 29%|██▉       | 44/150 [45:56<1:49:40, 62.08s/it]"
     ]
    },
    {
     "name": "stdout",
     "output_type": "stream",
     "text": [
      "Epoch 43, Train Loss: 0.813161, Val Loss: 0.813554\n"
     ]
    },
    {
     "name": "stderr",
     "output_type": "stream",
     "text": [
      " 30%|███       | 45/150 [46:58<1:48:39, 62.09s/it]"
     ]
    },
    {
     "name": "stdout",
     "output_type": "stream",
     "text": [
      "Epoch 44, Train Loss: 0.813091, Val Loss: 0.813554\n"
     ]
    },
    {
     "name": "stderr",
     "output_type": "stream",
     "text": [
      " 31%|███       | 46/150 [48:00<1:47:37, 62.09s/it]"
     ]
    },
    {
     "name": "stdout",
     "output_type": "stream",
     "text": [
      "Epoch 45, Train Loss: 0.813208, Val Loss: 0.813554\n"
     ]
    },
    {
     "name": "stderr",
     "output_type": "stream",
     "text": [
      " 31%|███▏      | 47/150 [49:02<1:46:35, 62.09s/it]"
     ]
    },
    {
     "name": "stdout",
     "output_type": "stream",
     "text": [
      "Epoch 46, Train Loss: 0.813278, Val Loss: 0.813554\n"
     ]
    },
    {
     "name": "stderr",
     "output_type": "stream",
     "text": [
      " 32%|███▏      | 48/150 [50:04<1:45:33, 62.09s/it]"
     ]
    },
    {
     "name": "stdout",
     "output_type": "stream",
     "text": [
      "Epoch 47, Train Loss: 0.813208, Val Loss: 0.813554\n"
     ]
    },
    {
     "name": "stderr",
     "output_type": "stream",
     "text": [
      " 33%|███▎      | 49/150 [51:06<1:44:32, 62.10s/it]"
     ]
    },
    {
     "name": "stdout",
     "output_type": "stream",
     "text": [
      "Epoch 48, Train Loss: 0.813232, Val Loss: 0.813554\n"
     ]
    },
    {
     "name": "stderr",
     "output_type": "stream",
     "text": [
      " 33%|███▎      | 50/150 [52:09<1:43:30, 62.10s/it]"
     ]
    },
    {
     "name": "stdout",
     "output_type": "stream",
     "text": [
      "Epoch 49, Train Loss: 0.813278, Val Loss: 0.813554\n"
     ]
    },
    {
     "name": "stderr",
     "output_type": "stream",
     "text": [
      " 34%|███▍      | 51/150 [53:11<1:42:28, 62.10s/it]"
     ]
    },
    {
     "name": "stdout",
     "output_type": "stream",
     "text": [
      "Epoch 50, Train Loss: 0.813115, Val Loss: 0.813554\n"
     ]
    },
    {
     "name": "stderr",
     "output_type": "stream",
     "text": [
      " 35%|███▍      | 52/150 [54:13<1:41:26, 62.11s/it]"
     ]
    },
    {
     "name": "stdout",
     "output_type": "stream",
     "text": [
      "Epoch 51, Train Loss: 0.813278, Val Loss: 0.813554\n"
     ]
    },
    {
     "name": "stderr",
     "output_type": "stream",
     "text": [
      " 35%|███▌      | 53/150 [55:15<1:40:24, 62.11s/it]"
     ]
    },
    {
     "name": "stdout",
     "output_type": "stream",
     "text": [
      "Epoch 52, Train Loss: 0.813208, Val Loss: 0.813554\n"
     ]
    },
    {
     "name": "stderr",
     "output_type": "stream",
     "text": [
      " 36%|███▌      | 54/150 [56:17<1:39:22, 62.11s/it]"
     ]
    },
    {
     "name": "stdout",
     "output_type": "stream",
     "text": [
      "Epoch 53, Train Loss: 0.813232, Val Loss: 0.813554\n"
     ]
    },
    {
     "name": "stderr",
     "output_type": "stream",
     "text": [
      " 37%|███▋      | 55/150 [57:19<1:38:20, 62.11s/it]"
     ]
    },
    {
     "name": "stdout",
     "output_type": "stream",
     "text": [
      "Epoch 54, Train Loss: 0.813302, Val Loss: 0.813554\n"
     ]
    },
    {
     "name": "stderr",
     "output_type": "stream",
     "text": [
      " 37%|███▋      | 56/150 [58:21<1:37:17, 62.10s/it]"
     ]
    },
    {
     "name": "stdout",
     "output_type": "stream",
     "text": [
      "Epoch 55, Train Loss: 0.813208, Val Loss: 0.813554\n"
     ]
    },
    {
     "name": "stderr",
     "output_type": "stream",
     "text": [
      " 38%|███▊      | 57/150 [59:23<1:36:15, 62.10s/it]"
     ]
    },
    {
     "name": "stdout",
     "output_type": "stream",
     "text": [
      "Epoch 56, Train Loss: 0.813208, Val Loss: 0.813554\n"
     ]
    },
    {
     "name": "stderr",
     "output_type": "stream",
     "text": [
      " 39%|███▊      | 58/150 [1:00:25<1:35:13, 62.10s/it]"
     ]
    },
    {
     "name": "stdout",
     "output_type": "stream",
     "text": [
      "Epoch 57, Train Loss: 0.813185, Val Loss: 0.813554\n"
     ]
    },
    {
     "name": "stderr",
     "output_type": "stream",
     "text": [
      " 39%|███▉      | 59/150 [1:01:27<1:34:11, 62.10s/it]"
     ]
    },
    {
     "name": "stdout",
     "output_type": "stream",
     "text": [
      "Epoch 58, Train Loss: 0.813068, Val Loss: 0.813554\n"
     ]
    },
    {
     "name": "stderr",
     "output_type": "stream",
     "text": [
      " 40%|████      | 60/150 [1:02:30<1:33:09, 62.10s/it]"
     ]
    },
    {
     "name": "stdout",
     "output_type": "stream",
     "text": [
      "Epoch 59, Train Loss: 0.813208, Val Loss: 0.813554\n"
     ]
    },
    {
     "name": "stderr",
     "output_type": "stream",
     "text": [
      " 41%|████      | 61/150 [1:03:32<1:32:07, 62.10s/it]"
     ]
    },
    {
     "name": "stdout",
     "output_type": "stream",
     "text": [
      "Epoch 60, Train Loss: 0.813232, Val Loss: 0.813554\n"
     ]
    },
    {
     "name": "stderr",
     "output_type": "stream",
     "text": [
      " 41%|████▏     | 62/150 [1:04:34<1:31:04, 62.10s/it]"
     ]
    },
    {
     "name": "stdout",
     "output_type": "stream",
     "text": [
      "Epoch 61, Train Loss: 0.813185, Val Loss: 0.813554\n"
     ]
    },
    {
     "name": "stderr",
     "output_type": "stream",
     "text": [
      " 42%|████▏     | 63/150 [1:05:36<1:30:03, 62.10s/it]"
     ]
    },
    {
     "name": "stdout",
     "output_type": "stream",
     "text": [
      "Epoch 62, Train Loss: 0.813161, Val Loss: 0.813554\n"
     ]
    },
    {
     "name": "stderr",
     "output_type": "stream",
     "text": [
      " 43%|████▎     | 64/150 [1:06:38<1:29:00, 62.10s/it]"
     ]
    },
    {
     "name": "stdout",
     "output_type": "stream",
     "text": [
      "Epoch 63, Train Loss: 0.813232, Val Loss: 0.813554\n"
     ]
    },
    {
     "name": "stderr",
     "output_type": "stream",
     "text": [
      " 43%|████▎     | 65/150 [1:07:40<1:27:58, 62.10s/it]"
     ]
    },
    {
     "name": "stdout",
     "output_type": "stream",
     "text": [
      "Epoch 64, Train Loss: 0.813278, Val Loss: 0.813554\n"
     ]
    },
    {
     "name": "stderr",
     "output_type": "stream",
     "text": [
      " 44%|████▍     | 66/150 [1:08:42<1:26:56, 62.10s/it]"
     ]
    },
    {
     "name": "stdout",
     "output_type": "stream",
     "text": [
      "Epoch 65, Train Loss: 0.813255, Val Loss: 0.813554\n"
     ]
    },
    {
     "name": "stderr",
     "output_type": "stream",
     "text": [
      " 45%|████▍     | 67/150 [1:09:44<1:25:54, 62.10s/it]"
     ]
    },
    {
     "name": "stdout",
     "output_type": "stream",
     "text": [
      "Epoch 66, Train Loss: 0.813255, Val Loss: 0.813554\n"
     ]
    },
    {
     "name": "stderr",
     "output_type": "stream",
     "text": [
      " 45%|████▌     | 68/150 [1:10:46<1:24:52, 62.11s/it]"
     ]
    },
    {
     "name": "stdout",
     "output_type": "stream",
     "text": [
      "Epoch 67, Train Loss: 0.813185, Val Loss: 0.813554\n"
     ]
    },
    {
     "name": "stderr",
     "output_type": "stream",
     "text": [
      " 46%|████▌     | 69/150 [1:11:49<1:23:50, 62.11s/it]"
     ]
    },
    {
     "name": "stdout",
     "output_type": "stream",
     "text": [
      "Epoch 68, Train Loss: 0.813185, Val Loss: 0.813554\n"
     ]
    },
    {
     "name": "stderr",
     "output_type": "stream",
     "text": [
      " 47%|████▋     | 70/150 [1:12:51<1:22:49, 62.11s/it]"
     ]
    },
    {
     "name": "stdout",
     "output_type": "stream",
     "text": [
      "Epoch 69, Train Loss: 0.813185, Val Loss: 0.813554\n"
     ]
    },
    {
     "name": "stderr",
     "output_type": "stream",
     "text": [
      " 47%|████▋     | 71/150 [1:13:53<1:21:47, 62.12s/it]"
     ]
    },
    {
     "name": "stdout",
     "output_type": "stream",
     "text": [
      "Epoch 70, Train Loss: 0.813208, Val Loss: 0.813554\n"
     ]
    },
    {
     "name": "stderr",
     "output_type": "stream",
     "text": [
      " 48%|████▊     | 72/150 [1:14:55<1:20:45, 62.12s/it]"
     ]
    },
    {
     "name": "stdout",
     "output_type": "stream",
     "text": [
      "Epoch 71, Train Loss: 0.813278, Val Loss: 0.813554\n"
     ]
    },
    {
     "name": "stderr",
     "output_type": "stream",
     "text": [
      " 49%|████▊     | 73/150 [1:15:57<1:19:42, 62.11s/it]"
     ]
    },
    {
     "name": "stdout",
     "output_type": "stream",
     "text": [
      "Epoch 72, Train Loss: 0.813208, Val Loss: 0.813554\n"
     ]
    },
    {
     "name": "stderr",
     "output_type": "stream",
     "text": [
      " 49%|████▉     | 74/150 [1:16:59<1:18:40, 62.11s/it]"
     ]
    },
    {
     "name": "stdout",
     "output_type": "stream",
     "text": [
      "Epoch 73, Train Loss: 0.813302, Val Loss: 0.813554\n"
     ]
    },
    {
     "name": "stderr",
     "output_type": "stream",
     "text": [
      " 50%|█████     | 75/150 [1:18:01<1:17:37, 62.10s/it]"
     ]
    },
    {
     "name": "stdout",
     "output_type": "stream",
     "text": [
      "Epoch 74, Train Loss: 0.813138, Val Loss: 0.813554\n"
     ]
    },
    {
     "name": "stderr",
     "output_type": "stream",
     "text": [
      " 51%|█████     | 76/150 [1:19:03<1:16:35, 62.10s/it]"
     ]
    },
    {
     "name": "stdout",
     "output_type": "stream",
     "text": [
      "Epoch 75, Train Loss: 0.813255, Val Loss: 0.813554\n"
     ]
    },
    {
     "name": "stderr",
     "output_type": "stream",
     "text": [
      " 51%|█████▏    | 77/150 [1:20:05<1:15:32, 62.09s/it]"
     ]
    },
    {
     "name": "stdout",
     "output_type": "stream",
     "text": [
      "Epoch 76, Train Loss: 0.813232, Val Loss: 0.813554\n"
     ]
    },
    {
     "name": "stderr",
     "output_type": "stream",
     "text": [
      " 52%|█████▏    | 78/150 [1:21:07<1:14:30, 62.09s/it]"
     ]
    },
    {
     "name": "stdout",
     "output_type": "stream",
     "text": [
      "Epoch 77, Train Loss: 0.813208, Val Loss: 0.813554\n"
     ]
    },
    {
     "name": "stderr",
     "output_type": "stream",
     "text": [
      " 53%|█████▎    | 79/150 [1:22:10<1:13:27, 62.08s/it]"
     ]
    },
    {
     "name": "stdout",
     "output_type": "stream",
     "text": [
      "Epoch 78, Train Loss: 0.813208, Val Loss: 0.813554\n"
     ]
    },
    {
     "name": "stderr",
     "output_type": "stream",
     "text": [
      " 53%|█████▎    | 80/150 [1:23:12<1:12:25, 62.08s/it]"
     ]
    },
    {
     "name": "stdout",
     "output_type": "stream",
     "text": [
      "Epoch 79, Train Loss: 0.813255, Val Loss: 0.813554\n"
     ]
    },
    {
     "name": "stderr",
     "output_type": "stream",
     "text": [
      " 54%|█████▍    | 81/150 [1:24:14<1:11:23, 62.08s/it]"
     ]
    },
    {
     "name": "stdout",
     "output_type": "stream",
     "text": [
      "Epoch 80, Train Loss: 0.813208, Val Loss: 0.813554\n"
     ]
    },
    {
     "name": "stderr",
     "output_type": "stream",
     "text": [
      " 55%|█████▍    | 82/150 [1:25:16<1:10:21, 62.07s/it]"
     ]
    },
    {
     "name": "stdout",
     "output_type": "stream",
     "text": [
      "Epoch 81, Train Loss: 0.813115, Val Loss: 0.813554\n"
     ]
    },
    {
     "name": "stderr",
     "output_type": "stream",
     "text": [
      " 55%|█████▌    | 83/150 [1:26:18<1:09:18, 62.07s/it]"
     ]
    },
    {
     "name": "stdout",
     "output_type": "stream",
     "text": [
      "Epoch 82, Train Loss: 0.813278, Val Loss: 0.813554\n"
     ]
    },
    {
     "name": "stderr",
     "output_type": "stream",
     "text": [
      " 56%|█████▌    | 84/150 [1:27:20<1:08:16, 62.07s/it]"
     ]
    },
    {
     "name": "stdout",
     "output_type": "stream",
     "text": [
      "Epoch 83, Train Loss: 0.813115, Val Loss: 0.813554\n"
     ]
    },
    {
     "name": "stderr",
     "output_type": "stream",
     "text": [
      " 57%|█████▋    | 85/150 [1:28:22<1:07:14, 62.06s/it]"
     ]
    },
    {
     "name": "stdout",
     "output_type": "stream",
     "text": [
      "Epoch 84, Train Loss: 0.813232, Val Loss: 0.813554\n"
     ]
    },
    {
     "name": "stderr",
     "output_type": "stream",
     "text": [
      " 57%|█████▋    | 86/150 [1:29:24<1:06:12, 62.06s/it]"
     ]
    },
    {
     "name": "stdout",
     "output_type": "stream",
     "text": [
      "Epoch 85, Train Loss: 0.813255, Val Loss: 0.813554\n"
     ]
    },
    {
     "name": "stderr",
     "output_type": "stream",
     "text": [
      " 58%|█████▊    | 87/150 [1:30:26<1:05:10, 62.07s/it]"
     ]
    },
    {
     "name": "stdout",
     "output_type": "stream",
     "text": [
      "Epoch 86, Train Loss: 0.813232, Val Loss: 0.813554\n"
     ]
    },
    {
     "name": "stderr",
     "output_type": "stream",
     "text": [
      " 59%|█████▊    | 88/150 [1:31:28<1:04:08, 62.07s/it]"
     ]
    },
    {
     "name": "stdout",
     "output_type": "stream",
     "text": [
      "Epoch 87, Train Loss: 0.813232, Val Loss: 0.813554\n"
     ]
    },
    {
     "name": "stderr",
     "output_type": "stream",
     "text": [
      " 59%|█████▉    | 89/150 [1:32:30<1:03:06, 62.08s/it]"
     ]
    },
    {
     "name": "stdout",
     "output_type": "stream",
     "text": [
      "Epoch 88, Train Loss: 0.813232, Val Loss: 0.813554\n"
     ]
    },
    {
     "name": "stderr",
     "output_type": "stream",
     "text": [
      " 60%|██████    | 90/150 [1:33:32<1:02:05, 62.09s/it]"
     ]
    },
    {
     "name": "stdout",
     "output_type": "stream",
     "text": [
      "Epoch 89, Train Loss: 0.813278, Val Loss: 0.813554\n"
     ]
    },
    {
     "name": "stderr",
     "output_type": "stream",
     "text": [
      " 61%|██████    | 91/150 [1:34:34<1:01:03, 62.09s/it]"
     ]
    },
    {
     "name": "stdout",
     "output_type": "stream",
     "text": [
      "Epoch 90, Train Loss: 0.813208, Val Loss: 0.813554\n"
     ]
    },
    {
     "name": "stderr",
     "output_type": "stream",
     "text": [
      " 61%|██████▏   | 92/150 [1:35:37<1:00:01, 62.10s/it]"
     ]
    },
    {
     "name": "stdout",
     "output_type": "stream",
     "text": [
      "Epoch 91, Train Loss: 0.813278, Val Loss: 0.813554\n"
     ]
    },
    {
     "name": "stderr",
     "output_type": "stream",
     "text": [
      " 62%|██████▏   | 93/150 [1:36:39<58:59, 62.10s/it]  "
     ]
    },
    {
     "name": "stdout",
     "output_type": "stream",
     "text": [
      "Epoch 92, Train Loss: 0.813232, Val Loss: 0.813554\n"
     ]
    },
    {
     "name": "stderr",
     "output_type": "stream",
     "text": [
      " 63%|██████▎   | 94/150 [1:37:41<57:57, 62.10s/it]"
     ]
    },
    {
     "name": "stdout",
     "output_type": "stream",
     "text": [
      "Epoch 93, Train Loss: 0.813185, Val Loss: 0.813554\n"
     ]
    },
    {
     "name": "stderr",
     "output_type": "stream",
     "text": [
      " 63%|██████▎   | 95/150 [1:38:43<56:54, 62.09s/it]"
     ]
    },
    {
     "name": "stdout",
     "output_type": "stream",
     "text": [
      "Epoch 94, Train Loss: 0.813208, Val Loss: 0.813554\n"
     ]
    },
    {
     "name": "stderr",
     "output_type": "stream",
     "text": [
      " 64%|██████▍   | 96/150 [1:39:45<55:52, 62.09s/it]"
     ]
    },
    {
     "name": "stdout",
     "output_type": "stream",
     "text": [
      "Epoch 95, Train Loss: 0.813302, Val Loss: 0.813554\n"
     ]
    },
    {
     "name": "stderr",
     "output_type": "stream",
     "text": [
      " 65%|██████▍   | 97/150 [1:40:47<54:50, 62.08s/it]"
     ]
    },
    {
     "name": "stdout",
     "output_type": "stream",
     "text": [
      "Epoch 96, Train Loss: 0.813255, Val Loss: 0.813554\n"
     ]
    },
    {
     "name": "stderr",
     "output_type": "stream",
     "text": [
      " 65%|██████▌   | 98/150 [1:41:49<53:47, 62.08s/it]"
     ]
    },
    {
     "name": "stdout",
     "output_type": "stream",
     "text": [
      "Epoch 97, Train Loss: 0.813302, Val Loss: 0.813554\n"
     ]
    },
    {
     "name": "stderr",
     "output_type": "stream",
     "text": [
      " 66%|██████▌   | 99/150 [1:42:51<52:45, 62.07s/it]"
     ]
    },
    {
     "name": "stdout",
     "output_type": "stream",
     "text": [
      "Epoch 98, Train Loss: 0.813232, Val Loss: 0.813554\n"
     ]
    },
    {
     "name": "stderr",
     "output_type": "stream",
     "text": [
      " 67%|██████▋   | 100/150 [1:43:53<51:43, 62.07s/it]"
     ]
    },
    {
     "name": "stdout",
     "output_type": "stream",
     "text": [
      "Epoch 99, Train Loss: 0.813232, Val Loss: 0.813554\n"
     ]
    },
    {
     "name": "stderr",
     "output_type": "stream",
     "text": [
      " 67%|██████▋   | 101/150 [1:44:55<50:41, 62.07s/it]"
     ]
    },
    {
     "name": "stdout",
     "output_type": "stream",
     "text": [
      "Epoch 100, Train Loss: 0.813208, Val Loss: 0.813554\n"
     ]
    },
    {
     "name": "stderr",
     "output_type": "stream",
     "text": [
      " 68%|██████▊   | 102/150 [1:45:57<49:39, 62.07s/it]"
     ]
    },
    {
     "name": "stdout",
     "output_type": "stream",
     "text": [
      "Epoch 101, Train Loss: 0.813255, Val Loss: 0.813554\n"
     ]
    },
    {
     "name": "stderr",
     "output_type": "stream",
     "text": [
      " 69%|██████▊   | 103/150 [1:46:59<48:37, 62.06s/it]"
     ]
    },
    {
     "name": "stdout",
     "output_type": "stream",
     "text": [
      "Epoch 102, Train Loss: 0.813349, Val Loss: 0.813554\n"
     ]
    },
    {
     "name": "stderr",
     "output_type": "stream",
     "text": [
      " 69%|██████▉   | 104/150 [1:48:01<47:34, 62.06s/it]"
     ]
    },
    {
     "name": "stdout",
     "output_type": "stream",
     "text": [
      "Epoch 103, Train Loss: 0.813208, Val Loss: 0.813554\n"
     ]
    },
    {
     "name": "stderr",
     "output_type": "stream",
     "text": [
      " 70%|███████   | 105/150 [1:49:03<46:32, 62.07s/it]"
     ]
    },
    {
     "name": "stdout",
     "output_type": "stream",
     "text": [
      "Epoch 104, Train Loss: 0.813278, Val Loss: 0.813554\n"
     ]
    },
    {
     "name": "stderr",
     "output_type": "stream",
     "text": [
      " 71%|███████   | 106/150 [1:50:06<45:30, 62.07s/it]"
     ]
    },
    {
     "name": "stdout",
     "output_type": "stream",
     "text": [
      "Epoch 105, Train Loss: 0.813185, Val Loss: 0.813554\n"
     ]
    },
    {
     "name": "stderr",
     "output_type": "stream",
     "text": [
      " 71%|███████▏  | 107/150 [1:51:08<44:28, 62.07s/it]"
     ]
    },
    {
     "name": "stdout",
     "output_type": "stream",
     "text": [
      "Epoch 106, Train Loss: 0.813185, Val Loss: 0.813554\n"
     ]
    },
    {
     "name": "stderr",
     "output_type": "stream",
     "text": [
      " 72%|███████▏  | 108/150 [1:52:10<43:26, 62.07s/it]"
     ]
    },
    {
     "name": "stdout",
     "output_type": "stream",
     "text": [
      "Epoch 107, Train Loss: 0.813232, Val Loss: 0.813554\n"
     ]
    },
    {
     "name": "stderr",
     "output_type": "stream",
     "text": [
      " 73%|███████▎  | 109/150 [1:53:12<42:24, 62.07s/it]"
     ]
    },
    {
     "name": "stdout",
     "output_type": "stream",
     "text": [
      "Epoch 108, Train Loss: 0.813161, Val Loss: 0.813554\n"
     ]
    },
    {
     "name": "stderr",
     "output_type": "stream",
     "text": [
      " 73%|███████▎  | 110/150 [1:54:14<41:22, 62.07s/it]"
     ]
    },
    {
     "name": "stdout",
     "output_type": "stream",
     "text": [
      "Epoch 109, Train Loss: 0.813185, Val Loss: 0.813554\n"
     ]
    },
    {
     "name": "stderr",
     "output_type": "stream",
     "text": [
      " 74%|███████▍  | 111/150 [1:55:16<40:20, 62.07s/it]"
     ]
    },
    {
     "name": "stdout",
     "output_type": "stream",
     "text": [
      "Epoch 110, Train Loss: 0.813208, Val Loss: 0.813554\n"
     ]
    },
    {
     "name": "stderr",
     "output_type": "stream",
     "text": [
      " 75%|███████▍  | 112/150 [1:56:18<39:18, 62.08s/it]"
     ]
    },
    {
     "name": "stdout",
     "output_type": "stream",
     "text": [
      "Epoch 111, Train Loss: 0.813208, Val Loss: 0.813554\n"
     ]
    },
    {
     "name": "stderr",
     "output_type": "stream",
     "text": [
      " 75%|███████▌  | 113/150 [1:57:20<38:17, 62.08s/it]"
     ]
    },
    {
     "name": "stdout",
     "output_type": "stream",
     "text": [
      "Epoch 112, Train Loss: 0.813278, Val Loss: 0.813554\n"
     ]
    },
    {
     "name": "stderr",
     "output_type": "stream",
     "text": [
      " 76%|███████▌  | 114/150 [1:58:22<37:15, 62.09s/it]"
     ]
    },
    {
     "name": "stdout",
     "output_type": "stream",
     "text": [
      "Epoch 113, Train Loss: 0.813278, Val Loss: 0.813554\n"
     ]
    },
    {
     "name": "stderr",
     "output_type": "stream",
     "text": [
      " 77%|███████▋  | 115/150 [1:59:24<36:13, 62.09s/it]"
     ]
    },
    {
     "name": "stdout",
     "output_type": "stream",
     "text": [
      "Epoch 114, Train Loss: 0.813255, Val Loss: 0.813554\n"
     ]
    },
    {
     "name": "stderr",
     "output_type": "stream",
     "text": [
      " 77%|███████▋  | 116/150 [2:00:26<35:11, 62.09s/it]"
     ]
    },
    {
     "name": "stdout",
     "output_type": "stream",
     "text": [
      "Epoch 115, Train Loss: 0.813161, Val Loss: 0.813554\n"
     ]
    },
    {
     "name": "stderr",
     "output_type": "stream",
     "text": [
      " 78%|███████▊  | 117/150 [2:01:28<34:09, 62.09s/it]"
     ]
    },
    {
     "name": "stdout",
     "output_type": "stream",
     "text": [
      "Epoch 116, Train Loss: 0.813138, Val Loss: 0.813554\n"
     ]
    },
    {
     "name": "stderr",
     "output_type": "stream",
     "text": [
      " 79%|███████▊  | 118/150 [2:02:31<33:06, 62.09s/it]"
     ]
    },
    {
     "name": "stdout",
     "output_type": "stream",
     "text": [
      "Epoch 117, Train Loss: 0.813185, Val Loss: 0.813554\n"
     ]
    },
    {
     "name": "stderr",
     "output_type": "stream",
     "text": [
      " 79%|███████▉  | 119/150 [2:03:33<32:04, 62.09s/it]"
     ]
    },
    {
     "name": "stdout",
     "output_type": "stream",
     "text": [
      "Epoch 118, Train Loss: 0.813302, Val Loss: 0.813554\n"
     ]
    },
    {
     "name": "stderr",
     "output_type": "stream",
     "text": [
      " 80%|████████  | 120/150 [2:04:35<31:02, 62.09s/it]"
     ]
    },
    {
     "name": "stdout",
     "output_type": "stream",
     "text": [
      "Epoch 119, Train Loss: 0.813161, Val Loss: 0.813554\n"
     ]
    },
    {
     "name": "stderr",
     "output_type": "stream",
     "text": [
      " 81%|████████  | 121/150 [2:05:37<30:00, 62.09s/it]"
     ]
    },
    {
     "name": "stdout",
     "output_type": "stream",
     "text": [
      "Epoch 120, Train Loss: 0.813208, Val Loss: 0.813554\n"
     ]
    },
    {
     "name": "stderr",
     "output_type": "stream",
     "text": [
      " 81%|████████▏ | 122/150 [2:06:39<28:58, 62.09s/it]"
     ]
    },
    {
     "name": "stdout",
     "output_type": "stream",
     "text": [
      "Epoch 121, Train Loss: 0.813185, Val Loss: 0.813554\n"
     ]
    },
    {
     "name": "stderr",
     "output_type": "stream",
     "text": [
      " 82%|████████▏ | 123/150 [2:07:41<27:56, 62.09s/it]"
     ]
    },
    {
     "name": "stdout",
     "output_type": "stream",
     "text": [
      "Epoch 122, Train Loss: 0.813278, Val Loss: 0.813554\n"
     ]
    },
    {
     "name": "stderr",
     "output_type": "stream",
     "text": [
      " 83%|████████▎ | 124/150 [2:08:43<26:54, 62.09s/it]"
     ]
    },
    {
     "name": "stdout",
     "output_type": "stream",
     "text": [
      "Epoch 123, Train Loss: 0.813278, Val Loss: 0.813554\n"
     ]
    },
    {
     "name": "stderr",
     "output_type": "stream",
     "text": [
      " 83%|████████▎ | 125/150 [2:09:45<25:52, 62.09s/it]"
     ]
    },
    {
     "name": "stdout",
     "output_type": "stream",
     "text": [
      "Epoch 124, Train Loss: 0.813232, Val Loss: 0.813554\n"
     ]
    },
    {
     "name": "stderr",
     "output_type": "stream",
     "text": [
      " 84%|████████▍ | 126/150 [2:10:47<24:50, 62.09s/it]"
     ]
    },
    {
     "name": "stdout",
     "output_type": "stream",
     "text": [
      "Epoch 125, Train Loss: 0.813185, Val Loss: 0.813554\n"
     ]
    },
    {
     "name": "stderr",
     "output_type": "stream",
     "text": [
      " 85%|████████▍ | 127/150 [2:11:49<23:48, 62.09s/it]"
     ]
    },
    {
     "name": "stdout",
     "output_type": "stream",
     "text": [
      "Epoch 126, Train Loss: 0.813232, Val Loss: 0.813554\n"
     ]
    },
    {
     "name": "stderr",
     "output_type": "stream",
     "text": [
      " 85%|████████▌ | 128/150 [2:12:51<22:45, 62.09s/it]"
     ]
    },
    {
     "name": "stdout",
     "output_type": "stream",
     "text": [
      "Epoch 127, Train Loss: 0.813255, Val Loss: 0.813554\n"
     ]
    },
    {
     "name": "stderr",
     "output_type": "stream",
     "text": [
      " 86%|████████▌ | 129/150 [2:13:54<21:43, 62.08s/it]"
     ]
    },
    {
     "name": "stdout",
     "output_type": "stream",
     "text": [
      "Epoch 128, Train Loss: 0.813161, Val Loss: 0.813554\n"
     ]
    },
    {
     "name": "stderr",
     "output_type": "stream",
     "text": [
      " 87%|████████▋ | 130/150 [2:14:56<20:41, 62.08s/it]"
     ]
    },
    {
     "name": "stdout",
     "output_type": "stream",
     "text": [
      "Epoch 129, Train Loss: 0.813091, Val Loss: 0.813554\n"
     ]
    },
    {
     "name": "stderr",
     "output_type": "stream",
     "text": [
      " 87%|████████▋ | 131/150 [2:15:58<19:39, 62.08s/it]"
     ]
    },
    {
     "name": "stdout",
     "output_type": "stream",
     "text": [
      "Epoch 130, Train Loss: 0.813255, Val Loss: 0.813554\n"
     ]
    },
    {
     "name": "stderr",
     "output_type": "stream",
     "text": [
      " 88%|████████▊ | 132/150 [2:17:00<18:37, 62.08s/it]"
     ]
    },
    {
     "name": "stdout",
     "output_type": "stream",
     "text": [
      "Epoch 131, Train Loss: 0.813185, Val Loss: 0.813554\n"
     ]
    },
    {
     "name": "stderr",
     "output_type": "stream",
     "text": [
      " 89%|████████▊ | 133/150 [2:18:02<17:35, 62.08s/it]"
     ]
    },
    {
     "name": "stdout",
     "output_type": "stream",
     "text": [
      "Epoch 132, Train Loss: 0.813161, Val Loss: 0.813554\n"
     ]
    },
    {
     "name": "stderr",
     "output_type": "stream",
     "text": [
      " 89%|████████▉ | 134/150 [2:19:04<16:33, 62.08s/it]"
     ]
    },
    {
     "name": "stdout",
     "output_type": "stream",
     "text": [
      "Epoch 133, Train Loss: 0.813278, Val Loss: 0.813554\n"
     ]
    },
    {
     "name": "stderr",
     "output_type": "stream",
     "text": [
      " 90%|█████████ | 135/150 [2:20:06<15:31, 62.08s/it]"
     ]
    },
    {
     "name": "stdout",
     "output_type": "stream",
     "text": [
      "Epoch 134, Train Loss: 0.813278, Val Loss: 0.813554\n"
     ]
    },
    {
     "name": "stderr",
     "output_type": "stream",
     "text": [
      " 91%|█████████ | 136/150 [2:21:08<14:29, 62.09s/it]"
     ]
    },
    {
     "name": "stdout",
     "output_type": "stream",
     "text": [
      "Epoch 135, Train Loss: 0.813232, Val Loss: 0.813554\n"
     ]
    },
    {
     "name": "stderr",
     "output_type": "stream",
     "text": [
      " 91%|█████████▏| 137/150 [2:22:10<13:27, 62.09s/it]"
     ]
    },
    {
     "name": "stdout",
     "output_type": "stream",
     "text": [
      "Epoch 136, Train Loss: 0.813232, Val Loss: 0.813554\n"
     ]
    },
    {
     "name": "stderr",
     "output_type": "stream",
     "text": [
      " 92%|█████████▏| 138/150 [2:23:12<12:25, 62.09s/it]"
     ]
    },
    {
     "name": "stdout",
     "output_type": "stream",
     "text": [
      "Epoch 137, Train Loss: 0.813208, Val Loss: 0.813554\n"
     ]
    },
    {
     "name": "stderr",
     "output_type": "stream",
     "text": [
      " 93%|█████████▎| 139/150 [2:24:14<11:22, 62.09s/it]"
     ]
    },
    {
     "name": "stdout",
     "output_type": "stream",
     "text": [
      "Epoch 138, Train Loss: 0.813255, Val Loss: 0.813554\n"
     ]
    },
    {
     "name": "stderr",
     "output_type": "stream",
     "text": [
      " 93%|█████████▎| 140/150 [2:25:16<10:20, 62.08s/it]"
     ]
    },
    {
     "name": "stdout",
     "output_type": "stream",
     "text": [
      "Epoch 139, Train Loss: 0.813208, Val Loss: 0.813554\n"
     ]
    },
    {
     "name": "stderr",
     "output_type": "stream",
     "text": [
      " 94%|█████████▍| 141/150 [2:26:18<09:18, 62.08s/it]"
     ]
    },
    {
     "name": "stdout",
     "output_type": "stream",
     "text": [
      "Epoch 140, Train Loss: 0.813278, Val Loss: 0.813554\n"
     ]
    },
    {
     "name": "stderr",
     "output_type": "stream",
     "text": [
      " 95%|█████████▍| 142/150 [2:27:21<08:16, 62.08s/it]"
     ]
    },
    {
     "name": "stdout",
     "output_type": "stream",
     "text": [
      "Epoch 141, Train Loss: 0.813232, Val Loss: 0.813554\n"
     ]
    },
    {
     "name": "stderr",
     "output_type": "stream",
     "text": [
      " 95%|█████████▌| 143/150 [2:28:23<07:14, 62.08s/it]"
     ]
    },
    {
     "name": "stdout",
     "output_type": "stream",
     "text": [
      "Epoch 142, Train Loss: 0.813115, Val Loss: 0.813554\n"
     ]
    },
    {
     "name": "stderr",
     "output_type": "stream",
     "text": [
      " 96%|█████████▌| 144/150 [2:29:25<06:12, 62.07s/it]"
     ]
    },
    {
     "name": "stdout",
     "output_type": "stream",
     "text": [
      "Epoch 143, Train Loss: 0.813138, Val Loss: 0.813554\n"
     ]
    },
    {
     "name": "stderr",
     "output_type": "stream",
     "text": [
      " 97%|█████████▋| 145/150 [2:30:27<05:10, 62.07s/it]"
     ]
    },
    {
     "name": "stdout",
     "output_type": "stream",
     "text": [
      "Epoch 144, Train Loss: 0.813255, Val Loss: 0.813554\n"
     ]
    },
    {
     "name": "stderr",
     "output_type": "stream",
     "text": [
      " 97%|█████████▋| 146/150 [2:31:29<04:08, 62.07s/it]"
     ]
    },
    {
     "name": "stdout",
     "output_type": "stream",
     "text": [
      "Epoch 145, Train Loss: 0.813302, Val Loss: 0.813554\n"
     ]
    },
    {
     "name": "stderr",
     "output_type": "stream",
     "text": [
      " 98%|█████████▊| 147/150 [2:32:31<03:06, 62.07s/it]"
     ]
    },
    {
     "name": "stdout",
     "output_type": "stream",
     "text": [
      "Epoch 146, Train Loss: 0.813161, Val Loss: 0.813554\n"
     ]
    },
    {
     "name": "stderr",
     "output_type": "stream",
     "text": [
      " 99%|█████████▊| 148/150 [2:33:33<02:04, 62.06s/it]"
     ]
    },
    {
     "name": "stdout",
     "output_type": "stream",
     "text": [
      "Epoch 147, Train Loss: 0.813208, Val Loss: 0.813554\n"
     ]
    },
    {
     "name": "stderr",
     "output_type": "stream",
     "text": [
      " 99%|█████████▉| 149/150 [2:34:35<01:02, 62.06s/it]"
     ]
    },
    {
     "name": "stdout",
     "output_type": "stream",
     "text": [
      "Epoch 148, Train Loss: 0.813232, Val Loss: 0.813554\n"
     ]
    },
    {
     "name": "stderr",
     "output_type": "stream",
     "text": [
      "100%|██████████| 150/150 [2:35:37<00:00, 62.25s/it]"
     ]
    },
    {
     "name": "stdout",
     "output_type": "stream",
     "text": [
      "Epoch 149, Train Loss: 0.813208, Val Loss: 0.813554\n"
     ]
    },
    {
     "name": "stderr",
     "output_type": "stream",
     "text": [
      "\n"
     ]
    },
    {
     "name": "stdout",
     "output_type": "stream",
     "text": [
      "Final Test Loss: 0.813262\n"
     ]
    }
   ],
   "source": [
    "from typing import Iterator, Tuple\n",
    "import math\n",
    "import jax\n",
    "import jax.numpy as jnp\n",
    "import equinox as eqx\n",
    "import optax\n",
    "from tqdm import tqdm\n",
    "\n",
    "class BatchIterator:\n",
    "    \"\"\"\n",
    "    An iterable over (X_batch, y_batch) with a proper __len__,\n",
    "    so that tqdm can infer the total number of batches automatically.\n",
    "    \"\"\"\n",
    "    def __init__(self, X: jnp.ndarray, y: jnp.ndarray, B: int):\n",
    "        \"\"\"\n",
    "        Args:\n",
    "          X: array of shape (N, p)\n",
    "          y: array of shape (N,)\n",
    "          B: desired batch size\n",
    "        \"\"\"\n",
    "        self.X = X\n",
    "        self.y = y\n",
    "        self.B = B\n",
    "        self.N = X.shape[0]\n",
    "        # total number of batches, rounding up\n",
    "        self.K = math.ceil(self.N / B)\n",
    "\n",
    "    def __len__(self) -> int:\n",
    "        # so that len(batch_iter) == number of batches\n",
    "        return self.K\n",
    "\n",
    "    def __iter__(self) -> Iterator[Tuple[jnp.ndarray, jnp.ndarray]]:\n",
    "        # yield each minibatch\n",
    "        for k in range(self.K):\n",
    "            start = k * self.B\n",
    "            end = min(start + self.B, self.N)\n",
    "            Xb = self.X[start:end, :]   # shape (b, p)\n",
    "            yb = self.y[start:end]      # shape (b,)\n",
    "            yield Xb, yb\n",
    "\n",
    "\n",
    "# 1. Add a robust loss function with comprehensive NaN handling\n",
    "@eqx.filter_jit\n",
    "def loss_fn(m, xb, yb):\n",
    "    # Forward pass with safeguards\n",
    "    def safe_forward(x_sample):\n",
    "        logit = m(x_sample)\n",
    "        # Clip to prevent extreme values\n",
    "        return jnp.clip(logit, -5.0, 5.0)\n",
    "    \n",
    "    # Use vmap for the forward pass\n",
    "    logits = jax.vmap(safe_forward)(xb)\n",
    "    \n",
    "    # Safe BCE implementation\n",
    "    def safe_bce(logit, label):\n",
    "        # Sigmoid with clipping\n",
    "        prob = jax.nn.sigmoid(jnp.clip(logit, -10.0, 10.0))\n",
    "        prob = jnp.clip(prob, 1e-6, 1.0 - 1e-6)\n",
    "        \n",
    "        # Calculate BCE loss\n",
    "        loss = -(label * jnp.log(prob) + (1 - label) * jnp.log(1.0 - prob))\n",
    "        \n",
    "        # Replace NaNs with default value\n",
    "        return jnp.where(jnp.isnan(loss), 0.7, loss)\n",
    "    \n",
    "    # Apply BCE to each example\n",
    "    losses = jax.vmap(lambda x, y: safe_bce(x, y))(logits, yb)\n",
    "    \n",
    "    # Safe mean calculation - no conditional branches!\n",
    "    valid_mask = jnp.isfinite(losses)\n",
    "    valid_count = jnp.sum(valid_mask)\n",
    "    \n",
    "    # Calculate mean of valid losses or return fallback\n",
    "    safe_sum = jnp.sum(jnp.where(valid_mask, losses, 0.0))\n",
    "    mean_loss = safe_sum / jnp.maximum(valid_count, 1.0)\n",
    "    \n",
    "    # Return mean_loss if there are valid items, else return fallback\n",
    "    return jnp.where(valid_count > 0, mean_loss, jnp.array(0.7))\n",
    "\n",
    "# Add evaluation function\n",
    "@eqx.filter_jit\n",
    "def evaluate_batch(model, Xb, yb):\n",
    "    \"\"\"Evaluate model on a single batch.\"\"\"\n",
    "    return loss_fn(model, Xb, yb)\n",
    "\n",
    "def evaluate(model, X, y, batch_size):\n",
    "    \"\"\"Evaluate model on full dataset by processing in batches.\"\"\"\n",
    "    total_loss = 0.0\n",
    "    total_samples = 0\n",
    "    \n",
    "    # Process in batches\n",
    "    num_batches = (len(X) + batch_size - 1) // batch_size\n",
    "    \n",
    "    for i in range(num_batches):\n",
    "        start_idx = i * batch_size\n",
    "        end_idx = min(start_idx + batch_size, len(X))\n",
    "        \n",
    "        Xb = X[start_idx:end_idx]\n",
    "        yb = y[start_idx:end_idx]\n",
    "        \n",
    "        # Use the JIT-compiled evaluate_batch function\n",
    "        batch_loss = evaluate_batch(model, Xb, yb)\n",
    "        \n",
    "        # Accumulate weighted loss\n",
    "        batch_size_actual = end_idx - start_idx\n",
    "        total_loss += float(batch_loss) * batch_size_actual\n",
    "        total_samples += batch_size_actual\n",
    "    \n",
    "    # Return average loss\n",
    "    return total_loss / total_samples if total_samples > 0 else 0.0\n",
    "\n",
    "# JIT the entire training step for maximum performance\n",
    "@eqx.filter_jit\n",
    "def train_step(model, euclid_state, emb_state, rel_state, Xb, yb, euclid_opt, emb_hyper, rel_hyper):\n",
    "    \"\"\"JIT-compiled training step function that handles full update cycle.\"\"\"\n",
    "    # Compute gradients\n",
    "    loss, grads = eqx.filter_value_and_grad(loss_fn)(model, Xb, yb)\n",
    "    \n",
    "    # Apply gradient safety with JAX operations\n",
    "    grads_safe = jax.tree.map(\n",
    "        lambda g: jnp.where(jnp.isnan(g) | ~jnp.isfinite(g), \n",
    "                            jnp.zeros_like(g), \n",
    "                            jnp.clip(g, -0.1, 0.1)) if hasattr(g, 'shape') else g,\n",
    "        grads\n",
    "    )\n",
    "    \n",
    "    # Euclidean Adam update\n",
    "    updates, euclid_state_new = euclid_opt.update(grads_safe, euclid_state, model)\n",
    "    model_updated = optax.apply_updates(model, updates)\n",
    "    \n",
    "    # Riemannian Adam updates\n",
    "    new_embs, emb_state_new = radam_update(\n",
    "        model_updated.embed.embeddings,\n",
    "        grads_safe.embed.embeddings,\n",
    "        emb_state,\n",
    "        emb_hyper\n",
    "    )\n",
    "    model_with_embs = eqx.tree_at(lambda m: m.embed.embeddings, model_updated, new_embs)\n",
    "    \n",
    "    new_rels, rel_state_new = radam_update(\n",
    "        model_with_embs.att.relations,\n",
    "        grads_safe.att.relations,\n",
    "        rel_state,\n",
    "        rel_hyper\n",
    "    )\n",
    "    model_final = eqx.tree_at(lambda m: m.att.relations, model_with_embs, new_rels)\n",
    "    \n",
    "    return model_final, euclid_state_new, emb_state_new, rel_state_new, loss\n",
    "\n",
    "def train(model, batch_size, x, labels, vocabulary, x_val=None, y_val=None, \n",
    "          x_test=None, y_test=None, num_epochs=1, eval_every=1):\n",
    "    \"\"\"Training function with validation and test evaluation.\"\"\"\n",
    "    # Use lower learning rates\n",
    "    euclid_opt = optax.adam(1e-3)\n",
    "    euclid_state = euclid_opt.init(model)\n",
    "    \n",
    "    emb_state, emb_hyper = init_radam(model.embed.embeddings, lr=5e-4)\n",
    "    rel_state, rel_hyper = init_radam(model.att.relations, lr=5e-4)\n",
    "    \n",
    "    # Track losses\n",
    "    all_train_losses = []\n",
    "    all_val_losses = []\n",
    "    \n",
    "    # Iterate through epochs\n",
    "    for epoch in tqdm(range(num_epochs)):\n",
    "        # Shuffle data at each epoch\n",
    "        key = jax.random.PRNGKey(epoch)\n",
    "        perm = jax.random.permutation(key, len(x))\n",
    "        x_shuffled = x[perm]\n",
    "        labels_shuffled = labels[perm]\n",
    "        \n",
    "        # Create batches\n",
    "        num_batches = (len(x) + batch_size - 1) // batch_size\n",
    "        \n",
    "        # Iterate through batches\n",
    "        epoch_losses = []\n",
    "        for i in range(num_batches):\n",
    "            start_idx = i * batch_size\n",
    "            end_idx = min(start_idx + batch_size, len(x))\n",
    "            \n",
    "            Xb = x_shuffled[start_idx:end_idx]\n",
    "            yb = labels_shuffled[start_idx:end_idx]\n",
    "            \n",
    "            # Apply the JIT-compiled training step\n",
    "            model, euclid_state, emb_state, rel_state, loss = train_step(\n",
    "                model, euclid_state, emb_state, rel_state, Xb, yb, \n",
    "                euclid_opt, emb_hyper, rel_hyper\n",
    "            )\n",
    "            \n",
    "            # Store loss\n",
    "            epoch_losses.append(float(loss))\n",
    "        \n",
    "        # Calculate average training loss for this epoch\n",
    "        avg_train_loss = sum(epoch_losses) / len(epoch_losses) if epoch_losses else 0.0\n",
    "        all_train_losses.append(avg_train_loss)\n",
    "        \n",
    "        # Evaluate on validation set if available\n",
    "        if x_val is not None and y_val is not None and epoch % eval_every == 0:\n",
    "            val_loss = evaluate(model, x_val, y_val, batch_size)\n",
    "            all_val_losses.append(val_loss)\n",
    "            print(f\"Epoch {epoch}, Train Loss: {avg_train_loss:.6f}, Val Loss: {val_loss:.6f}\")\n",
    "        else:\n",
    "            print(f\"Epoch {epoch}, Train Loss: {avg_train_loss:.6f}\")\n",
    "    \n",
    "    # Evaluate on test set after training is complete\n",
    "    if x_test is not None and y_test is not None:\n",
    "        test_loss = evaluate(model, x_test, y_test, batch_size)\n",
    "        print(f\"Final Test Loss: {test_loss:.6f}\")\n",
    "    \n",
    "    return model, all_train_losses, all_val_losses\n",
    "\n",
    "\n",
    "def init_safer_model(num_entities, d, num_heads, max_len, key):\n",
    "    key, embed_key, mlp_key, att_key, logit_key = jax.random.split(key, 5)\n",
    "    \n",
    "    # More careful embedding initialization\n",
    "    e = jax.random.normal(embed_key, (num_entities, d, 4)) * 0.01  # Smaller scale\n",
    "    e = jnp.nan_to_num(e / jnp.linalg.norm(e, axis=-1, keepdims=True))\n",
    "    \n",
    "    # Create a custom embedding module with our careful initialization\n",
    "    embed = QuaternionEmbedding(num_entities, d, embed_key)\n",
    "    # Replace the embeddings with our carefully initialized ones\n",
    "    embed = eqx.tree_at(lambda m: m.embeddings, embed, e)\n",
    "    \n",
    "    # Initialize standard components without scale_factor\n",
    "    att = QuaternionSelfAttention(d, num_heads, att_key)\n",
    "    mlp = QuaternionMLP(d, d*2, d, mlp_key)\n",
    "    logit_projection = QuaternionLinear(d, 1, key=logit_key)\n",
    "    \n",
    "    # Create KGTransformer with initialized components\n",
    "    model = KGTransformer(\n",
    "        num_entities=num_entities,\n",
    "        d=d,\n",
    "        num_heads=num_heads,\n",
    "        max_len=max_len,\n",
    "        key=key\n",
    "    )\n",
    "    \n",
    "    # Replace with our cautiously initialized components\n",
    "    model = eqx.tree_at(lambda m: m.embed, model, embed)\n",
    "    model = eqx.tree_at(lambda m: m.att, model, att)\n",
    "    model = eqx.tree_at(lambda m: m.mlp, model, mlp)\n",
    "    model = eqx.tree_at(lambda m: m.logit_projection, model, logit_projection)\n",
    "    \n",
    "    return model\n",
    "\n",
    "num_entities = len(vocabulary)\n",
    "key = jax.random.PRNGKey(0)\n",
    "\n",
    "model = init_safer_model(num_entities=num_entities,\n",
    "    d=256,\n",
    "    num_heads=25,\n",
    "    max_len=25,\n",
    "    key=key)\n",
    "\n",
    "batch_size = 32\n",
    "\n",
    "model, train_losses, val_losses = train(\n",
    "    model,\n",
    "    batch_size,\n",
    "    X_train,\n",
    "    y_train,\n",
    "    vocabulary,\n",
    "    x_val=X_val,\n",
    "    y_val=y_val,\n",
    "    x_test=X_test,\n",
    "    y_test=y_test,\n",
    "    num_epochs=150,\n",
    "    eval_every=1  # Evaluate on validation set every epoch\n",
    ")"
   ]
  },
  {
   "cell_type": "markdown",
   "metadata": {},
   "source": [
    "# Transformer"
   ]
  },
  {
   "cell_type": "code",
   "execution_count": null,
   "metadata": {},
   "outputs": [
    {
     "name": "stdout",
     "output_type": "stream",
     "text": [
      "Output shape: (32, 50)\n"
     ]
    }
   ],
   "source": [
    "import jax\n",
    "import jax.numpy as jnp\n",
    "import jax.random as jr\n",
    "import equinox as eqx\n",
    "import optax\n",
    "from typing import Dict, Tuple, List, Optional\n",
    "import numpy as np\n",
    "import time\n",
    "\n",
    "\n",
    "class Embedder(eqx.Module):\n",
    "    token_embedding: jnp.ndarray  # shape: (vocab_size, embed_dim)\n",
    "    dropout: eqx.nn.Dropout\n",
    "    vocab_size: int\n",
    "    embed_dim: int\n",
    "    base: float = 10000.0  # Base frequency for RoPE\n",
    "\n",
    "    def __init__(self, vocab_size: int, embed_dim: int, dropout_rate: float, key: jr.PRNGKey):\n",
    "        embed_key, dropout_key = jr.split(key)\n",
    "        # Initialize token embedding matrix with small random values\n",
    "        self.token_embedding = jr.normal(embed_key, (vocab_size, embed_dim)) * 0.02\n",
    "        self.dropout = eqx.nn.Dropout(dropout_rate)\n",
    "        self.vocab_size = vocab_size\n",
    "        self.embed_dim = embed_dim\n",
    "\n",
    "    def __call__(self, tokens: jnp.ndarray, enable_dropout: bool = False, key: Optional[jr.PRNGKey] = None) -> jnp.ndarray:\n",
    "        \"\"\"\n",
    "        tokens: shape (seq_len,) -- a single sequence of token IDs\n",
    "        \"\"\"\n",
    "        # Lookup token embeddings for a single sequence\n",
    "        embeddings = self.token_embedding[tokens]  # shape: (seq_len, embed_dim)\n",
    "        # Apply dropout if enabled\n",
    "        embeddings = self.dropout(embeddings, inference=not enable_dropout, key=key)\n",
    "        # Incorporate positional encoding using RoPE\n",
    "        embeddings = self.apply_rope(embeddings)\n",
    "        return embeddings\n",
    "\n",
    "    def apply_rope(self, embeddings: jnp.ndarray) -> jnp.ndarray:\n",
    "        \"\"\"\n",
    "        Apply Rotary Positional Embedding to token embeddings for a single sequence.\n",
    "        embeddings: shape (seq_len, embed_dim)\n",
    "        \"\"\"\n",
    "        seq_len, dim = embeddings.shape\n",
    "        assert dim % 2 == 0, \"Embedding dimension must be even for RoPE.\"\n",
    "        half = dim // 2\n",
    "\n",
    "        # Frequencies for each dimension pair\n",
    "        dims = jnp.arange(half)\n",
    "        freqs = 1.0 / (self.base ** (dims / half))  # shape: (half,)\n",
    "\n",
    "        # Positional indices for each token in the sequence\n",
    "        pos = jnp.arange(seq_len)  # shape: (seq_len,)\n",
    "\n",
    "        # Compute angles for each position and dimension pair\n",
    "        angles = pos[:, None] * freqs[None, :]  # shape: (seq_len, half)\n",
    "\n",
    "        # Compute cosine and sine factors for these angles\n",
    "        cos_vals = jnp.cos(angles)  # shape: (seq_len, half)\n",
    "        sin_vals = jnp.sin(angles)  # shape: (seq_len, half)\n",
    "\n",
    "        # Reshape embeddings to separate pairs: shape (seq_len, half, 2)\n",
    "        x = embeddings.reshape(seq_len, half, 2)\n",
    "\n",
    "        # Reshape cos and sin for broadcasting: shape (seq_len, half, 1)\n",
    "        cos_vals = cos_vals[:, :, None]\n",
    "        sin_vals = sin_vals[:, :, None]\n",
    "\n",
    "        # Apply the rotary transformation on each pair\n",
    "        x0 = x[..., 0:1]  # first element of each pair\n",
    "        x1 = x[..., 1:2]  # second element of each pair\n",
    "        new_x0 = x0 * cos_vals - x1 * sin_vals\n",
    "        new_x1 = x0 * sin_vals + x1 * cos_vals\n",
    "\n",
    "        # Concatenate rotated pairs and reshape back to original dimensions\n",
    "        new_x = jnp.concatenate([new_x0, new_x1], axis=-1)  # shape: (seq_len, half, 2)\n",
    "        new_x = new_x.reshape(seq_len, dim)  # shape: (seq_len, embed_dim)\n",
    "\n",
    "        return new_x\n",
    "\n",
    "\n",
    "class AttentionBlock(eqx.Module):\n",
    "    attention: eqx.nn.MultiheadAttention\n",
    "    layernorm: eqx.nn.LayerNorm\n",
    "    dropout: eqx.nn.Dropout\n",
    "    num_heads: int = eqx.field(static=True)\n",
    "\n",
    "    def __init__(\n",
    "        self,\n",
    "        hidden_size: int,\n",
    "        num_heads: int,\n",
    "        dropout_rate: float,\n",
    "        attention_dropout_rate: float,\n",
    "        key: jr.PRNGKey,\n",
    "    ):\n",
    "        self.num_heads = num_heads\n",
    "        self.attention = eqx.nn.MultiheadAttention(\n",
    "            num_heads=num_heads,\n",
    "            query_size=hidden_size,\n",
    "            dropout_p=attention_dropout_rate,\n",
    "            key=key,\n",
    "        )\n",
    "        self.layernorm = eqx.nn.LayerNorm(shape=hidden_size)\n",
    "        self.dropout = eqx.nn.Dropout(dropout_rate)\n",
    "\n",
    "    def __call__(\n",
    "        self,\n",
    "        inputs: jnp.ndarray,\n",
    "        mask: Optional[jnp.ndarray],\n",
    "        enable_dropout: bool = False,\n",
    "        key: Optional[jr.PRNGKey] = None,\n",
    "    ) -> jnp.ndarray:\n",
    "        if mask is not None:\n",
    "            mask = self.make_self_attention_mask(mask)\n",
    "        else:\n",
    "            # Assume autoregressive\n",
    "            mask = self.causal_self_attention_mask(inputs.shape[0])\n",
    "        attn_key, dropout_key = (None, None) if key is None else jr.split(key)\n",
    "\n",
    "        attn_output = self.attention(\n",
    "            query=inputs,\n",
    "            key_=inputs,\n",
    "            value=inputs,\n",
    "            mask=mask,\n",
    "            inference=not enable_dropout,\n",
    "            key=attn_key,\n",
    "        )\n",
    "\n",
    "        result = attn_output + inputs\n",
    "        result = self.dropout(result, inference=not enable_dropout, key=dropout_key)\n",
    "        result = jax.vmap(self.layernorm)(result)\n",
    "\n",
    "        return result\n",
    "\n",
    "    def make_self_attention_mask(self, mask: jnp.ndarray) -> jnp.ndarray:\n",
    "        mask = jnp.multiply(jnp.expand_dims(mask, axis=-1), jnp.expand_dims(mask, axis=-2))\n",
    "        mask = jnp.expand_dims(mask, axis=-3)\n",
    "        mask = jnp.repeat(mask, repeats=self.num_heads, axis=-3)\n",
    "        return mask.astype(jnp.float32)\n",
    "\n",
    "    def causal_self_attention_mask(self, seq_len: int) -> jnp.ndarray:\n",
    "        \"\"\"\n",
    "        Creates a causal attention mask for a sequence.\n",
    "        Args:\n",
    "            seq_len: Length of the sequence.\n",
    "\n",
    "        Returns:\n",
    "            Causal attention mask with shape (seq_len, seq_len).\n",
    "        \"\"\"\n",
    "        # Create a lower-triangular mask (causal mask)\n",
    "        mask = jnp.tril(jnp.ones((seq_len, seq_len)))\n",
    "        return mask.astype(jnp.float32)\n",
    "\n",
    "\n",
    "class FeedForwardBlock(eqx.Module):\n",
    "    mlp: eqx.nn.Linear\n",
    "    output: eqx.nn.Linear\n",
    "    layernorm: eqx.nn.LayerNorm\n",
    "    dropout: eqx.nn.Dropout\n",
    "\n",
    "    def __init__(\n",
    "        self,\n",
    "        hidden_size: int,\n",
    "        intermediate_size: int,\n",
    "        dropout_rate: float,\n",
    "        key: jax.random.PRNGKey,\n",
    "    ):\n",
    "        mlp_key, output_key = jax.random.split(key)\n",
    "        self.mlp = eqx.nn.Linear(in_features=hidden_size, out_features=intermediate_size, key=mlp_key)\n",
    "        self.output = eqx.nn.Linear(in_features=intermediate_size, out_features=hidden_size, key=output_key)\n",
    "        self.layernorm = eqx.nn.LayerNorm(shape=hidden_size)\n",
    "        self.dropout = eqx.nn.Dropout(dropout_rate)\n",
    "\n",
    "    def __call__(\n",
    "        self,\n",
    "        inputs: jnp.ndarray,\n",
    "        enable_dropout: bool = True,\n",
    "        key: Optional[jax.random.PRNGKey] = None,\n",
    "    ) -> jnp.ndarray:\n",
    "        hidden = self.mlp(inputs)\n",
    "        hidden = jax.nn.gelu(hidden)\n",
    "        output = self.output(hidden)\n",
    "        output = self.dropout(output, inference=not enable_dropout, key=key)\n",
    "        output += inputs\n",
    "        output = self.layernorm(output)\n",
    "        return output\n",
    "\n",
    "\n",
    "class TransformerLayer(eqx.Module):\n",
    "    attention_block: AttentionBlock\n",
    "    ff_block: FeedForwardBlock\n",
    "\n",
    "    def __init__(\n",
    "        self,\n",
    "        hidden_size: int,\n",
    "        intermediate_size: int,\n",
    "        num_heads: int,\n",
    "        dropout_rate: float,\n",
    "        attention_dropout_rate: float,\n",
    "        key: jax.random.PRNGKey,\n",
    "    ):\n",
    "        attention_key, ff_key = jax.random.split(key)\n",
    "        self.attention_block = AttentionBlock(\n",
    "            hidden_size=hidden_size,\n",
    "            num_heads=num_heads,\n",
    "            dropout_rate=dropout_rate,\n",
    "            attention_dropout_rate=attention_dropout_rate,\n",
    "            key=attention_key,\n",
    "        )\n",
    "        self.ff_block = FeedForwardBlock(\n",
    "            hidden_size=hidden_size,\n",
    "            intermediate_size=intermediate_size,\n",
    "            dropout_rate=dropout_rate,\n",
    "            key=ff_key,\n",
    "        )\n",
    "\n",
    "    def __call__(\n",
    "        self,\n",
    "        inputs: jnp.ndarray,\n",
    "        mask: Optional[jnp.ndarray] = None,\n",
    "        *,\n",
    "        enable_dropout: bool = False,\n",
    "        key: Optional[jax.random.PRNGKey] = None,\n",
    "    ) -> jnp.ndarray:\n",
    "        attn_key, ff_key = (None, None) if key is None else jr.split(key)\n",
    "        attention_output = self.attention_block(inputs, mask, enable_dropout=enable_dropout, key=attn_key)\n",
    "        seq_len = inputs.shape[0]\n",
    "        ff_keys = None if ff_key is None else jr.split(ff_key, num=seq_len)\n",
    "        output = jax.vmap(self.ff_block, in_axes=(0, None, 0))(attention_output, enable_dropout, ff_keys)\n",
    "        return output\n",
    "\n",
    "\n",
    "class LogitProjection(eqx.Module):\n",
    "    linear: eqx.nn.Linear\n",
    "\n",
    "    def __init__(self, hidden_size: int, vocab_size: int, key: jax.random.PRNGKey):\n",
    "        self.linear = eqx.nn.Linear(in_features=hidden_size, out_features=vocab_size, key=key)\n",
    "\n",
    "    def __call__(self, x: jnp.ndarray) -> jnp.ndarray:\n",
    "        return self.linear(x)\n",
    "\n",
    "\n",
    "class Transformer(eqx.Module):\n",
    "    layers: List[TransformerLayer]\n",
    "    logit_projection: LogitProjection\n",
    "\n",
    "    def __init__(\n",
    "        self,\n",
    "        hidden_size: int,\n",
    "        intermediate_size: int,\n",
    "        num_layers: int,\n",
    "        num_heads: int,\n",
    "        dropout_rate: float,\n",
    "        attention_dropout_rate: float,\n",
    "        vocab_size: int,  # should be int rather than float\n",
    "        key: jax.random.PRNGKey,\n",
    "    ):\n",
    "        layer_keys = jax.random.split(key, num=num_layers + 1)\n",
    "        # last one for the logit projection\n",
    "        self.layers = [\n",
    "            TransformerLayer(\n",
    "                hidden_size=hidden_size,\n",
    "                intermediate_size=intermediate_size,\n",
    "                num_heads=num_heads,\n",
    "                dropout_rate=dropout_rate,\n",
    "                attention_dropout_rate=attention_dropout_rate,\n",
    "                key=layer_key,\n",
    "            )\n",
    "            for layer_key in layer_keys[:-1]\n",
    "        ]\n",
    "\n",
    "        agg_key, proj_key = jax.random.split(layer_keys[-1])\n",
    "        self.logit_projection = LogitProjection(\n",
    "            hidden_size=hidden_size, vocab_size=vocab_size, key=proj_key\n",
    "        )\n",
    "\n",
    "    def __call__(\n",
    "        self,\n",
    "        embeddings: jnp.ndarray,\n",
    "        *,\n",
    "        enable_dropout: bool = False,\n",
    "        key: Optional[jax.random.PRNGKey] = None,\n",
    "    ) -> jnp.ndarray:\n",
    "        mask = jnp.ones(embeddings.shape[0]).astype(jnp.float32)  # no mask by default\n",
    "        # mask = None  # autoregressive if None\n",
    "\n",
    "        x = embeddings\n",
    "        if key is not None:\n",
    "            # We'll split once per layer so each layer gets a unique subkey.\n",
    "            layer_subkeys = jax.random.split(key, num=len(self.layers))\n",
    "        else:\n",
    "            # No dropout if we pass None everywhere\n",
    "            layer_subkeys = [None] * len(self.layers)\n",
    "\n",
    "        for layer, layer_key in zip(self.layers, layer_subkeys):\n",
    "            x = layer(x, mask, enable_dropout=enable_dropout, key=layer_key)\n",
    "    \n",
    "        return jax.vmap(self.logit_projection)(x)\n",
    "\n",
    "\n",
    "class TransformerModel(eqx.Module):\n",
    "    embedder: Embedder\n",
    "    transformer: Transformer\n",
    "\n",
    "    def __init__(\n",
    "        self,\n",
    "        vocab_size: int,\n",
    "        embed_dim: int,\n",
    "        intermediate_size: int,\n",
    "        num_layers: int,\n",
    "        num_heads: int,\n",
    "        dropout_rate: float,\n",
    "        attention_dropout_rate: float,\n",
    "        key: jax.random.PRNGKey,\n",
    "    ):\n",
    "        # Split keys for embedder and transformer\n",
    "        embed_key, transformer_key = jr.split(key)\n",
    "        self.embedder = Embedder(vocab_size=vocab_size, embed_dim=embed_dim, dropout_rate=dropout_rate, key=embed_key)\n",
    "        self.transformer = Transformer(\n",
    "            hidden_size=embed_dim,\n",
    "            intermediate_size=intermediate_size,\n",
    "            num_layers=num_layers,\n",
    "            num_heads=num_heads,\n",
    "            dropout_rate=dropout_rate,\n",
    "            attention_dropout_rate=attention_dropout_rate,\n",
    "            vocab_size=vocab_size,\n",
    "            key=transformer_key\n",
    "        )\n",
    "\n",
    "    def __call__(self, token_batch: jnp.ndarray, enable_dropout: bool = False, key: Optional[jax.random.PRNGKey] = None) -> jnp.ndarray:\n",
    "        \"\"\"\n",
    "        token_batch: shape (seq_len,) of integer token IDs\n",
    "        \"\"\"\n",
    "        # Split keys for embedder and transformer\n",
    "        embed_key, trans_key = jr.split(key) if key is not None else (None, None)\n",
    "\n",
    "        # Embed the token batch with positional encoding\n",
    "        embeddings = self.embedder(token_batch, enable_dropout=enable_dropout, key=embed_key)\n",
    "\n",
    "        # Pass embeddings through the transformer for each sample in the batch\n",
    "        outputs = self.transformer(embeddings, enable_dropout=enable_dropout, key=trans_key)\n",
    "\n",
    "        return outputs[0]\n",
    "\n",
    "import jax.random as jr\n",
    "\n",
    "# check if the model class works before training with dummy inputs\n",
    "\n",
    "vocab_size = 50\n",
    "embed_dim = 128\n",
    "intermediate_size = 256\n",
    "num_layers = 6\n",
    "# num_heads = 8\n",
    "num_heads = 4\n",
    "dropout_rate = 0.005\n",
    "attention_dropout_rate = 0.005\n",
    "\n",
    "seq_len = 50\n",
    "\n",
    "key = jr.PRNGKey(0)\n",
    "\n",
    "model_key, usage_key = jr.split(key)\n",
    "\n",
    "# model takes in integers, as is tradition\n",
    "\n",
    "model = TransformerModel(\n",
    "    vocab_size=vocab_size,\n",
    "    embed_dim=embed_dim,\n",
    "    intermediate_size=intermediate_size,\n",
    "    num_layers=num_layers,\n",
    "    num_heads=num_heads,\n",
    "    dropout_rate=dropout_rate,\n",
    "    attention_dropout_rate=attention_dropout_rate,\n",
    "    key=model_key\n",
    ")\n",
    "\n",
    "batch_size = 32\n",
    "# Prepare a batch of integer token sequences\n",
    "# Each token is an integer index in the range [0, vocab_size)\n",
    "random_token_ids = jr.randint(usage_key, (batch_size, seq_len), minval=0, maxval=vocab_size)\n",
    "\n",
    "output_key = jr.PRNGKey(123)  # A separate key for model forward pass randomness\n",
    "logits = jax.vmap(lambda tokens: model(tokens, enable_dropout=False, key=output_key))(random_token_ids)\n",
    "\n",
    "print(\"Output shape:\", logits.shape)  # Test forward pass"
   ]
  },
  {
   "cell_type": "code",
   "execution_count": null,
   "metadata": {},
   "outputs": [
    {
     "name": "stderr",
     "output_type": "stream",
     "text": [
      "  1%|          | 1/150 [00:09<23:17,  9.38s/it]"
     ]
    },
    {
     "name": "stdout",
     "output_type": "stream",
     "text": [
      "Epoch 0, Train Loss: 0.698924, Val Loss: 0.699285\n"
     ]
    },
    {
     "name": "stderr",
     "output_type": "stream",
     "text": [
      "  1%|▏         | 2/150 [00:10<11:19,  4.59s/it]"
     ]
    },
    {
     "name": "stdout",
     "output_type": "stream",
     "text": [
      "Epoch 1, Train Loss: 0.695946, Val Loss: 0.696610\n"
     ]
    },
    {
     "name": "stderr",
     "output_type": "stream",
     "text": [
      "  2%|▏         | 3/150 [00:11<07:30,  3.07s/it]"
     ]
    },
    {
     "name": "stdout",
     "output_type": "stream",
     "text": [
      "Epoch 2, Train Loss: 0.694598, Val Loss: 0.693766\n"
     ]
    },
    {
     "name": "stderr",
     "output_type": "stream",
     "text": [
      "  3%|▎         | 4/150 [00:13<05:42,  2.35s/it]"
     ]
    },
    {
     "name": "stdout",
     "output_type": "stream",
     "text": [
      "Epoch 3, Train Loss: 0.694216, Val Loss: 0.693607\n"
     ]
    },
    {
     "name": "stderr",
     "output_type": "stream",
     "text": [
      "  3%|▎         | 5/150 [00:14<04:42,  1.95s/it]"
     ]
    },
    {
     "name": "stdout",
     "output_type": "stream",
     "text": [
      "Epoch 4, Train Loss: 0.694668, Val Loss: 0.693648\n"
     ]
    },
    {
     "name": "stderr",
     "output_type": "stream",
     "text": [
      "  4%|▍         | 6/150 [00:15<04:06,  1.71s/it]"
     ]
    },
    {
     "name": "stdout",
     "output_type": "stream",
     "text": [
      "Epoch 5, Train Loss: 0.693665, Val Loss: 0.693302\n"
     ]
    },
    {
     "name": "stderr",
     "output_type": "stream",
     "text": [
      "  5%|▍         | 7/150 [00:16<03:45,  1.57s/it]"
     ]
    },
    {
     "name": "stdout",
     "output_type": "stream",
     "text": [
      "Epoch 6, Train Loss: 0.693474, Val Loss: 0.693365\n"
     ]
    },
    {
     "name": "stderr",
     "output_type": "stream",
     "text": [
      "  5%|▌         | 8/150 [00:18<03:29,  1.48s/it]"
     ]
    },
    {
     "name": "stdout",
     "output_type": "stream",
     "text": [
      "Epoch 7, Train Loss: 0.694165, Val Loss: 0.709957\n"
     ]
    },
    {
     "name": "stderr",
     "output_type": "stream",
     "text": [
      "  6%|▌         | 9/150 [00:19<03:19,  1.41s/it]"
     ]
    },
    {
     "name": "stdout",
     "output_type": "stream",
     "text": [
      "Epoch 8, Train Loss: 0.694455, Val Loss: 0.693222\n"
     ]
    },
    {
     "name": "stderr",
     "output_type": "stream",
     "text": [
      "  7%|▋         | 10/150 [00:20<03:11,  1.37s/it]"
     ]
    },
    {
     "name": "stdout",
     "output_type": "stream",
     "text": [
      "Epoch 9, Train Loss: 0.693903, Val Loss: 0.693151\n"
     ]
    },
    {
     "name": "stderr",
     "output_type": "stream",
     "text": [
      "  7%|▋         | 11/150 [00:21<03:06,  1.34s/it]"
     ]
    },
    {
     "name": "stdout",
     "output_type": "stream",
     "text": [
      "Epoch 10, Train Loss: 0.693454, Val Loss: 0.693148\n"
     ]
    },
    {
     "name": "stderr",
     "output_type": "stream",
     "text": [
      "  8%|▊         | 12/150 [00:23<03:01,  1.32s/it]"
     ]
    },
    {
     "name": "stdout",
     "output_type": "stream",
     "text": [
      "Epoch 11, Train Loss: 0.693474, Val Loss: 0.693156\n"
     ]
    },
    {
     "name": "stderr",
     "output_type": "stream",
     "text": [
      "  9%|▊         | 13/150 [00:24<02:58,  1.30s/it]"
     ]
    },
    {
     "name": "stdout",
     "output_type": "stream",
     "text": [
      "Epoch 12, Train Loss: 0.693386, Val Loss: 0.693148\n"
     ]
    },
    {
     "name": "stderr",
     "output_type": "stream",
     "text": [
      "  9%|▉         | 14/150 [00:25<02:55,  1.29s/it]"
     ]
    },
    {
     "name": "stdout",
     "output_type": "stream",
     "text": [
      "Epoch 13, Train Loss: 0.693402, Val Loss: 0.693183\n"
     ]
    },
    {
     "name": "stderr",
     "output_type": "stream",
     "text": [
      " 10%|█         | 15/150 [00:27<02:54,  1.30s/it]"
     ]
    },
    {
     "name": "stdout",
     "output_type": "stream",
     "text": [
      "Epoch 14, Train Loss: 0.694097, Val Loss: 0.694982\n"
     ]
    },
    {
     "name": "stderr",
     "output_type": "stream",
     "text": [
      " 11%|█         | 16/150 [00:28<02:52,  1.29s/it]"
     ]
    },
    {
     "name": "stdout",
     "output_type": "stream",
     "text": [
      "Epoch 15, Train Loss: 0.693261, Val Loss: 0.693163\n"
     ]
    },
    {
     "name": "stderr",
     "output_type": "stream",
     "text": [
      " 11%|█▏        | 17/150 [00:29<02:50,  1.28s/it]"
     ]
    },
    {
     "name": "stdout",
     "output_type": "stream",
     "text": [
      "Epoch 16, Train Loss: 0.693370, Val Loss: 0.693161\n"
     ]
    },
    {
     "name": "stderr",
     "output_type": "stream",
     "text": [
      " 12%|█▏        | 18/150 [00:30<02:48,  1.27s/it]"
     ]
    },
    {
     "name": "stdout",
     "output_type": "stream",
     "text": [
      "Epoch 17, Train Loss: 0.693509, Val Loss: 0.693248\n"
     ]
    },
    {
     "name": "stderr",
     "output_type": "stream",
     "text": [
      " 13%|█▎        | 19/150 [00:32<02:45,  1.27s/it]"
     ]
    },
    {
     "name": "stdout",
     "output_type": "stream",
     "text": [
      "Epoch 18, Train Loss: 0.693918, Val Loss: 0.693151\n"
     ]
    },
    {
     "name": "stderr",
     "output_type": "stream",
     "text": [
      " 13%|█▎        | 20/150 [00:33<02:43,  1.26s/it]"
     ]
    },
    {
     "name": "stdout",
     "output_type": "stream",
     "text": [
      "Epoch 19, Train Loss: 0.693509, Val Loss: 0.693185\n"
     ]
    },
    {
     "name": "stderr",
     "output_type": "stream",
     "text": [
      " 14%|█▍        | 21/150 [00:34<02:42,  1.26s/it]"
     ]
    },
    {
     "name": "stdout",
     "output_type": "stream",
     "text": [
      "Epoch 20, Train Loss: 0.693359, Val Loss: 0.693147\n"
     ]
    },
    {
     "name": "stderr",
     "output_type": "stream",
     "text": [
      " 15%|█▍        | 22/150 [00:35<02:40,  1.26s/it]"
     ]
    },
    {
     "name": "stdout",
     "output_type": "stream",
     "text": [
      "Epoch 21, Train Loss: 0.693272, Val Loss: 0.693162\n"
     ]
    },
    {
     "name": "stderr",
     "output_type": "stream",
     "text": [
      " 15%|█▌        | 23/150 [00:37<02:39,  1.25s/it]"
     ]
    },
    {
     "name": "stdout",
     "output_type": "stream",
     "text": [
      "Epoch 22, Train Loss: 0.693435, Val Loss: 0.693156\n"
     ]
    },
    {
     "name": "stderr",
     "output_type": "stream",
     "text": [
      " 16%|█▌        | 24/150 [00:38<02:37,  1.25s/it]"
     ]
    },
    {
     "name": "stdout",
     "output_type": "stream",
     "text": [
      "Epoch 23, Train Loss: 0.693547, Val Loss: 0.693149\n"
     ]
    },
    {
     "name": "stderr",
     "output_type": "stream",
     "text": [
      " 17%|█▋        | 25/150 [00:39<02:36,  1.25s/it]"
     ]
    },
    {
     "name": "stdout",
     "output_type": "stream",
     "text": [
      "Epoch 24, Train Loss: 0.693309, Val Loss: 0.693147\n"
     ]
    },
    {
     "name": "stderr",
     "output_type": "stream",
     "text": [
      " 17%|█▋        | 26/150 [00:40<02:35,  1.25s/it]"
     ]
    },
    {
     "name": "stdout",
     "output_type": "stream",
     "text": [
      "Epoch 25, Train Loss: 0.693303, Val Loss: 0.693253\n"
     ]
    },
    {
     "name": "stderr",
     "output_type": "stream",
     "text": [
      " 18%|█▊        | 27/150 [00:42<02:33,  1.25s/it]"
     ]
    },
    {
     "name": "stdout",
     "output_type": "stream",
     "text": [
      "Epoch 26, Train Loss: 0.693646, Val Loss: 0.693256\n"
     ]
    },
    {
     "name": "stderr",
     "output_type": "stream",
     "text": [
      " 19%|█▊        | 28/150 [00:43<02:43,  1.34s/it]"
     ]
    },
    {
     "name": "stdout",
     "output_type": "stream",
     "text": [
      "Epoch 27, Train Loss: 0.693266, Val Loss: 0.693148\n"
     ]
    },
    {
     "name": "stderr",
     "output_type": "stream",
     "text": [
      " 19%|█▉        | 29/150 [00:44<02:39,  1.32s/it]"
     ]
    },
    {
     "name": "stdout",
     "output_type": "stream",
     "text": [
      "Epoch 28, Train Loss: 0.693451, Val Loss: 0.693158\n"
     ]
    },
    {
     "name": "stderr",
     "output_type": "stream",
     "text": [
      " 20%|██        | 30/150 [00:46<02:36,  1.30s/it]"
     ]
    },
    {
     "name": "stdout",
     "output_type": "stream",
     "text": [
      "Epoch 29, Train Loss: 0.693295, Val Loss: 0.693148\n"
     ]
    },
    {
     "name": "stderr",
     "output_type": "stream",
     "text": [
      " 21%|██        | 31/150 [00:47<02:33,  1.29s/it]"
     ]
    },
    {
     "name": "stdout",
     "output_type": "stream",
     "text": [
      "Epoch 30, Train Loss: 0.693245, Val Loss: 0.693150\n"
     ]
    },
    {
     "name": "stderr",
     "output_type": "stream",
     "text": [
      " 21%|██▏       | 32/150 [00:48<02:31,  1.28s/it]"
     ]
    },
    {
     "name": "stdout",
     "output_type": "stream",
     "text": [
      "Epoch 31, Train Loss: 0.693236, Val Loss: 0.693158\n"
     ]
    },
    {
     "name": "stderr",
     "output_type": "stream",
     "text": [
      " 22%|██▏       | 33/150 [00:49<02:29,  1.27s/it]"
     ]
    },
    {
     "name": "stdout",
     "output_type": "stream",
     "text": [
      "Epoch 32, Train Loss: 0.693251, Val Loss: 0.693168\n"
     ]
    },
    {
     "name": "stderr",
     "output_type": "stream",
     "text": [
      " 23%|██▎       | 34/150 [00:51<02:27,  1.27s/it]"
     ]
    },
    {
     "name": "stdout",
     "output_type": "stream",
     "text": [
      "Epoch 33, Train Loss: 0.693648, Val Loss: 0.693218\n"
     ]
    },
    {
     "name": "stderr",
     "output_type": "stream",
     "text": [
      " 23%|██▎       | 35/150 [00:52<02:25,  1.27s/it]"
     ]
    },
    {
     "name": "stdout",
     "output_type": "stream",
     "text": [
      "Epoch 34, Train Loss: 0.693269, Val Loss: 0.693155\n"
     ]
    },
    {
     "name": "stderr",
     "output_type": "stream",
     "text": [
      " 24%|██▍       | 36/150 [00:53<02:24,  1.26s/it]"
     ]
    },
    {
     "name": "stdout",
     "output_type": "stream",
     "text": [
      "Epoch 35, Train Loss: 0.693262, Val Loss: 0.693147\n"
     ]
    },
    {
     "name": "stderr",
     "output_type": "stream",
     "text": [
      " 25%|██▍       | 37/150 [00:55<02:22,  1.26s/it]"
     ]
    },
    {
     "name": "stdout",
     "output_type": "stream",
     "text": [
      "Epoch 36, Train Loss: 0.693226, Val Loss: 0.693147\n"
     ]
    },
    {
     "name": "stderr",
     "output_type": "stream",
     "text": [
      " 25%|██▌       | 38/150 [00:56<02:21,  1.26s/it]"
     ]
    },
    {
     "name": "stdout",
     "output_type": "stream",
     "text": [
      "Epoch 37, Train Loss: 0.693273, Val Loss: 0.693151\n"
     ]
    },
    {
     "name": "stderr",
     "output_type": "stream",
     "text": [
      " 26%|██▌       | 39/150 [00:57<02:19,  1.26s/it]"
     ]
    },
    {
     "name": "stdout",
     "output_type": "stream",
     "text": [
      "Epoch 38, Train Loss: 0.693206, Val Loss: 0.693150\n"
     ]
    },
    {
     "name": "stderr",
     "output_type": "stream",
     "text": [
      " 27%|██▋       | 40/150 [00:58<02:18,  1.26s/it]"
     ]
    },
    {
     "name": "stdout",
     "output_type": "stream",
     "text": [
      "Epoch 39, Train Loss: 0.694023, Val Loss: 0.693331\n"
     ]
    },
    {
     "name": "stderr",
     "output_type": "stream",
     "text": [
      " 27%|██▋       | 41/150 [01:00<02:17,  1.26s/it]"
     ]
    },
    {
     "name": "stdout",
     "output_type": "stream",
     "text": [
      "Epoch 40, Train Loss: 0.693750, Val Loss: 0.693205\n"
     ]
    },
    {
     "name": "stderr",
     "output_type": "stream",
     "text": [
      " 28%|██▊       | 42/150 [01:01<02:15,  1.26s/it]"
     ]
    },
    {
     "name": "stdout",
     "output_type": "stream",
     "text": [
      "Epoch 41, Train Loss: 0.693387, Val Loss: 0.693159\n"
     ]
    },
    {
     "name": "stderr",
     "output_type": "stream",
     "text": [
      " 29%|██▊       | 43/150 [01:02<02:14,  1.26s/it]"
     ]
    },
    {
     "name": "stdout",
     "output_type": "stream",
     "text": [
      "Epoch 42, Train Loss: 0.693308, Val Loss: 0.693160\n"
     ]
    },
    {
     "name": "stderr",
     "output_type": "stream",
     "text": [
      " 29%|██▉       | 44/150 [01:03<02:12,  1.25s/it]"
     ]
    },
    {
     "name": "stdout",
     "output_type": "stream",
     "text": [
      "Epoch 43, Train Loss: 0.693293, Val Loss: 0.693147\n"
     ]
    },
    {
     "name": "stderr",
     "output_type": "stream",
     "text": [
      " 30%|███       | 45/150 [01:05<02:11,  1.25s/it]"
     ]
    },
    {
     "name": "stdout",
     "output_type": "stream",
     "text": [
      "Epoch 44, Train Loss: 0.693252, Val Loss: 0.693148\n"
     ]
    },
    {
     "name": "stderr",
     "output_type": "stream",
     "text": [
      " 31%|███       | 46/150 [01:06<02:10,  1.25s/it]"
     ]
    },
    {
     "name": "stdout",
     "output_type": "stream",
     "text": [
      "Epoch 45, Train Loss: 0.693589, Val Loss: 0.693147\n"
     ]
    },
    {
     "name": "stderr",
     "output_type": "stream",
     "text": [
      " 31%|███▏      | 47/150 [01:07<02:08,  1.25s/it]"
     ]
    },
    {
     "name": "stdout",
     "output_type": "stream",
     "text": [
      "Epoch 46, Train Loss: 0.693200, Val Loss: 0.693147\n"
     ]
    },
    {
     "name": "stderr",
     "output_type": "stream",
     "text": [
      " 32%|███▏      | 48/150 [01:08<02:07,  1.25s/it]"
     ]
    },
    {
     "name": "stdout",
     "output_type": "stream",
     "text": [
      "Epoch 47, Train Loss: 0.693234, Val Loss: 0.693159\n"
     ]
    },
    {
     "name": "stderr",
     "output_type": "stream",
     "text": [
      " 33%|███▎      | 49/150 [01:10<02:06,  1.25s/it]"
     ]
    },
    {
     "name": "stdout",
     "output_type": "stream",
     "text": [
      "Epoch 48, Train Loss: 0.693360, Val Loss: 0.693387\n"
     ]
    },
    {
     "name": "stderr",
     "output_type": "stream",
     "text": [
      " 33%|███▎      | 50/150 [01:11<02:04,  1.25s/it]"
     ]
    },
    {
     "name": "stdout",
     "output_type": "stream",
     "text": [
      "Epoch 49, Train Loss: 0.693381, Val Loss: 0.693179\n"
     ]
    },
    {
     "name": "stderr",
     "output_type": "stream",
     "text": [
      " 34%|███▍      | 51/150 [01:12<02:03,  1.25s/it]"
     ]
    },
    {
     "name": "stdout",
     "output_type": "stream",
     "text": [
      "Epoch 50, Train Loss: 0.693144, Val Loss: 0.696328\n"
     ]
    },
    {
     "name": "stderr",
     "output_type": "stream",
     "text": [
      " 35%|███▍      | 52/150 [01:13<02:02,  1.25s/it]"
     ]
    },
    {
     "name": "stdout",
     "output_type": "stream",
     "text": [
      "Epoch 51, Train Loss: 0.693286, Val Loss: 0.693154\n"
     ]
    },
    {
     "name": "stderr",
     "output_type": "stream",
     "text": [
      " 35%|███▌      | 53/150 [01:15<02:01,  1.25s/it]"
     ]
    },
    {
     "name": "stdout",
     "output_type": "stream",
     "text": [
      "Epoch 52, Train Loss: 0.693324, Val Loss: 0.693177\n"
     ]
    },
    {
     "name": "stderr",
     "output_type": "stream",
     "text": [
      " 36%|███▌      | 54/150 [01:16<01:59,  1.25s/it]"
     ]
    },
    {
     "name": "stdout",
     "output_type": "stream",
     "text": [
      "Epoch 53, Train Loss: 0.693214, Val Loss: 0.693148\n"
     ]
    },
    {
     "name": "stderr",
     "output_type": "stream",
     "text": [
      " 37%|███▋      | 55/150 [01:17<01:58,  1.25s/it]"
     ]
    },
    {
     "name": "stdout",
     "output_type": "stream",
     "text": [
      "Epoch 54, Train Loss: 0.693292, Val Loss: 0.693149\n"
     ]
    },
    {
     "name": "stderr",
     "output_type": "stream",
     "text": [
      " 37%|███▋      | 56/150 [01:18<01:57,  1.25s/it]"
     ]
    },
    {
     "name": "stdout",
     "output_type": "stream",
     "text": [
      "Epoch 55, Train Loss: 0.693216, Val Loss: 0.694553\n"
     ]
    },
    {
     "name": "stderr",
     "output_type": "stream",
     "text": [
      " 38%|███▊      | 57/150 [01:20<01:56,  1.25s/it]"
     ]
    },
    {
     "name": "stdout",
     "output_type": "stream",
     "text": [
      "Epoch 56, Train Loss: 0.693415, Val Loss: 0.693188\n"
     ]
    },
    {
     "name": "stderr",
     "output_type": "stream",
     "text": [
      " 39%|███▊      | 58/150 [01:21<01:54,  1.25s/it]"
     ]
    },
    {
     "name": "stdout",
     "output_type": "stream",
     "text": [
      "Epoch 57, Train Loss: 0.693387, Val Loss: 0.693250\n"
     ]
    },
    {
     "name": "stderr",
     "output_type": "stream",
     "text": [
      " 39%|███▉      | 59/150 [01:22<01:53,  1.25s/it]"
     ]
    },
    {
     "name": "stdout",
     "output_type": "stream",
     "text": [
      "Epoch 58, Train Loss: 0.693227, Val Loss: 0.693148\n"
     ]
    },
    {
     "name": "stderr",
     "output_type": "stream",
     "text": [
      " 40%|████      | 60/150 [01:23<01:52,  1.25s/it]"
     ]
    },
    {
     "name": "stdout",
     "output_type": "stream",
     "text": [
      "Epoch 59, Train Loss: 0.693177, Val Loss: 0.693147\n"
     ]
    },
    {
     "name": "stderr",
     "output_type": "stream",
     "text": [
      " 41%|████      | 61/150 [01:25<01:51,  1.25s/it]"
     ]
    },
    {
     "name": "stdout",
     "output_type": "stream",
     "text": [
      "Epoch 60, Train Loss: 0.693220, Val Loss: 0.693148\n"
     ]
    },
    {
     "name": "stderr",
     "output_type": "stream",
     "text": [
      " 41%|████▏     | 62/150 [01:26<01:49,  1.25s/it]"
     ]
    },
    {
     "name": "stdout",
     "output_type": "stream",
     "text": [
      "Epoch 61, Train Loss: 0.693254, Val Loss: 0.693147\n"
     ]
    },
    {
     "name": "stderr",
     "output_type": "stream",
     "text": [
      " 42%|████▏     | 63/150 [01:27<01:48,  1.25s/it]"
     ]
    },
    {
     "name": "stdout",
     "output_type": "stream",
     "text": [
      "Epoch 62, Train Loss: 0.693656, Val Loss: 0.693173\n"
     ]
    },
    {
     "name": "stderr",
     "output_type": "stream",
     "text": [
      " 43%|████▎     | 64/150 [01:28<01:47,  1.25s/it]"
     ]
    },
    {
     "name": "stdout",
     "output_type": "stream",
     "text": [
      "Epoch 63, Train Loss: 0.693222, Val Loss: 0.693158\n"
     ]
    },
    {
     "name": "stderr",
     "output_type": "stream",
     "text": [
      " 43%|████▎     | 65/150 [01:30<01:46,  1.25s/it]"
     ]
    },
    {
     "name": "stdout",
     "output_type": "stream",
     "text": [
      "Epoch 64, Train Loss: 0.693173, Val Loss: 0.693160\n"
     ]
    },
    {
     "name": "stderr",
     "output_type": "stream",
     "text": [
      " 44%|████▍     | 66/150 [01:31<01:44,  1.25s/it]"
     ]
    },
    {
     "name": "stdout",
     "output_type": "stream",
     "text": [
      "Epoch 65, Train Loss: 0.693544, Val Loss: 0.693871\n"
     ]
    },
    {
     "name": "stderr",
     "output_type": "stream",
     "text": [
      " 45%|████▍     | 67/150 [01:32<01:43,  1.25s/it]"
     ]
    },
    {
     "name": "stdout",
     "output_type": "stream",
     "text": [
      "Epoch 66, Train Loss: 0.693377, Val Loss: 0.693152\n"
     ]
    },
    {
     "name": "stderr",
     "output_type": "stream",
     "text": [
      " 45%|████▌     | 68/150 [01:33<01:42,  1.25s/it]"
     ]
    },
    {
     "name": "stdout",
     "output_type": "stream",
     "text": [
      "Epoch 67, Train Loss: 0.693329, Val Loss: 0.693180\n"
     ]
    },
    {
     "name": "stderr",
     "output_type": "stream",
     "text": [
      " 46%|████▌     | 69/150 [01:35<01:41,  1.25s/it]"
     ]
    },
    {
     "name": "stdout",
     "output_type": "stream",
     "text": [
      "Epoch 68, Train Loss: 0.693182, Val Loss: 0.693164\n"
     ]
    },
    {
     "name": "stderr",
     "output_type": "stream",
     "text": [
      " 47%|████▋     | 70/150 [01:36<01:39,  1.25s/it]"
     ]
    },
    {
     "name": "stdout",
     "output_type": "stream",
     "text": [
      "Epoch 69, Train Loss: 0.693223, Val Loss: 0.693147\n"
     ]
    },
    {
     "name": "stderr",
     "output_type": "stream",
     "text": [
      " 47%|████▋     | 71/150 [01:37<01:38,  1.25s/it]"
     ]
    },
    {
     "name": "stdout",
     "output_type": "stream",
     "text": [
      "Epoch 70, Train Loss: 0.693236, Val Loss: 0.693230\n"
     ]
    },
    {
     "name": "stderr",
     "output_type": "stream",
     "text": [
      " 48%|████▊     | 72/150 [01:38<01:37,  1.25s/it]"
     ]
    },
    {
     "name": "stdout",
     "output_type": "stream",
     "text": [
      "Epoch 71, Train Loss: 0.693355, Val Loss: 0.693167\n"
     ]
    },
    {
     "name": "stderr",
     "output_type": "stream",
     "text": [
      " 49%|████▊     | 73/150 [01:39<01:36,  1.25s/it]"
     ]
    },
    {
     "name": "stdout",
     "output_type": "stream",
     "text": [
      "Epoch 72, Train Loss: 0.693245, Val Loss: 0.693151\n"
     ]
    },
    {
     "name": "stderr",
     "output_type": "stream",
     "text": [
      " 49%|████▉     | 74/150 [01:41<01:34,  1.25s/it]"
     ]
    },
    {
     "name": "stdout",
     "output_type": "stream",
     "text": [
      "Epoch 73, Train Loss: 0.693226, Val Loss: 0.693148\n"
     ]
    },
    {
     "name": "stderr",
     "output_type": "stream",
     "text": [
      " 50%|█████     | 75/150 [01:42<01:33,  1.25s/it]"
     ]
    },
    {
     "name": "stdout",
     "output_type": "stream",
     "text": [
      "Epoch 74, Train Loss: 0.693177, Val Loss: 0.693147\n"
     ]
    },
    {
     "name": "stderr",
     "output_type": "stream",
     "text": [
      " 51%|█████     | 76/150 [01:43<01:32,  1.25s/it]"
     ]
    },
    {
     "name": "stdout",
     "output_type": "stream",
     "text": [
      "Epoch 75, Train Loss: 0.693177, Val Loss: 0.693147\n"
     ]
    },
    {
     "name": "stderr",
     "output_type": "stream",
     "text": [
      " 51%|█████▏    | 77/150 [01:44<01:31,  1.25s/it]"
     ]
    },
    {
     "name": "stdout",
     "output_type": "stream",
     "text": [
      "Epoch 76, Train Loss: 0.693184, Val Loss: 0.693147\n"
     ]
    },
    {
     "name": "stderr",
     "output_type": "stream",
     "text": [
      " 52%|█████▏    | 78/150 [01:46<01:29,  1.25s/it]"
     ]
    },
    {
     "name": "stdout",
     "output_type": "stream",
     "text": [
      "Epoch 77, Train Loss: 0.693498, Val Loss: 0.693159\n"
     ]
    },
    {
     "name": "stderr",
     "output_type": "stream",
     "text": [
      " 53%|█████▎    | 79/150 [01:47<01:28,  1.25s/it]"
     ]
    },
    {
     "name": "stdout",
     "output_type": "stream",
     "text": [
      "Epoch 78, Train Loss: 0.693247, Val Loss: 0.693157\n"
     ]
    },
    {
     "name": "stderr",
     "output_type": "stream",
     "text": [
      " 53%|█████▎    | 80/150 [01:48<01:27,  1.25s/it]"
     ]
    },
    {
     "name": "stdout",
     "output_type": "stream",
     "text": [
      "Epoch 79, Train Loss: 0.693296, Val Loss: 0.693165\n"
     ]
    },
    {
     "name": "stderr",
     "output_type": "stream",
     "text": [
      " 54%|█████▍    | 81/150 [01:49<01:26,  1.25s/it]"
     ]
    },
    {
     "name": "stdout",
     "output_type": "stream",
     "text": [
      "Epoch 80, Train Loss: 0.693329, Val Loss: 0.693182\n"
     ]
    },
    {
     "name": "stderr",
     "output_type": "stream",
     "text": [
      " 55%|█████▍    | 82/150 [01:51<01:24,  1.25s/it]"
     ]
    },
    {
     "name": "stdout",
     "output_type": "stream",
     "text": [
      "Epoch 81, Train Loss: 0.693231, Val Loss: 0.693244\n"
     ]
    },
    {
     "name": "stderr",
     "output_type": "stream",
     "text": [
      " 55%|█████▌    | 83/150 [01:52<01:23,  1.25s/it]"
     ]
    },
    {
     "name": "stdout",
     "output_type": "stream",
     "text": [
      "Epoch 82, Train Loss: 0.693210, Val Loss: 0.693156\n"
     ]
    },
    {
     "name": "stderr",
     "output_type": "stream",
     "text": [
      " 56%|█████▌    | 84/150 [01:53<01:22,  1.25s/it]"
     ]
    },
    {
     "name": "stdout",
     "output_type": "stream",
     "text": [
      "Epoch 83, Train Loss: 0.693201, Val Loss: 0.693149\n"
     ]
    },
    {
     "name": "stderr",
     "output_type": "stream",
     "text": [
      " 57%|█████▋    | 85/150 [01:54<01:21,  1.25s/it]"
     ]
    },
    {
     "name": "stdout",
     "output_type": "stream",
     "text": [
      "Epoch 84, Train Loss: 0.693187, Val Loss: 0.693151\n"
     ]
    },
    {
     "name": "stderr",
     "output_type": "stream",
     "text": [
      " 57%|█████▋    | 86/150 [01:56<01:19,  1.25s/it]"
     ]
    },
    {
     "name": "stdout",
     "output_type": "stream",
     "text": [
      "Epoch 85, Train Loss: 0.693418, Val Loss: 0.693149\n"
     ]
    },
    {
     "name": "stderr",
     "output_type": "stream",
     "text": [
      " 58%|█████▊    | 87/150 [01:57<01:18,  1.25s/it]"
     ]
    },
    {
     "name": "stdout",
     "output_type": "stream",
     "text": [
      "Epoch 86, Train Loss: 0.693216, Val Loss: 0.693148\n"
     ]
    },
    {
     "name": "stderr",
     "output_type": "stream",
     "text": [
      " 59%|█████▊    | 88/150 [01:58<01:17,  1.25s/it]"
     ]
    },
    {
     "name": "stdout",
     "output_type": "stream",
     "text": [
      "Epoch 87, Train Loss: 0.693393, Val Loss: 0.693153\n"
     ]
    },
    {
     "name": "stderr",
     "output_type": "stream",
     "text": [
      " 59%|█████▉    | 89/150 [01:59<01:16,  1.25s/it]"
     ]
    },
    {
     "name": "stdout",
     "output_type": "stream",
     "text": [
      "Epoch 88, Train Loss: 0.693397, Val Loss: 0.693147\n"
     ]
    },
    {
     "name": "stderr",
     "output_type": "stream",
     "text": [
      " 60%|██████    | 90/150 [02:01<01:14,  1.25s/it]"
     ]
    },
    {
     "name": "stdout",
     "output_type": "stream",
     "text": [
      "Epoch 89, Train Loss: 0.693168, Val Loss: 0.693148\n"
     ]
    },
    {
     "name": "stderr",
     "output_type": "stream",
     "text": [
      " 61%|██████    | 91/150 [02:02<01:13,  1.25s/it]"
     ]
    },
    {
     "name": "stdout",
     "output_type": "stream",
     "text": [
      "Epoch 90, Train Loss: 0.693189, Val Loss: 0.693147\n"
     ]
    },
    {
     "name": "stderr",
     "output_type": "stream",
     "text": [
      " 61%|██████▏   | 92/150 [02:03<01:12,  1.24s/it]"
     ]
    },
    {
     "name": "stdout",
     "output_type": "stream",
     "text": [
      "Epoch 91, Train Loss: 0.693321, Val Loss: 0.693641\n"
     ]
    },
    {
     "name": "stderr",
     "output_type": "stream",
     "text": [
      " 62%|██████▏   | 93/150 [02:04<01:10,  1.24s/it]"
     ]
    },
    {
     "name": "stdout",
     "output_type": "stream",
     "text": [
      "Epoch 92, Train Loss: 0.693116, Val Loss: 0.693158\n"
     ]
    },
    {
     "name": "stderr",
     "output_type": "stream",
     "text": [
      " 63%|██████▎   | 94/150 [02:06<01:09,  1.24s/it]"
     ]
    },
    {
     "name": "stdout",
     "output_type": "stream",
     "text": [
      "Epoch 93, Train Loss: 0.693212, Val Loss: 0.693161\n"
     ]
    },
    {
     "name": "stderr",
     "output_type": "stream",
     "text": [
      " 63%|██████▎   | 95/150 [02:07<01:08,  1.24s/it]"
     ]
    },
    {
     "name": "stdout",
     "output_type": "stream",
     "text": [
      "Epoch 94, Train Loss: 0.693179, Val Loss: 0.693148\n"
     ]
    },
    {
     "name": "stderr",
     "output_type": "stream",
     "text": [
      " 64%|██████▍   | 96/150 [02:08<01:07,  1.24s/it]"
     ]
    },
    {
     "name": "stdout",
     "output_type": "stream",
     "text": [
      "Epoch 95, Train Loss: 0.693246, Val Loss: 0.693151\n"
     ]
    },
    {
     "name": "stderr",
     "output_type": "stream",
     "text": [
      " 65%|██████▍   | 97/150 [02:09<01:05,  1.24s/it]"
     ]
    },
    {
     "name": "stdout",
     "output_type": "stream",
     "text": [
      "Epoch 96, Train Loss: 0.693248, Val Loss: 0.693248\n"
     ]
    },
    {
     "name": "stderr",
     "output_type": "stream",
     "text": [
      " 65%|██████▌   | 98/150 [02:11<01:04,  1.24s/it]"
     ]
    },
    {
     "name": "stdout",
     "output_type": "stream",
     "text": [
      "Epoch 97, Train Loss: 0.693238, Val Loss: 0.693149\n"
     ]
    },
    {
     "name": "stderr",
     "output_type": "stream",
     "text": [
      " 66%|██████▌   | 99/150 [02:12<01:03,  1.24s/it]"
     ]
    },
    {
     "name": "stdout",
     "output_type": "stream",
     "text": [
      "Epoch 98, Train Loss: 0.693317, Val Loss: 0.693351\n"
     ]
    },
    {
     "name": "stderr",
     "output_type": "stream",
     "text": [
      " 67%|██████▋   | 100/150 [02:13<01:02,  1.24s/it]"
     ]
    },
    {
     "name": "stdout",
     "output_type": "stream",
     "text": [
      "Epoch 99, Train Loss: 0.693332, Val Loss: 0.693155\n"
     ]
    },
    {
     "name": "stderr",
     "output_type": "stream",
     "text": [
      " 67%|██████▋   | 101/150 [02:14<01:00,  1.24s/it]"
     ]
    },
    {
     "name": "stdout",
     "output_type": "stream",
     "text": [
      "Epoch 100, Train Loss: 0.693213, Val Loss: 0.693149\n"
     ]
    },
    {
     "name": "stderr",
     "output_type": "stream",
     "text": [
      " 68%|██████▊   | 102/150 [02:16<00:59,  1.24s/it]"
     ]
    },
    {
     "name": "stdout",
     "output_type": "stream",
     "text": [
      "Epoch 101, Train Loss: 0.693193, Val Loss: 0.693262\n"
     ]
    },
    {
     "name": "stderr",
     "output_type": "stream",
     "text": [
      " 69%|██████▊   | 103/150 [02:17<00:58,  1.24s/it]"
     ]
    },
    {
     "name": "stdout",
     "output_type": "stream",
     "text": [
      "Epoch 102, Train Loss: 0.693200, Val Loss: 0.693148\n"
     ]
    },
    {
     "name": "stderr",
     "output_type": "stream",
     "text": [
      " 69%|██████▉   | 104/150 [02:18<00:57,  1.24s/it]"
     ]
    },
    {
     "name": "stdout",
     "output_type": "stream",
     "text": [
      "Epoch 103, Train Loss: 0.693300, Val Loss: 0.693152\n"
     ]
    },
    {
     "name": "stderr",
     "output_type": "stream",
     "text": [
      " 70%|███████   | 105/150 [02:19<00:55,  1.24s/it]"
     ]
    },
    {
     "name": "stdout",
     "output_type": "stream",
     "text": [
      "Epoch 104, Train Loss: 0.693246, Val Loss: 0.693153\n"
     ]
    },
    {
     "name": "stderr",
     "output_type": "stream",
     "text": [
      " 71%|███████   | 106/150 [02:21<00:54,  1.24s/it]"
     ]
    },
    {
     "name": "stdout",
     "output_type": "stream",
     "text": [
      "Epoch 105, Train Loss: 0.693317, Val Loss: 0.693164\n"
     ]
    },
    {
     "name": "stderr",
     "output_type": "stream",
     "text": [
      " 71%|███████▏  | 107/150 [02:22<00:53,  1.24s/it]"
     ]
    },
    {
     "name": "stdout",
     "output_type": "stream",
     "text": [
      "Epoch 106, Train Loss: 0.693366, Val Loss: 0.693151\n"
     ]
    },
    {
     "name": "stderr",
     "output_type": "stream",
     "text": [
      " 72%|███████▏  | 108/150 [02:23<00:52,  1.24s/it]"
     ]
    },
    {
     "name": "stdout",
     "output_type": "stream",
     "text": [
      "Epoch 107, Train Loss: 0.693242, Val Loss: 0.694705\n"
     ]
    },
    {
     "name": "stderr",
     "output_type": "stream",
     "text": [
      " 73%|███████▎  | 109/150 [02:24<00:50,  1.24s/it]"
     ]
    },
    {
     "name": "stdout",
     "output_type": "stream",
     "text": [
      "Epoch 108, Train Loss: 0.693335, Val Loss: 0.693151\n"
     ]
    },
    {
     "name": "stderr",
     "output_type": "stream",
     "text": [
      " 73%|███████▎  | 110/150 [02:26<00:49,  1.24s/it]"
     ]
    },
    {
     "name": "stdout",
     "output_type": "stream",
     "text": [
      "Epoch 109, Train Loss: 0.693279, Val Loss: 0.693171\n"
     ]
    },
    {
     "name": "stderr",
     "output_type": "stream",
     "text": [
      " 74%|███████▍  | 111/150 [02:27<00:48,  1.24s/it]"
     ]
    },
    {
     "name": "stdout",
     "output_type": "stream",
     "text": [
      "Epoch 110, Train Loss: 0.693210, Val Loss: 0.693164\n"
     ]
    },
    {
     "name": "stderr",
     "output_type": "stream",
     "text": [
      " 75%|███████▍  | 112/150 [02:28<00:47,  1.24s/it]"
     ]
    },
    {
     "name": "stdout",
     "output_type": "stream",
     "text": [
      "Epoch 111, Train Loss: 0.693316, Val Loss: 0.693147\n"
     ]
    },
    {
     "name": "stderr",
     "output_type": "stream",
     "text": [
      " 75%|███████▌  | 113/150 [02:29<00:45,  1.24s/it]"
     ]
    },
    {
     "name": "stdout",
     "output_type": "stream",
     "text": [
      "Epoch 112, Train Loss: 0.693273, Val Loss: 0.693577\n"
     ]
    },
    {
     "name": "stderr",
     "output_type": "stream",
     "text": [
      " 76%|███████▌  | 114/150 [02:30<00:44,  1.24s/it]"
     ]
    },
    {
     "name": "stdout",
     "output_type": "stream",
     "text": [
      "Epoch 113, Train Loss: 0.693287, Val Loss: 0.693168\n"
     ]
    },
    {
     "name": "stderr",
     "output_type": "stream",
     "text": [
      " 77%|███████▋  | 115/150 [02:32<00:43,  1.24s/it]"
     ]
    },
    {
     "name": "stdout",
     "output_type": "stream",
     "text": [
      "Epoch 114, Train Loss: 0.693177, Val Loss: 0.693151\n"
     ]
    },
    {
     "name": "stderr",
     "output_type": "stream",
     "text": [
      " 77%|███████▋  | 116/150 [02:33<00:42,  1.24s/it]"
     ]
    },
    {
     "name": "stdout",
     "output_type": "stream",
     "text": [
      "Epoch 115, Train Loss: 0.693175, Val Loss: 0.693148\n"
     ]
    },
    {
     "name": "stderr",
     "output_type": "stream",
     "text": [
      " 78%|███████▊  | 117/150 [02:34<00:40,  1.24s/it]"
     ]
    },
    {
     "name": "stdout",
     "output_type": "stream",
     "text": [
      "Epoch 116, Train Loss: 0.693188, Val Loss: 0.693147\n"
     ]
    },
    {
     "name": "stderr",
     "output_type": "stream",
     "text": [
      " 79%|███████▊  | 118/150 [02:35<00:39,  1.24s/it]"
     ]
    },
    {
     "name": "stdout",
     "output_type": "stream",
     "text": [
      "Epoch 117, Train Loss: 0.693329, Val Loss: 0.693354\n"
     ]
    },
    {
     "name": "stderr",
     "output_type": "stream",
     "text": [
      " 79%|███████▉  | 119/150 [02:37<00:38,  1.24s/it]"
     ]
    },
    {
     "name": "stdout",
     "output_type": "stream",
     "text": [
      "Epoch 118, Train Loss: 0.693387, Val Loss: 0.693155\n"
     ]
    },
    {
     "name": "stderr",
     "output_type": "stream",
     "text": [
      " 80%|████████  | 120/150 [02:38<00:37,  1.24s/it]"
     ]
    },
    {
     "name": "stdout",
     "output_type": "stream",
     "text": [
      "Epoch 119, Train Loss: 0.693186, Val Loss: 0.693147\n"
     ]
    },
    {
     "name": "stderr",
     "output_type": "stream",
     "text": [
      " 81%|████████  | 121/150 [02:39<00:35,  1.24s/it]"
     ]
    },
    {
     "name": "stdout",
     "output_type": "stream",
     "text": [
      "Epoch 120, Train Loss: 0.693186, Val Loss: 0.693149\n"
     ]
    },
    {
     "name": "stderr",
     "output_type": "stream",
     "text": [
      " 81%|████████▏ | 122/150 [02:40<00:34,  1.24s/it]"
     ]
    },
    {
     "name": "stdout",
     "output_type": "stream",
     "text": [
      "Epoch 121, Train Loss: 0.693465, Val Loss: 0.693149\n"
     ]
    },
    {
     "name": "stderr",
     "output_type": "stream",
     "text": [
      " 82%|████████▏ | 123/150 [02:42<00:33,  1.24s/it]"
     ]
    },
    {
     "name": "stdout",
     "output_type": "stream",
     "text": [
      "Epoch 122, Train Loss: 0.693210, Val Loss: 0.693147\n"
     ]
    },
    {
     "name": "stderr",
     "output_type": "stream",
     "text": [
      " 83%|████████▎ | 124/150 [02:43<00:32,  1.24s/it]"
     ]
    },
    {
     "name": "stdout",
     "output_type": "stream",
     "text": [
      "Epoch 123, Train Loss: 0.693221, Val Loss: 0.693166\n"
     ]
    },
    {
     "name": "stderr",
     "output_type": "stream",
     "text": [
      " 83%|████████▎ | 125/150 [02:44<00:31,  1.24s/it]"
     ]
    },
    {
     "name": "stdout",
     "output_type": "stream",
     "text": [
      "Epoch 124, Train Loss: 0.693207, Val Loss: 0.693147\n"
     ]
    },
    {
     "name": "stderr",
     "output_type": "stream",
     "text": [
      " 84%|████████▍ | 126/150 [02:45<00:29,  1.24s/it]"
     ]
    },
    {
     "name": "stdout",
     "output_type": "stream",
     "text": [
      "Epoch 125, Train Loss: 0.693235, Val Loss: 0.693147\n"
     ]
    },
    {
     "name": "stderr",
     "output_type": "stream",
     "text": [
      " 85%|████████▍ | 127/150 [02:47<00:28,  1.24s/it]"
     ]
    },
    {
     "name": "stdout",
     "output_type": "stream",
     "text": [
      "Epoch 126, Train Loss: 0.693552, Val Loss: 0.693159\n"
     ]
    },
    {
     "name": "stderr",
     "output_type": "stream",
     "text": [
      " 85%|████████▌ | 128/150 [02:48<00:27,  1.24s/it]"
     ]
    },
    {
     "name": "stdout",
     "output_type": "stream",
     "text": [
      "Epoch 127, Train Loss: 0.693180, Val Loss: 0.693147\n"
     ]
    },
    {
     "name": "stderr",
     "output_type": "stream",
     "text": [
      " 86%|████████▌ | 129/150 [02:49<00:26,  1.24s/it]"
     ]
    },
    {
     "name": "stdout",
     "output_type": "stream",
     "text": [
      "Epoch 128, Train Loss: 0.693195, Val Loss: 0.693147\n"
     ]
    },
    {
     "name": "stderr",
     "output_type": "stream",
     "text": [
      " 87%|████████▋ | 130/150 [02:50<00:24,  1.24s/it]"
     ]
    },
    {
     "name": "stdout",
     "output_type": "stream",
     "text": [
      "Epoch 129, Train Loss: 0.693353, Val Loss: 0.693156\n"
     ]
    },
    {
     "name": "stderr",
     "output_type": "stream",
     "text": [
      " 87%|████████▋ | 131/150 [02:52<00:23,  1.24s/it]"
     ]
    },
    {
     "name": "stdout",
     "output_type": "stream",
     "text": [
      "Epoch 130, Train Loss: 0.693310, Val Loss: 0.693202\n"
     ]
    },
    {
     "name": "stderr",
     "output_type": "stream",
     "text": [
      " 88%|████████▊ | 132/150 [02:53<00:22,  1.24s/it]"
     ]
    },
    {
     "name": "stdout",
     "output_type": "stream",
     "text": [
      "Epoch 131, Train Loss: 0.693319, Val Loss: 0.693147\n"
     ]
    },
    {
     "name": "stderr",
     "output_type": "stream",
     "text": [
      " 89%|████████▊ | 133/150 [02:54<00:21,  1.24s/it]"
     ]
    },
    {
     "name": "stdout",
     "output_type": "stream",
     "text": [
      "Epoch 132, Train Loss: 0.693201, Val Loss: 0.693149\n"
     ]
    },
    {
     "name": "stderr",
     "output_type": "stream",
     "text": [
      " 89%|████████▉ | 134/150 [02:55<00:19,  1.23s/it]"
     ]
    },
    {
     "name": "stdout",
     "output_type": "stream",
     "text": [
      "Epoch 133, Train Loss: 0.693248, Val Loss: 0.693147\n"
     ]
    },
    {
     "name": "stderr",
     "output_type": "stream",
     "text": [
      " 90%|█████████ | 135/150 [02:56<00:18,  1.23s/it]"
     ]
    },
    {
     "name": "stdout",
     "output_type": "stream",
     "text": [
      "Epoch 134, Train Loss: 0.693293, Val Loss: 0.693160\n"
     ]
    },
    {
     "name": "stderr",
     "output_type": "stream",
     "text": [
      " 91%|█████████ | 136/150 [02:58<00:17,  1.23s/it]"
     ]
    },
    {
     "name": "stdout",
     "output_type": "stream",
     "text": [
      "Epoch 135, Train Loss: 0.693224, Val Loss: 0.693150\n"
     ]
    },
    {
     "name": "stderr",
     "output_type": "stream",
     "text": [
      " 91%|█████████▏| 137/150 [02:59<00:16,  1.23s/it]"
     ]
    },
    {
     "name": "stdout",
     "output_type": "stream",
     "text": [
      "Epoch 136, Train Loss: 0.693205, Val Loss: 0.693149\n"
     ]
    },
    {
     "name": "stderr",
     "output_type": "stream",
     "text": [
      " 92%|█████████▏| 138/150 [03:00<00:14,  1.23s/it]"
     ]
    },
    {
     "name": "stdout",
     "output_type": "stream",
     "text": [
      "Epoch 137, Train Loss: 0.693183, Val Loss: 0.693148\n"
     ]
    },
    {
     "name": "stderr",
     "output_type": "stream",
     "text": [
      " 93%|█████████▎| 139/150 [03:01<00:13,  1.23s/it]"
     ]
    },
    {
     "name": "stdout",
     "output_type": "stream",
     "text": [
      "Epoch 138, Train Loss: 0.693168, Val Loss: 0.693161\n"
     ]
    },
    {
     "name": "stderr",
     "output_type": "stream",
     "text": [
      " 93%|█████████▎| 140/150 [03:03<00:12,  1.23s/it]"
     ]
    },
    {
     "name": "stdout",
     "output_type": "stream",
     "text": [
      "Epoch 139, Train Loss: 0.693360, Val Loss: 0.693611\n"
     ]
    },
    {
     "name": "stderr",
     "output_type": "stream",
     "text": [
      " 94%|█████████▍| 141/150 [03:04<00:11,  1.23s/it]"
     ]
    },
    {
     "name": "stdout",
     "output_type": "stream",
     "text": [
      "Epoch 140, Train Loss: 0.693299, Val Loss: 0.693162\n"
     ]
    },
    {
     "name": "stderr",
     "output_type": "stream",
     "text": [
      " 95%|█████████▍| 142/150 [03:05<00:09,  1.23s/it]"
     ]
    },
    {
     "name": "stdout",
     "output_type": "stream",
     "text": [
      "Epoch 141, Train Loss: 0.693286, Val Loss: 0.693157\n"
     ]
    },
    {
     "name": "stderr",
     "output_type": "stream",
     "text": [
      " 95%|█████████▌| 143/150 [03:06<00:08,  1.23s/it]"
     ]
    },
    {
     "name": "stdout",
     "output_type": "stream",
     "text": [
      "Epoch 142, Train Loss: 0.693472, Val Loss: 0.693147\n"
     ]
    },
    {
     "name": "stderr",
     "output_type": "stream",
     "text": [
      " 96%|█████████▌| 144/150 [03:08<00:07,  1.23s/it]"
     ]
    },
    {
     "name": "stdout",
     "output_type": "stream",
     "text": [
      "Epoch 143, Train Loss: 0.693247, Val Loss: 0.693152\n"
     ]
    },
    {
     "name": "stderr",
     "output_type": "stream",
     "text": [
      " 97%|█████████▋| 145/150 [03:09<00:06,  1.23s/it]"
     ]
    },
    {
     "name": "stdout",
     "output_type": "stream",
     "text": [
      "Epoch 144, Train Loss: 0.693174, Val Loss: 0.693155\n"
     ]
    },
    {
     "name": "stderr",
     "output_type": "stream",
     "text": [
      " 97%|█████████▋| 146/150 [03:10<00:04,  1.23s/it]"
     ]
    },
    {
     "name": "stdout",
     "output_type": "stream",
     "text": [
      "Epoch 145, Train Loss: 0.693252, Val Loss: 0.693473\n"
     ]
    },
    {
     "name": "stderr",
     "output_type": "stream",
     "text": [
      " 98%|█████████▊| 147/150 [03:11<00:03,  1.23s/it]"
     ]
    },
    {
     "name": "stdout",
     "output_type": "stream",
     "text": [
      "Epoch 146, Train Loss: 0.693319, Val Loss: 0.693232\n"
     ]
    },
    {
     "name": "stderr",
     "output_type": "stream",
     "text": [
      " 99%|█████████▊| 148/150 [03:12<00:02,  1.23s/it]"
     ]
    },
    {
     "name": "stdout",
     "output_type": "stream",
     "text": [
      "Epoch 147, Train Loss: 0.693200, Val Loss: 0.693147\n"
     ]
    },
    {
     "name": "stderr",
     "output_type": "stream",
     "text": [
      " 99%|█████████▉| 149/150 [03:14<00:01,  1.23s/it]"
     ]
    },
    {
     "name": "stdout",
     "output_type": "stream",
     "text": [
      "Epoch 148, Train Loss: 0.693195, Val Loss: 0.693170\n"
     ]
    },
    {
     "name": "stderr",
     "output_type": "stream",
     "text": [
      "100%|██████████| 150/150 [03:15<00:00,  1.30s/it]"
     ]
    },
    {
     "name": "stdout",
     "output_type": "stream",
     "text": [
      "Epoch 149, Train Loss: 0.693229, Val Loss: 0.693149\n"
     ]
    },
    {
     "name": "stderr",
     "output_type": "stream",
     "text": [
      "\n"
     ]
    },
    {
     "name": "stdout",
     "output_type": "stream",
     "text": [
      "Final Test Loss: 0.693148\n"
     ]
    }
   ],
   "source": [
    "from typing import Iterator, Tuple\n",
    "import math\n",
    "from tqdm import tqdm\n",
    "import jax\n",
    "import jax.numpy as jnp\n",
    "import jax.random as jr\n",
    "import equinox as eqx\n",
    "import optax\n",
    "\n",
    "class BatchIterator:\n",
    "    \"\"\"\n",
    "    An iterable over (X_batch, y_batch) with a proper __len__,\n",
    "    so that tqdm can infer the total number of batches automatically.\n",
    "    \"\"\"\n",
    "    def __init__(self, X: jnp.ndarray, y: jnp.ndarray, B: int):\n",
    "        \"\"\"\n",
    "        Args:\n",
    "          X: array of shape (N, p)\n",
    "          y: array of shape (N,)\n",
    "          B: desired batch size\n",
    "        \"\"\"\n",
    "        self.X = X\n",
    "        self.y = y\n",
    "        self.B = B\n",
    "        self.N = X.shape[0]\n",
    "        # total number of batches, rounding up\n",
    "        self.K = math.ceil(self.N / B)\n",
    "\n",
    "    def __len__(self) -> int:\n",
    "        # so that len(batch_iter) == number of batches\n",
    "        return self.K\n",
    "\n",
    "    def __iter__(self) -> Iterator[Tuple[jnp.ndarray, jnp.ndarray]]:\n",
    "        # yield each minibatch\n",
    "        for k in range(self.K):\n",
    "            start = k * self.B\n",
    "            end = min(start + self.B, self.N)\n",
    "            Xb = self.X[start:end, :]   # shape (b, p)\n",
    "            yb = self.y[start:end]      # shape (b,)\n",
    "            yield Xb, yb\n",
    "\n",
    "\n",
    "@eqx.filter_jit\n",
    "def loss_fn(m, xb, yb):\n",
    "    # Forward pass with safeguards\n",
    "    def safe_forward(x_sample):\n",
    "        logit = m(x_sample, enable_dropout=False, key=jr.PRNGKey(0))[0]\n",
    "        # Clip to prevent extreme values\n",
    "        return jnp.clip(logit, -5.0, 5.0)\n",
    "    \n",
    "    # Use vmap for the forward pass\n",
    "    logits = jax.vmap(safe_forward)(xb)\n",
    "    \n",
    "    # Safe BCE implementation\n",
    "    def safe_bce(logit, label):\n",
    "        # Sigmoid with clipping\n",
    "        prob = jax.nn.sigmoid(jnp.clip(logit, -10.0, 10.0))\n",
    "        prob = jnp.clip(prob, 1e-6, 1.0 - 1e-6)\n",
    "        \n",
    "        # Calculate BCE loss\n",
    "        loss = -(label * jnp.log(prob) + (1 - label) * jnp.log(1.0 - prob))\n",
    "        \n",
    "        # Replace NaNs with default value\n",
    "        return jnp.where(jnp.isnan(loss), 0.7, loss)\n",
    "    \n",
    "    # Apply BCE to each example\n",
    "    losses = jax.vmap(lambda x, y: safe_bce(x, y))(logits, yb)\n",
    "    \n",
    "    # Safe mean calculation - no conditional branches!\n",
    "    valid_mask = jnp.isfinite(losses)\n",
    "    valid_count = jnp.sum(valid_mask)\n",
    "    \n",
    "    # Calculate mean of valid losses or return fallback\n",
    "    safe_sum = jnp.sum(jnp.where(valid_mask, losses, 0.0))\n",
    "    mean_loss = safe_sum / jnp.maximum(valid_count, 1.0)\n",
    "    \n",
    "    # Return mean_loss if there are valid items, else return fallback\n",
    "    return jnp.where(valid_count > 0, mean_loss, jnp.array(0.7))\n",
    "\n",
    "@eqx.filter_jit\n",
    "def train_step(model, opt_state, Xb, yb, optimizer):\n",
    "    \"\"\"JIT-compiled training step function that follows proven pattern.\"\"\"\n",
    "    # Partition model into trainable and static parts\n",
    "    trainable_params, static_params = eqx.partition(model, eqx.is_inexact_array)\n",
    "    \n",
    "    # Define loss function for these specific parameters\n",
    "    def loss_fn(params):\n",
    "        # Recombine with static params for forward pass\n",
    "        full_model = eqx.combine(params, static_params)\n",
    "        \n",
    "        # Forward pass with safeguards\n",
    "        def safe_forward(x_sample):\n",
    "            logit = full_model(x_sample, enable_dropout=False, key=jr.PRNGKey(0))\n",
    "            # Clip to prevent extreme values\n",
    "            return jnp.clip(logit, -5.0, 5.0)\n",
    "        \n",
    "        # Use vmap for the forward pass over the batch\n",
    "        logits = jax.vmap(safe_forward)(Xb)\n",
    "        \n",
    "        # Safe BCE implementation\n",
    "        def safe_bce(logit, label):\n",
    "            # Sigmoid with clipping\n",
    "            prob = jax.nn.sigmoid(jnp.clip(logit, -10.0, 10.0))\n",
    "            prob = jnp.clip(prob, 1e-6, 1.0 - 1e-6)\n",
    "            \n",
    "            # Calculate BCE loss\n",
    "            loss = -(label * jnp.log(prob) + (1 - label) * jnp.log(1.0 - prob))\n",
    "            \n",
    "            # Replace NaNs with default value\n",
    "            return jnp.where(jnp.isnan(loss), 0.7, loss)\n",
    "        \n",
    "        # Apply BCE to each example\n",
    "        losses = jax.vmap(lambda x, y: safe_bce(x, y))(logits, yb)\n",
    "        \n",
    "        # Safe mean calculation - no conditional branches!\n",
    "        valid_mask = jnp.isfinite(losses)\n",
    "        valid_count = jnp.sum(valid_mask)\n",
    "        \n",
    "        # Calculate mean of valid losses or return fallback\n",
    "        safe_sum = jnp.sum(jnp.where(valid_mask, losses, 0.0))\n",
    "        mean_loss = safe_sum / jnp.maximum(valid_count, 1.0)\n",
    "        \n",
    "        # Return mean_loss if there are valid items, else return fallback\n",
    "        return jnp.where(valid_count > 0, mean_loss, jnp.array(0.7))\n",
    "    \n",
    "    # Compute gradients w.r.t trainable parameters only\n",
    "    loss, grads = jax.value_and_grad(loss_fn)(trainable_params)\n",
    "    \n",
    "    # Apply gradient safety with JAX operations (if needed)\n",
    "    grads_safe = jax.tree.map(\n",
    "        lambda g: jnp.where(jnp.isnan(g) | ~jnp.isfinite(g), \n",
    "                           jnp.zeros_like(g), \n",
    "                           jnp.clip(g, -0.1, 0.1)),\n",
    "        grads\n",
    "    )\n",
    "    \n",
    "    # Update only trainable parameters\n",
    "    updates, opt_state_new = optimizer.update(grads_safe, opt_state)\n",
    "    trainable_params_updated = eqx.apply_updates(trainable_params, updates)\n",
    "    \n",
    "    # Recombine for full model\n",
    "    model_updated = eqx.combine(trainable_params_updated, static_params)\n",
    "    \n",
    "    return model_updated, opt_state_new, loss\n",
    "\n",
    "@eqx.filter_jit\n",
    "def evaluate_batch(model, Xb, yb):\n",
    "    \"\"\"Evaluate model on a single batch.\"\"\"\n",
    "    return loss_fn(model, Xb, yb)\n",
    "\n",
    "def evaluate(model, X, y, batch_size):\n",
    "    \"\"\"Evaluate model on full dataset by processing in batches.\"\"\"\n",
    "    total_loss = 0.0\n",
    "    total_samples = 0\n",
    "    \n",
    "    # Process in batches\n",
    "    num_batches = (len(X) + batch_size - 1) // batch_size\n",
    "    \n",
    "    for i in range(num_batches):\n",
    "        start_idx = i * batch_size\n",
    "        end_idx = min(start_idx + batch_size, len(X))\n",
    "        \n",
    "        Xb = X[start_idx:end_idx]\n",
    "        yb = y[start_idx:end_idx]\n",
    "        \n",
    "        # Use the JIT-compiled evaluate_batch function\n",
    "        batch_loss = evaluate_batch(model, Xb, yb)\n",
    "        \n",
    "        # Accumulate weighted loss\n",
    "        batch_size_actual = end_idx - start_idx\n",
    "        total_loss += float(batch_loss) * batch_size_actual\n",
    "        total_samples += batch_size_actual\n",
    "    \n",
    "    # Return average loss\n",
    "    return total_loss / total_samples if total_samples > 0 else 0.0\n",
    "\n",
    "def train(model, batch_size, x, labels, vocabulary, x_val=None, y_val=None, \n",
    "          x_test=None, y_test=None, num_epochs=1, eval_every=10):\n",
    "    \"\"\"Training function with validation and test evaluation.\"\"\"\n",
    "    # Partition the model for proper initialization\n",
    "    trainable_params, _ = eqx.partition(model, eqx.is_inexact_array)\n",
    "    \n",
    "    # Initialize optimizer with only trainable parameters\n",
    "    optimizer = optax.adam(1e-3)\n",
    "    opt_state = optimizer.init(trainable_params)\n",
    "    \n",
    "    # Track losses\n",
    "    all_train_losses = []\n",
    "    all_val_losses = []\n",
    "    \n",
    "    # Iterate through epochs\n",
    "    for epoch in tqdm(range(num_epochs)):\n",
    "        # Shuffle data at each epoch\n",
    "        key = jax.random.PRNGKey(epoch)\n",
    "        perm = jax.random.permutation(key, len(x))\n",
    "        x_shuffled = x[perm]\n",
    "        labels_shuffled = labels[perm]\n",
    "        \n",
    "        # Create batches\n",
    "        num_batches = (len(x) + batch_size - 1) // batch_size\n",
    "        \n",
    "        # Iterate through batches\n",
    "        epoch_losses = []\n",
    "        for i in range(num_batches):\n",
    "            start_idx = i * batch_size\n",
    "            end_idx = min(start_idx + batch_size, len(x))\n",
    "            \n",
    "            Xb = x_shuffled[start_idx:end_idx]\n",
    "            yb = labels_shuffled[start_idx:end_idx]\n",
    "            \n",
    "            # Apply the JIT-compiled training step\n",
    "            model, opt_state, loss = train_step(\n",
    "                model, opt_state, Xb, yb, optimizer\n",
    "            )\n",
    "            \n",
    "            # Store loss\n",
    "            epoch_losses.append(float(loss))\n",
    "        \n",
    "        # Calculate average training loss for this epoch\n",
    "        avg_train_loss = sum(epoch_losses) / len(epoch_losses) if epoch_losses else 0.0\n",
    "        all_train_losses.append(avg_train_loss)\n",
    "        \n",
    "        # Evaluate on validation set periodically\n",
    "        if x_val is not None and y_val is not None and (epoch % eval_every == 0 or epoch == num_epochs - 1):\n",
    "            val_loss = evaluate(model, x_val, y_val, batch_size)\n",
    "            all_val_losses.append(val_loss)\n",
    "            print(f\"Epoch {epoch}, Train Loss: {avg_train_loss:.6f}, Val Loss: {val_loss:.6f}\")\n",
    "        else:\n",
    "            print(f\"Epoch {epoch}, Train Loss: {avg_train_loss:.6f}\")\n",
    "    \n",
    "    # Evaluate on test set after training is complete\n",
    "    if x_test is not None and y_test is not None:\n",
    "        test_loss = evaluate(model, x_test, y_test, batch_size)\n",
    "        print(f\"Final Test Loss: {test_loss:.6f}\")\n",
    "    \n",
    "    return model, all_train_losses, all_val_losses\n",
    "\n",
    "key = jr.PRNGKey(0)\n",
    "model_key, usage_key = jr.split(key)\n",
    "\n",
    "vocab_size = len(vocabulary)\n",
    "d = 256*4\n",
    "num_layers = 1\n",
    "num_heads = 25\n",
    "dropout_rate = 0.0\n",
    "attention_dropout_rate = 0.0\n",
    "max_len = 25\n",
    "model = TransformerModel(\n",
    "    vocab_size=vocab_size,\n",
    "    embed_dim=d,\n",
    "    intermediate_size=d*2,\n",
    "    num_layers=num_layers,\n",
    "    num_heads=num_heads,\n",
    "    dropout_rate=dropout_rate,\n",
    "    attention_dropout_rate=attention_dropout_rate,\n",
    "    key=model_key\n",
    ")\n",
    "\n",
    "# Prepare a batch of integer token sequences\n",
    "# Each token is an integer index in the range [0, vocab_size)\n",
    "random_token_ids = jr.randint(usage_key, (batch_size, max_len), minval=0, maxval=vocab_size)\n",
    "\n",
    "# Forward pass: Pass the token batch through the model\n",
    "output_key = jr.PRNGKey(123)  # A separate key for model forward pass randomness\n",
    "logits = jax.vmap(lambda tokens: model(tokens, enable_dropout=False, key=output_key))(random_token_ids)[:, 0]\n",
    "\n",
    "batch_size = 32\n",
    "\n",
    "model, train_losses, val_losses = train(\n",
    "    model,\n",
    "    batch_size,\n",
    "    X_train,\n",
    "    y_train,\n",
    "    vocabulary,\n",
    "    x_val=X_val,\n",
    "    y_val=y_val,\n",
    "    x_test=X_test,\n",
    "    y_test=y_test,\n",
    "    num_epochs=150,\n",
    "    eval_every=1  # Evaluate on validation set every k epochs\n",
    ")"
   ]
  },
  {
   "cell_type": "markdown",
   "metadata": {},
   "source": [
    "# Toy Task"
   ]
  },
  {
   "cell_type": "code",
   "execution_count": null,
   "metadata": {},
   "outputs": [
    {
     "name": "stdout",
     "output_type": "stream",
     "text": [
      "Creating synthetic data...\n",
      "Data created: 1000 samples\n",
      "Positive examples: 500\n",
      "Negative examples: 500\n",
      "Creating transformer model...\n",
      "Starting training...\n",
      "Epoch | Batch | Loss       | Accuracy\n",
      "------|-------|------------|----------\n",
      "   0 |     0 | 0.82304424 | 0.68750000\n",
      "   0 |    10 | 0.36191326 | 0.87500000\n",
      "   0 |    20 | 0.21637544 | 0.93750000\n",
      "   0 |    30 | 0.25524199 | 0.90625000\n",
      "   1 |     0 | 0.25005803 | 0.87500000\n",
      "   1 |    10 | 0.14104906 | 0.96875000\n",
      "   1 |    20 | 0.25721368 | 0.87500000\n",
      "   1 |    30 | 0.05229429 | 1.00000000\n",
      "   2 |     0 | 0.20732714 | 0.90625000\n",
      "   2 |    10 | 0.17028132 | 0.93750000\n",
      "   2 |    20 | 0.32924402 | 0.87500000\n",
      "   2 |    30 | 0.26984894 | 0.90625000\n",
      "   3 |     0 | 0.07535803 | 1.00000000\n",
      "   3 |    10 | 0.09664930 | 0.96875000\n",
      "   3 |    20 | 0.25647137 | 0.90625000\n",
      "   3 |    30 | 0.16429207 | 0.93750000\n",
      "   4 |     0 | 0.02172125 | 1.00000000\n",
      "   4 |    10 | 0.02362481 | 1.00000000\n",
      "   4 |    20 | 0.01359442 | 1.00000000\n",
      "   4 |    30 | 0.07932996 | 0.96875000\n",
      "   5 |     0 | 0.02376908 | 1.00000000\n",
      "   5 |    10 | 0.00794115 | 1.00000000\n",
      "   5 |    20 | 0.00985392 | 1.00000000\n",
      "   5 |    30 | 0.00841882 | 1.00000000\n",
      "   6 |     0 | 0.00434272 | 1.00000000\n",
      "   6 |    10 | 0.00427539 | 1.00000000\n",
      "   6 |    20 | 0.00286837 | 1.00000000\n",
      "   6 |    30 | 0.05863199 | 1.00000000\n",
      "   7 |     0 | 0.00261076 | 1.00000000\n",
      "   7 |    10 | 0.00649091 | 1.00000000\n",
      "   7 |    20 | 0.00239842 | 1.00000000\n",
      "   7 |    30 | 0.00317243 | 1.00000000\n",
      "   8 |     0 | 0.00377616 | 1.00000000\n",
      "   8 |    10 | 0.00217527 | 1.00000000\n",
      "   8 |    20 | 0.00223028 | 1.00000000\n",
      "   8 |    30 | 0.00215731 | 1.00000000\n",
      "   9 |     0 | 0.00226296 | 1.00000000\n",
      "   9 |    10 | 0.00200700 | 1.00000000\n",
      "   9 |    20 | 0.00201427 | 1.00000000\n",
      "   9 |    30 | 0.00211124 | 1.00000000\n",
      "\n",
      "Training completed in 4.32 seconds\n",
      "Final accuracy: 1.0000\n",
      "Results plotted and saved to 'transformer_test_results.png'\n"
     ]
    },
    {
     "data": {
      "image/png": "[encoded data removed]",
      "text/plain": [
       "<Figure size 1200x500 with 2 Axes>"
      ]
     },
     "metadata": {},
     "output_type": "display_data"
    }
   ],
   "source": [
    "import jax\n",
    "import jax.numpy as jnp\n",
    "import jax.random as jr\n",
    "import equinox as eqx\n",
    "import optax\n",
    "import numpy as np\n",
    "import matplotlib.pyplot as plt\n",
    "from typing import List, Optional, Tuple\n",
    "import time\n",
    "\n",
    "\n",
    "def create_synthetic_data(key, num_samples=1000, seq_len=15, vocab_size=20):\n",
    "    \"\"\"\n",
    "    Create a synthetic dataset that should be easy for a transformer to learn:\n",
    "    - If token ID 5 appears in the first 3 positions -> label = 1\n",
    "    - Otherwise -> label = 0\n",
    "    \"\"\"\n",
    "    subkey1, subkey2 = jr.split(key)\n",
    "    \n",
    "    # Create random sequences\n",
    "    sequences = jr.randint(subkey1, (num_samples, seq_len), 0, vocab_size)\n",
    "    \n",
    "    # Create labels: 1 if token 5 appears in first 3 positions\n",
    "    has_token_5 = (sequences[:, :3] == 5).any(axis=1)\n",
    "    labels = has_token_5.astype(jnp.float32)\n",
    "    \n",
    "    # Ensure roughly 50/50 split of positive and negative examples\n",
    "    pos_count = labels.sum()\n",
    "    neg_count = num_samples - pos_count\n",
    "    \n",
    "    if pos_count < num_samples // 2:\n",
    "        # Need more positive examples\n",
    "        needed = num_samples // 2 - pos_count\n",
    "        neg_indices = jnp.where(~has_token_5)[0]\n",
    "        selected = neg_indices[:int(needed)]\n",
    "        \n",
    "        # Add token 5 to first position of selected examples\n",
    "        sequences = sequences.at[selected, 0].set(5)\n",
    "        labels = labels.at[selected].set(1.0)\n",
    "    elif neg_count < num_samples // 2:\n",
    "        # Need more negative examples\n",
    "        needed = num_samples // 2 - neg_count\n",
    "        pos_indices = jnp.where(has_token_5)[0]\n",
    "        selected = pos_indices[:int(needed)]\n",
    "        \n",
    "        # Remove token 5 from first 3 positions\n",
    "        for i in selected:\n",
    "            for j in range(3):\n",
    "                if sequences[i, j] == 5:\n",
    "                    sequences = sequences.at[i, j].set(0)\n",
    "        labels = labels.at[selected].set(0.0)\n",
    "    \n",
    "    # Shuffle the data\n",
    "    shuffle_key = jr.split(subkey2)[0]\n",
    "    perm = jr.permutation(shuffle_key, num_samples)\n",
    "    sequences = sequences[perm]\n",
    "    labels = labels[perm]\n",
    "    \n",
    "    return sequences, labels\n",
    "\n",
    "@eqx.filter_jit\n",
    "def compute_loss(model, x_batch, y_batch, key=None):\n",
    "    \"\"\"Compute BCE loss for a batch\"\"\"\n",
    "    # Call model on each sequence in the batch\n",
    "    logits = jax.vmap(lambda tokens: model(tokens, enable_dropout=False, key=key))(x_batch)\n",
    "    \n",
    "    # Extract the first token logit for classification\n",
    "    logits = logits[:, 0]  # Use this if classifying based on first token\n",
    "    \n",
    "    # Sigmoid cross-entropy loss\n",
    "    probas = jax.nn.sigmoid(logits)\n",
    "    # Add small epsilon to prevent log of 0\n",
    "    epsilon = 1e-6\n",
    "    probas = jnp.clip(probas, epsilon, 1.0 - epsilon)\n",
    "    bce_loss = -y_batch * jnp.log(probas) - (1 - y_batch) * jnp.log(1 - probas)\n",
    "    return bce_loss.mean()\n",
    "\n",
    "@eqx.filter_jit\n",
    "def compute_accuracy(model, x_batch, y_batch, key=None):\n",
    "    \"\"\"Compute accuracy for a batch\"\"\"\n",
    "    logits = jax.vmap(lambda tokens: model(tokens, enable_dropout=False, key=key))(x_batch)\n",
    "    probas = jax.nn.sigmoid(logits[:, 0])\n",
    "    predictions = (probas > 0.5).astype(jnp.float32)\n",
    "    return (predictions == y_batch).mean()\n",
    "\n",
    "@eqx.filter_jit\n",
    "def train_step(model, opt_state, x_batch, y_batch, optimizer, key=None):\n",
    "    \"\"\"Single training step\"\"\"\n",
    "    # Split model into trainable and static parts\n",
    "    trainable, static = eqx.partition(model, eqx.is_inexact_array)\n",
    "    \n",
    "    # Define loss function for computing gradients\n",
    "    def loss_fn(trainable_params):\n",
    "        # Combine trainable and static parameters\n",
    "        model_combined = eqx.combine(trainable_params, static)\n",
    "        # Compute loss\n",
    "        return compute_loss(model_combined, x_batch, y_batch, key)\n",
    "    \n",
    "    # Compute gradients and loss\n",
    "    loss, grads = jax.value_and_grad(loss_fn)(trainable)\n",
    "    \n",
    "    # Clip gradients to prevent NaN issues\n",
    "    grads = jax.tree.map(\n",
    "        lambda g: jnp.clip(g, -1.0, 1.0),\n",
    "        grads\n",
    "    )\n",
    "    \n",
    "    # Update parameters\n",
    "    updates, new_opt_state = optimizer.update(grads, opt_state)\n",
    "    new_model = eqx.apply_updates(model, updates)\n",
    "    \n",
    "    return new_model, new_opt_state, loss\n",
    "\n",
    "def main():\n",
    "    # Set random seed for reproducibility\n",
    "    key = jr.PRNGKey(42)\n",
    "    key, data_key, model_key = jr.split(key, 3)\n",
    "    \n",
    "    # Create synthetic data\n",
    "    print(\"Creating synthetic data...\")\n",
    "    num_samples = 1000\n",
    "    seq_len = 15\n",
    "    vocab_size = 20\n",
    "    train_x, train_y = create_synthetic_data(data_key, num_samples, seq_len, vocab_size)\n",
    "    \n",
    "    # Print data statistics\n",
    "    print(f\"Data created: {num_samples} samples\")\n",
    "    print(f\"Positive examples: {int(train_y.sum())}\")\n",
    "    print(f\"Negative examples: {int(num_samples - train_y.sum())}\")\n",
    "    \n",
    "    # Create model with simplified architecture\n",
    "    print(\"Creating transformer model...\")\n",
    "    model = TransformerModel(\n",
    "        vocab_size=vocab_size,\n",
    "        embed_dim=64,           # Smaller embedding size\n",
    "        intermediate_size=128,  # Smaller hidden size\n",
    "        num_layers=1,           # Start with 2 layers\n",
    "        num_heads=4,            # Reasonable number of attention heads\n",
    "        dropout_rate=0.1,       # Add some regularization\n",
    "        attention_dropout_rate=0.1,\n",
    "        key=model_key\n",
    "    )\n",
    "    \n",
    "    # Create optimizer\n",
    "    learning_rate = 1e-3\n",
    "    optimizer = optax.adam(learning_rate)\n",
    "    \n",
    "    # Initialize optimizer state (only on trainable params)\n",
    "    trainable, _ = eqx.partition(model, eqx.is_inexact_array)\n",
    "    opt_state = optimizer.init(trainable)\n",
    "    \n",
    "    # Training parameters\n",
    "    batch_size = 32\n",
    "    num_epochs = 10\n",
    "    steps_per_epoch = num_samples // batch_size\n",
    "    \n",
    "    # Track metrics\n",
    "    loss_history = []\n",
    "    accuracy_history = []\n",
    "    \n",
    "    # Training loop\n",
    "    print(\"Starting training...\")\n",
    "    print(\"Epoch | Batch | Loss       | Accuracy\")\n",
    "    print(\"------|-------|------------|----------\")\n",
    "    \n",
    "    start_time = time.time()\n",
    "    \n",
    "    for epoch in range(num_epochs):\n",
    "        # Shuffle data for each epoch\n",
    "        epoch_key = jr.fold_in(key, epoch)\n",
    "        perm = jr.permutation(epoch_key, num_samples)\n",
    "        x_shuffled = train_x[perm]\n",
    "        y_shuffled = train_y[perm]\n",
    "        \n",
    "        # Batch training\n",
    "        for i in range(steps_per_epoch):\n",
    "            # Extract batch\n",
    "            start_idx = i * batch_size\n",
    "            end_idx = min(start_idx + batch_size, num_samples)\n",
    "            x_batch = x_shuffled[start_idx:end_idx]\n",
    "            y_batch = y_shuffled[start_idx:end_idx]\n",
    "            \n",
    "            # Generate key for this step\n",
    "            step_key = jr.fold_in(epoch_key, i)\n",
    "            \n",
    "            # Train on batch\n",
    "            model, opt_state, loss = train_step(\n",
    "                model, opt_state, x_batch, y_batch, optimizer, key=step_key\n",
    "            )\n",
    "            \n",
    "            # Track loss\n",
    "            loss_value = float(loss)\n",
    "            loss_history.append(loss_value)\n",
    "            \n",
    "            # Print progress every 10 batches\n",
    "            if i % 10 == 0:\n",
    "                # Compute accuracy on this batch\n",
    "                accuracy = float(compute_accuracy(model, x_batch, y_batch))\n",
    "                accuracy_history.append(accuracy)\n",
    "                \n",
    "                # Print formatted output\n",
    "                print(f\"{epoch:4d} | {i:5d} | {loss_value:.8f} | {accuracy:.8f}\")\n",
    "    \n",
    "    elapsed_time = time.time() - start_time\n",
    "    print(f\"\\nTraining completed in {elapsed_time:.2f} seconds\")\n",
    "    \n",
    "    # Final evaluation on all data\n",
    "    final_accuracy = float(compute_accuracy(model, train_x, train_y))\n",
    "    print(f\"Final accuracy: {final_accuracy:.4f}\")\n",
    "    \n",
    "    # Plot loss and accuracy\n",
    "    plt.figure(figsize=(12, 5))\n",
    "    \n",
    "    plt.subplot(1, 2, 1)\n",
    "    plt.plot(loss_history)\n",
    "    plt.title('Training Loss')\n",
    "    plt.xlabel('Batch')\n",
    "    plt.ylabel('BCE Loss')\n",
    "    \n",
    "    plt.subplot(1, 2, 2)\n",
    "    plt.plot(accuracy_history)\n",
    "    plt.title('Training Accuracy')\n",
    "    plt.xlabel('Batch (every 10th)')\n",
    "    plt.ylabel('Accuracy')\n",
    "    plt.ylim(0.6, 1.05)\n",
    "    plt.axhline(y=1, linestyle=\":\", color=\"black\")  # You can change color as needed\n",
    "    \n",
    "    plt.tight_layout()\n",
    "    plt.savefig('transformer_test_results.png')\n",
    "    print(\"Results plotted and saved to 'transformer_test_results.png'\")\n",
    "\n",
    "main()"
   ]
  },
  {
   "cell_type": "code",
   "execution_count": 132,
   "metadata": {},
   "outputs": [
    {
     "name": "stdout",
     "output_type": "stream",
     "text": [
      "Creating synthetic data...\n",
      "Data created: 1000 samples\n",
      "Positive examples: 500\n",
      "Negative examples: 500\n",
      "Starting training...\n",
      "Epoch | Batch | Loss       | Accuracy\n",
      "------|-------|------------|----------\n",
      "   0 |     0 | 0.73869526 | 0.62500000\n",
      "  Embedding norm: 1.0000, Relation norm: 1.0000\n",
      "   0 |    10 | 0.42065781 | 0.90625000\n",
      "   0 |    20 | 0.39748910 | 0.93750000\n",
      "   0 |    30 | 0.41872573 | 0.90625000\n",
      "   1 |     0 | 0.43873477 | 0.87500000\n",
      "  Embedding norm: 1.0000, Relation norm: 1.0000\n",
      "   1 |    10 | 0.34664875 | 0.96875000\n",
      "   1 |    20 | 0.43481317 | 0.87500000\n",
      "   1 |    30 | 0.31614554 | 1.00000000\n",
      "   2 |     0 | 0.37688518 | 0.93750000\n",
      "  Embedding norm: 1.0000, Relation norm: 1.0000\n",
      "   2 |    10 | 0.44078040 | 0.87500000\n",
      "   2 |    20 | 0.46840197 | 0.84375000\n",
      "   2 |    30 | 0.47017789 | 0.84375000\n",
      "   3 |     0 | 0.34476238 | 0.96875000\n",
      "  Embedding norm: 1.0000, Relation norm: 1.0000\n",
      "   3 |    10 | 0.43783927 | 0.87500000\n",
      "   3 |    20 | 0.43662471 | 0.87500000\n",
      "   3 |    30 | 0.50034094 | 0.81250000\n",
      "   4 |     0 | 0.40802944 | 0.90625000\n",
      "  Embedding norm: 1.0000, Relation norm: 1.0000\n",
      "   4 |    10 | 0.37790251 | 0.93750000\n",
      "   4 |    20 | 0.43809631 | 0.87500000\n",
      "   4 |    30 | 0.37673464 | 0.93750000\n",
      "   5 |     0 | 0.40729183 | 0.90625000\n",
      "  Embedding norm: 1.0000, Relation norm: 1.0000\n",
      "   5 |    10 | 0.31629395 | 1.00000000\n",
      "   5 |    20 | 0.34633374 | 0.96875000\n",
      "   5 |    30 | 0.37592307 | 0.93750000\n",
      "   6 |     0 | 0.43816218 | 0.87500000\n",
      "  Embedding norm: 1.0000, Relation norm: 1.0000\n",
      "   6 |    10 | 0.43504709 | 0.87500000\n",
      "   6 |    20 | 0.34402284 | 0.96875000\n",
      "   6 |    30 | 0.40722823 | 0.90625000\n",
      "   7 |     0 | 0.37730348 | 0.93750000\n",
      "  Embedding norm: 1.0000, Relation norm: 1.0000\n",
      "   7 |    10 | 0.40701365 | 0.90625000\n",
      "   7 |    20 | 0.43827471 | 0.87500000\n",
      "   7 |    30 | 0.50085843 | 0.81250000\n",
      "   8 |     0 | 0.40617606 | 0.90625000\n",
      "  Embedding norm: 1.0000, Relation norm: 1.0000\n",
      "   8 |    10 | 0.47021419 | 0.84375000\n",
      "   8 |    20 | 0.43829012 | 0.87500000\n",
      "   8 |    30 | 0.43824744 | 0.87500000\n",
      "   9 |     0 | 0.43886006 | 0.87500000\n",
      "  Embedding norm: 1.0000, Relation norm: 1.0000\n",
      "   9 |    10 | 0.43883312 | 0.87500000\n",
      "   9 |    20 | 0.46957034 | 0.84375000\n",
      "   9 |    30 | 0.37451494 | 0.93750000\n",
      "\n",
      "Training completed in 8.59 seconds\n",
      "Final accuracy: 0.9050\n",
      "Results plotted and saved to 'kg_transformer_test_results.png'\n"
     ]
    },
    {
     "data": {
      "image/png": "[encoded data removed]",
      "text/plain": [
       "<Figure size 1200x500 with 2 Axes>"
      ]
     },
     "metadata": {},
     "output_type": "display_data"
    }
   ],
   "source": [
    "import jax\n",
    "import jax.numpy as jnp\n",
    "import jax.random as jr\n",
    "import equinox as eqx\n",
    "import optax\n",
    "import numpy as np\n",
    "import matplotlib.pyplot as plt\n",
    "from typing import NamedTuple\n",
    "import time\n",
    "\n",
    "class RAdamState(NamedTuple):\n",
    "    count: jnp.ndarray\n",
    "    m: jnp.ndarray\n",
    "    v: jnp.ndarray\n",
    "\n",
    "def init_radam(params: jnp.ndarray,\n",
    "               lr: float = 1e-3,\n",
    "               b1: float = 0.9,\n",
    "               b2: float = 0.999,\n",
    "               eps: float = 1e-8):\n",
    "    \"\"\"Initialize Riemannian Adam state for quaternionic parameters.\"\"\"\n",
    "    zero = jnp.zeros_like(params)\n",
    "    return RAdamState(count=jnp.array(0), m=zero, v=zero), (lr, b1, b2, eps)\n",
    "\n",
    "def radam_update(p: jnp.ndarray,\n",
    "                 g: jnp.ndarray,\n",
    "                 state: RAdamState,\n",
    "                 hyper: tuple) -> tuple[jnp.ndarray, RAdamState]:\n",
    "    \"\"\"Ultra-safe Riemannian Adam for quaternionic tensor p of shape (...,4).\"\"\"\n",
    "    lr, b1, b2, eps = hyper\n",
    "    \n",
    "    # Lower learning rate for stability\n",
    "    actual_lr = lr * 0.1\n",
    "    \n",
    "    # Safety check inputs\n",
    "    p = jnp.where(jnp.isnan(p), jnp.ones_like(p) * 0.01, p)\n",
    "    g = jnp.where(jnp.isnan(g), jnp.zeros_like(g), g)\n",
    "    g = jnp.clip(g, -1.0, 1.0)  # Aggressive gradient clipping\n",
    "    \n",
    "    # Project Euclidean gradient onto tangent space of S³\n",
    "    inner = jnp.sum(p * g, axis=-1, keepdims=True)\n",
    "    g_tan = g - p * inner\n",
    "    g_tan = jnp.clip(g_tan, -0.5, 0.5)  # More clipping\n",
    "    \n",
    "    # Update biased first/second moments with safety\n",
    "    count = state.count + 1\n",
    "    m = b1 * state.m + (1 - b1) * g_tan\n",
    "    v = b2 * state.v + (1 - b2) * (g_tan ** 2)\n",
    "    \n",
    "    # Bias correction with extreme safety\n",
    "    b1_power = jnp.clip(b1**count, 1e-10, 1.0 - 1e-10)\n",
    "    b2_power = jnp.clip(b2**count, 1e-10, 1.0 - 1e-10)\n",
    "    \n",
    "    m_hat = m / (1.0 - b1_power)\n",
    "    v_hat = v / (1.0 - b2_power)\n",
    "    \n",
    "    # Clip moment estimates to prevent explosions\n",
    "    m_hat = jnp.clip(m_hat, -1.0, 1.0)\n",
    "    v_hat = jnp.clip(v_hat, 1e-7, 1.0)\n",
    "    \n",
    "    # Compute update direction with extreme caution\n",
    "    u = m_hat / (jnp.sqrt(v_hat) + eps * 10.0)\n",
    "    u = jnp.clip(u, -0.5, 0.5)  # Clip update direction\n",
    "    \n",
    "    # Cautious retraction step\n",
    "    p_new = p - actual_lr * u\n",
    "    \n",
    "    # Safe normalization\n",
    "    norms = jnp.linalg.norm(p_new, axis=-1, keepdims=True)\n",
    "    safe_norms = jnp.maximum(norms, 1e-5)\n",
    "    p_new = p_new / safe_norms\n",
    "    \n",
    "    # Final safety check\n",
    "    p_new = jnp.where(jnp.isnan(p_new), p, p_new)\n",
    "    \n",
    "    return p_new, RAdamState(count=count, m=m, v=v)\n",
    "\n",
    "def create_synthetic_data(key, num_samples=1000, seq_len=15, vocab_size=20):\n",
    "    \"\"\"Create a synthetic dataset that should be easy to learn.\"\"\"\n",
    "    subkey1, subkey2 = jr.split(key)\n",
    "    \n",
    "    # Create random sequences\n",
    "    sequences = jr.randint(subkey1, (num_samples, seq_len), 0, vocab_size)\n",
    "    \n",
    "    # Create labels: 1 if token 5 appears in first 3 positions\n",
    "    has_token_5 = (sequences[:, :3] == 5).any(axis=1)\n",
    "    labels = has_token_5.astype(jnp.float32)\n",
    "    \n",
    "    # Ensure 50/50 split of positive and negative examples\n",
    "    pos_count = labels.sum()\n",
    "    neg_count = num_samples - pos_count\n",
    "    \n",
    "    if pos_count < num_samples // 2:\n",
    "        # Add more positive examples\n",
    "        needed = num_samples // 2 - pos_count\n",
    "        neg_indices = jnp.where(~has_token_5)[0]\n",
    "        selected = neg_indices[:int(needed)]\n",
    "        sequences = sequences.at[selected, 0].set(5)\n",
    "        labels = labels.at[selected].set(1.0)\n",
    "    elif neg_count < num_samples // 2:\n",
    "        # Add more negative examples\n",
    "        needed = num_samples // 2 - neg_count\n",
    "        pos_indices = jnp.where(has_token_5)[0]\n",
    "        selected = pos_indices[:int(needed)]\n",
    "        for i in selected:\n",
    "            for j in range(3):\n",
    "                if sequences[i, j] == 5:\n",
    "                    sequences = sequences.at[i, j].set(0)\n",
    "        labels = labels.at[selected].set(0.0)\n",
    "    \n",
    "    # Shuffle the data\n",
    "    shuffle_key = jr.split(subkey2)[0]\n",
    "    perm = jr.permutation(shuffle_key, num_samples)\n",
    "    sequences = sequences[perm]\n",
    "    labels = labels[perm]\n",
    "    \n",
    "    return sequences, labels\n",
    "\n",
    "@eqx.filter_jit\n",
    "def compute_loss(model, x_batch, y_batch):\n",
    "    \"\"\"Compute BCE loss for a batch.\"\"\"\n",
    "    logits = jax.vmap(model)(x_batch)\n",
    "    \n",
    "    # Sigmoid cross-entropy loss with safety\n",
    "    probas = jax.nn.sigmoid(logits)\n",
    "    epsilon = 1e-6\n",
    "    probas = jnp.clip(probas, epsilon, 1.0 - epsilon)\n",
    "    bce_loss = -y_batch * jnp.log(probas) - (1 - y_batch) * jnp.log(1 - probas)\n",
    "    return jnp.mean(bce_loss)\n",
    "\n",
    "@eqx.filter_jit\n",
    "def compute_accuracy(model, x_batch, y_batch):\n",
    "    \"\"\"Compute accuracy for a batch.\"\"\"\n",
    "    logits = jax.vmap(model)(x_batch)\n",
    "    probas = jax.nn.sigmoid(logits)\n",
    "    predictions = (probas > 0.5).astype(jnp.float32)\n",
    "    return jnp.mean(jnp.equal(predictions, y_batch))\n",
    "\n",
    "@eqx.filter_jit\n",
    "def train_step(model, euclid_state, emb_state, rel_state, x_batch, y_batch, euclid_opt, emb_hyper, rel_hyper):\n",
    "    \"\"\"Single training step with quaternionic optimization.\"\"\"\n",
    "    # Compute gradients\n",
    "    loss, grads = eqx.filter_value_and_grad(lambda m: compute_loss(m, x_batch, y_batch))(model)\n",
    "    \n",
    "    # Clean gradients\n",
    "    grads_safe = jax.tree.map(\n",
    "        lambda g: jnp.where(jnp.isnan(g) | ~jnp.isfinite(g), \n",
    "                          jnp.zeros_like(g), \n",
    "                          jnp.clip(g, -0.1, 0.1)) if hasattr(g, 'shape') and g.shape != () else g,\n",
    "        grads\n",
    "    )\n",
    "    \n",
    "    # 1. Standard Adam update for all parameters\n",
    "    updates, euclid_state_new = euclid_opt.update(grads_safe, euclid_state, model)\n",
    "    model_updated = optax.apply_updates(model, updates)\n",
    "    \n",
    "    # 2. Riemannian Adam update for embeddings\n",
    "    new_embs, emb_state_new = radam_update(\n",
    "        model_updated.embed.embeddings,\n",
    "        grads_safe.embed.embeddings,\n",
    "        emb_state,\n",
    "        emb_hyper\n",
    "    )\n",
    "    model_with_embs = eqx.tree_at(lambda m: m.embed.embeddings, model_updated, new_embs)\n",
    "    \n",
    "    # 3. Riemannian Adam update for attention relations\n",
    "    new_rels, rel_state_new = radam_update(\n",
    "        model_with_embs.att.relations,\n",
    "        grads_safe.att.relations,\n",
    "        rel_state,\n",
    "        rel_hyper\n",
    "    )\n",
    "    model_final = eqx.tree_at(lambda m: m.att.relations, model_with_embs, new_rels)\n",
    "    \n",
    "    return model_final, euclid_state_new, emb_state_new, rel_state_new, loss\n",
    "\n",
    "def main(model):\n",
    "    \"\"\"End-to-end test for KGTransformer with Riemannian optimization.\"\"\"\n",
    "    # Set random seed for reproducibility\n",
    "    key = jr.PRNGKey(42)\n",
    "    key, data_key = jr.split(key)\n",
    "    \n",
    "    # Create synthetic data\n",
    "    print(\"Creating synthetic data...\")\n",
    "    num_samples = 1000\n",
    "    seq_len = 15\n",
    "    vocab_size = 20\n",
    "    train_x, train_y = create_synthetic_data(data_key, num_samples, seq_len, vocab_size)\n",
    "    \n",
    "    # Print data statistics\n",
    "    print(f\"Data created: {num_samples} samples\")\n",
    "    print(f\"Positive examples: {int(train_y.sum())}\")\n",
    "    print(f\"Negative examples: {int(num_samples - train_y.sum())}\")\n",
    "    \n",
    "    # Initialize optimizers\n",
    "    euclid_opt = optax.adam(5e-4)  # Lower learning rate for stability\n",
    "    euclid_state = euclid_opt.init(model)\n",
    "    \n",
    "    # Initialize Riemannian optimizers for quaternion parameters\n",
    "    emb_state, emb_hyper = init_radam(model.embed.embeddings, lr=1e-3)\n",
    "    rel_state, rel_hyper = init_radam(model.att.relations, lr=1e-3)\n",
    "    \n",
    "    # Training parameters\n",
    "    batch_size = 32\n",
    "    num_epochs = 10\n",
    "    steps_per_epoch = num_samples // batch_size\n",
    "    \n",
    "    # Track metrics\n",
    "    loss_history = []\n",
    "    accuracy_history = []\n",
    "    \n",
    "    # Training loop\n",
    "    print(\"Starting training...\")\n",
    "    print(\"Epoch | Batch | Loss       | Accuracy\")\n",
    "    print(\"------|-------|------------|----------\")\n",
    "    \n",
    "    start_time = time.time()\n",
    "    \n",
    "    for epoch in range(num_epochs):\n",
    "        # Shuffle data for each epoch\n",
    "        epoch_key = jr.fold_in(key, epoch)\n",
    "        perm = jr.permutation(epoch_key, num_samples)\n",
    "        x_shuffled = train_x[perm]\n",
    "        y_shuffled = train_y[perm]\n",
    "        \n",
    "        # Batch training\n",
    "        for i in range(steps_per_epoch):\n",
    "            # Extract batch\n",
    "            start_idx = i * batch_size\n",
    "            end_idx = min(start_idx + batch_size, num_samples)\n",
    "            x_batch = x_shuffled[start_idx:end_idx]\n",
    "            y_batch = y_shuffled[start_idx:end_idx]\n",
    "            \n",
    "            # Apply training step with quaternionic optimization\n",
    "            model, euclid_state, emb_state, rel_state, loss = train_step(\n",
    "                model, euclid_state, emb_state, rel_state, \n",
    "                x_batch, y_batch, euclid_opt, emb_hyper, rel_hyper\n",
    "            )\n",
    "            \n",
    "            # Track loss\n",
    "            loss_value = float(loss)\n",
    "            loss_history.append(loss_value)\n",
    "            \n",
    "            # Print progress every 10 batches\n",
    "            if i % 10 == 0:\n",
    "                # Compute accuracy on this batch\n",
    "                accuracy = float(compute_accuracy(model, x_batch, y_batch))\n",
    "                accuracy_history.append(accuracy)\n",
    "                \n",
    "                # Print formatted output\n",
    "                print(f\"{epoch:4d} | {i:5d} | {loss_value:.8f} | {accuracy:.8f}\")\n",
    "                \n",
    "                # Monitor quaternion norms every 50 batches\n",
    "                if i % 50 == 0:\n",
    "                    emb_norm = float(jnp.mean(jnp.linalg.norm(model.embed.embeddings, axis=-1)))\n",
    "                    rel_norm = float(jnp.mean(jnp.linalg.norm(model.att.relations, axis=-1)))\n",
    "                    print(f\"  Embedding norm: {emb_norm:.4f}, Relation norm: {rel_norm:.4f}\")\n",
    "    \n",
    "    elapsed_time = time.time() - start_time\n",
    "    print(f\"\\nTraining completed in {elapsed_time:.2f} seconds\")\n",
    "    \n",
    "    # Final evaluation on all data\n",
    "    final_accuracy = float(compute_accuracy(model, train_x, train_y))\n",
    "    print(f\"Final accuracy: {final_accuracy:.4f}\")\n",
    "    \n",
    "    # Plot loss and accuracy\n",
    "    plt.figure(figsize=(12, 5))\n",
    "    \n",
    "    plt.subplot(1, 2, 1)\n",
    "    plt.plot(loss_history)\n",
    "    plt.title('Training Loss')\n",
    "    plt.xlabel('Batch')\n",
    "    plt.ylabel('BCE Loss')\n",
    "    \n",
    "    plt.subplot(1, 2, 2)\n",
    "    plt.plot(accuracy_history)\n",
    "    plt.title('Training Accuracy')\n",
    "    plt.xlabel('Batch (every 10th)')\n",
    "    plt.ylabel('Accuracy')\n",
    "\n",
    "    plt.ylim(0.6, 1.05)\n",
    "    plt.axhline(y=1, linestyle=\":\", color=\"black\")  # You can change color as needed\n",
    "    \n",
    "    plt.tight_layout()\n",
    "    plt.savefig('kg_transformer_test_results_rmgd.png')\n",
    "    print(\"Results plotted and saved to 'kg_transformer_test_results.png'\")\n",
    "    \n",
    "    return model, loss_history, accuracy_history\n",
    "\n",
    "# Initialize KGTransformer model\n",
    "key = jr.PRNGKey(123)\n",
    "model = KGTransformer(\n",
    "    d=64,                  # Embedding dimension\n",
    "    num_entities=20,       # Vocabulary size\n",
    "    num_heads=4,           # Attention heads\n",
    "    max_len=15,            # Maximum sequence length\n",
    "    key=key\n",
    ")\n",
    "\n",
    "# Run the test\n",
    "trained_model, loss_history, accuracy_history = main(model)"
   ]
  }
 ],
 "metadata": {
  "kernelspec": {
   "display_name": "phd",
   "language": "python",
   "name": "python3"
  },
  "language_info": {
   "codemirror_mode": {
    "name": "ipython",
    "version": 3
   },
   "file_extension": ".py",
   "mimetype": "text/x-python",
   "name": "python",
   "nbconvert_exporter": "python",
   "pygments_lexer": "ipython3",
   "version": "3.11.11"
  }
 },
 "nbformat": 4,
 "nbformat_minor": 2
}
